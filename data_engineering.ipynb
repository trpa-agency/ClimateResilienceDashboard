{
 "cells": [
  {
   "cell_type": "markdown",
   "metadata": {},
   "source": [
    "## Setup"
   ]
  },
  {
   "cell_type": "markdown",
   "metadata": {},
   "source": [
    "### Reduce Tahoe region greenhouse gas (GHG) emissions and support the measurement of carbon sequestration.  "
   ]
  },
  {
   "cell_type": "code",
   "execution_count": null,
   "metadata": {},
   "outputs": [],
   "source": [
    "# GHG Data\n",
    "ghgTable = \"https://maps.trpa.org/server/rest/services/LTinfo_Climate_Resilience_Dashboard/MapServer/124\""
   ]
  },
  {
   "cell_type": "markdown",
   "metadata": {},
   "source": [
    "### Track poor air quality, wildfire smoke, and extreme heat trends regionally."
   ]
  },
  {
   "cell_type": "code",
   "execution_count": null,
   "metadata": {},
   "outputs": [],
   "source": [
    "## getting Purple Air data\n",
    "\n",
    "# TRPA Air Quality Monitoring data\n",
    "trpaAirqualityStationLayer = \"https://maps.trpa.org/server/rest/services/LTInfo_Monitoring/MapServer/16\"\n",
    "trpaairqualityDailyTable   = \"https://maps.trpa.org/server/rest/services/LTInfo_Monitoring/MapServer/17\"\n",
    "trpaairqualityYearlyTable  = \"https://maps.trpa.org/server/rest/services/LTInfo_Monitoring/MapServer/46\""
   ]
  },
  {
   "cell_type": "code",
   "execution_count": null,
   "metadata": {},
   "outputs": [],
   "source": [
    "from arcgis.features import FeatureLayer\n",
    "import pandas as pd\n",
    "import plotly.express as px\n",
    "\n",
    "# Purple Air data\n",
    "purpleAirSensorLayer = \"https://maps.trpa.org/server/rest/services/LTinfo_Climate_Resilience_Dashboard/MapServer/143\"\n",
    "\n",
    "# get data as spatially enabled dataframe from feature layer\n",
    "fl = FeatureLayer(purpleAirSensorLayer)\n",
    "sdfPurpleAir = fl.query().sdf\n",
    "\n",
    "# groupby date and get the mean of pm25\n",
    "sdfPurpleAir = sdfPurpleAir.groupby('date')['mean_pm25'].mean().reset_index()\n",
    "# creat a plotly express line chart\n",
    "fig = px.line(sdfPurpleAir, x=\"date\", y=\"mean_pm25\", title='Purple Air PM2.5')\n",
    "fig.show()"
   ]
  },
  {
   "cell_type": "code",
   "execution_count": null,
   "metadata": {},
   "outputs": [],
   "source": [
    "# color background of plotly by x axis value and gradient fill\n",
    "fig = px.line(sdfPurpleAir, x=\"date\", y=\"mean_pm25\", title='Purple Air PM2.5', line_shape=\"spline\", render_mode=\"svg\")\n",
    "fig.update_traces(line_color='blue')\n",
    "fig.update_layout(plot_bgcolor='rgba(0,0,0,0)', paper_bgcolor='rgba(0,0,0,0)')\n",
    "fig.show()\n"
   ]
  },
  {
   "cell_type": "markdown",
   "metadata": {},
   "source": [
    "### Lake Tahoe water level"
   ]
  },
  {
   "cell_type": "code",
   "execution_count": null,
   "metadata": {},
   "outputs": [],
   "source": [
    "import plotly.express as px\n",
    "import pandas as pd\n",
    "import requests\n",
    "from datetime import datetime, timedelta\n",
    "\n",
    "# tahoe city site number\n",
    "site_number = '10337000'\n",
    "\n",
    "# USGS API URL\n",
    "url = f'https://waterservices.usgs.gov/nwis/iv/?format=json&sites={site_number}&parameterCd=00065&startDT=2021-01-01&endDT=2021-01-30'\n",
    "\n",
    "# function to get data from USGS API as dataframe\n",
    "def get_usgs_data(days):\n",
    "    site_number = 10337000\n",
    "    \n",
    "    # Calculate the start and end dates based on the selected time range\n",
    "    end_date = datetime.now()\n",
    "    start_date = end_date - timedelta(days=days)\n",
    "    \n",
    "    start_date_str = start_date.strftime('%Y-%m-%d')\n",
    "    end_date_str = end_date.strftime('%Y-%m-%d')\n",
    "    \n",
    "    url = f'https://waterservices.usgs.gov/nwis/iv/?format=json&sites={site_number}&parameterCd=00065&startDT={start_date_str}&endDT={end_date_str}'\n",
    "\n",
    "    response = requests.get(url)\n",
    "    data = response.json()\n",
    "\n",
    "    time_series_data = data['value']['timeSeries'][0]['values'][0]['value']\n",
    "\n",
    "    df = pd.DataFrame(time_series_data)\n",
    "    df['value'] = pd.to_numeric(df['value'])\n",
    "    df['dateTime'] = pd.to_datetime(df['dateTime'])\n",
    "    df['value'] = df['value'] + 6220\n",
    "    return df\n",
    "\n",
    "# create plot of lake level\n",
    "def update_chart(selected_days):\n",
    "    df = get_usgs_data(selected_days)\n",
    "\n",
    "    fig = px.line(df, x='dateTime', y='value', title='Lake Tahoe Water Level')\n",
    "    fig.update_xaxes(title_text='Time')\n",
    "    fig.update_yaxes(title_text='Water Level (ft)')\n",
    "\n",
    "    return fig\n",
    "\n",
    "# create plot of lake level\n",
    "update_chart(6000)"
   ]
  },
  {
   "cell_type": "code",
   "execution_count": null,
   "metadata": {},
   "outputs": [],
   "source": [
    "# The USGS Site at Tahoe City only has data for the last 5968 days (~16.3 years) October 2007\n",
    "days = 5968  \n",
    "df = get_usgs_data(days)\n",
    "df.info()"
   ]
  },
  {
   "cell_type": "markdown",
   "metadata": {},
   "source": [
    "### Annual average water temperature, including surface water temperature"
   ]
  },
  {
   "cell_type": "code",
   "execution_count": null,
   "metadata": {},
   "outputs": [],
   "source": [
    "import requests\n",
    "# get data from TERC service\n",
    "lakeTempURL = \"https://tepfsail50.execute-api.us-west-2.amazonaws.com/v1/report/ns-station-range?rptdate=20240130&rptend=20240202&id=4\"\n",
    "# get data from TERC\n",
    "response = requests.get(lakeTempURL)"
   ]
  },
  {
   "cell_type": "code",
   "execution_count": null,
   "metadata": {},
   "outputs": [],
   "source": [
    "print(response.json())"
   ]
  },
  {
   "cell_type": "markdown",
   "metadata": {},
   "source": [
    "### Lake clarity measured by Secchi Depth"
   ]
  },
  {
   "cell_type": "code",
   "execution_count": null,
   "metadata": {},
   "outputs": [],
   "source": [
    "# secchi depth data\n",
    "secchiDepth    = \"https://maps.trpa.org/server/rest/services/LTInfo_Monitoring/MapServer/14\"\n",
    "secchiDepthAll = \"https://maps.trpa.org/server/rest/services/LTInfo_Monitoring/MapServer/13\"\n",
    "secchiDepth    = \"https://maps.trpa.org/server/rest/services/LTinfo_Climate_Resilience_Dashboard/MapServer/125\"\n"
   ]
  },
  {
   "cell_type": "markdown",
   "metadata": {},
   "source": [
    "### Total precipitation in water per year, extreme precipitation, and snow as a fraction of annual precipitation\n",
    "* https://www.ncei.noaa.gov/cdo-web/\n",
    "* https://www.weather.gov/documentation/services-web-api\n",
    "* https://www.ncdc.noaa.gov/cdo-web/api/v2/\n",
    "\n",
    "## ended up using \n",
    "* https://cssl.berkeley.edu/"
   ]
  },
  {
   "cell_type": "code",
   "execution_count": 50,
   "metadata": {},
   "outputs": [],
   "source": [
    "import os\n",
    "import pandas as pd\n",
    "import numpy as np\n",
    "\n",
    "# folder with individual files\n",
    "folder = r\"C:\\Users\\mbindl\\Downloads\\doi_10_6078_D1941T__v20210622\"\n",
    "\n",
    "# create a list to store the data\n",
    "data = []\n",
    "# loop through the files in the folder\n",
    "for file in os.listdir(folder):\n",
    "    # read the file into a DataFrame\n",
    "    df = pd.read_csv(os.path.join(folder, file))\n",
    "    # add the DataFrame to the list\n",
    "    data.append(df)\n",
    "\n",
    "# concatenate the data into a single DataFrame\n",
    "combined_data = pd.concat(data)\n",
    "\n",
    "# change field names to have _ instead of spaces\n",
    "combined_data.columns = combined_data.columns.str.replace(' ', '_')\n",
    "# remove leading and trailing whitespace from field names and change % te Pct\n",
    "combined_data.columns = combined_data.columns.str.strip().str.replace('%', 'Pct')\n",
    "# remove () from field names\n",
    "combined_data.columns = combined_data.columns.str.replace('(', '').str.replace(')', '')\n",
    "# remove - from field names\n",
    "combined_data.columns = combined_data.columns.str.replace('-', '_')\n",
    "# change filed name 24-hour_Total_Precip_mm to Full_Day_Total_Precip_mm\n",
    "combined_data.rename(columns={'24_hour_Total_Precip_mm': 'Full_Day_Total_Precip_mm'}, inplace=True)\n",
    "\n",
    "# make sure all '' are replaced with NaN\n",
    "combined_data = combined_data.replace('', pd.NA)\n",
    "# replace '--' with NaN\n",
    "combined_data = combined_data.replace('--', np.NaN)\n",
    "# replace 'T' in 24_hour_Total_Precip_in with 0\n",
    "combined_data['Full_Day_Total_Precip_mm'] = combined_data['Full_Day_Total_Precip_mm'].replace('T', 0)\n",
    "# replace 'T' and '.' in New_Snow_cm with 0\n",
    "combined_data['New_Snow_cm'] = combined_data['New_Snow_cm'].replace('T', 0)\n",
    "combined_data['New_Snow_cm'] = combined_data['New_Snow_cm'].replace('.', 0)\n",
    "# replace 'T' and '.' in Season_Total_Snow_cm with 0\n",
    "combined_data['Season_Total_Snow_cm'] = combined_data['Season_Total_Snow_cm'].replace('T', 0)\n",
    "# replace 'T' and '.' in Snowpack_depth_cm with 0\n",
    "combined_data['Snowpack_depth_cm'] = combined_data['Snowpack_depth_cm'].replace('T', 0)\n",
    "# replace \"0'0 in Snow_Water_Equivalent_cm with 0\n",
    "combined_data['Snow_Water_Equivalent_cm'] = combined_data['Snow_Water_Equivalent_cm'].replace(\"0'0\", 0)\n",
    "# replace 'T' in Snow_Water_Equivalent_cm with 0\n",
    "combined_data['Snow_Water_Equivalent_cm'] = combined_data['Snow_Water_Equivalent_cm'].replace('T', 0)\n",
    "\n",
    "# convert fields to float\n",
    "combined_data['Pct_of_Precip_as_Snow'] = combined_data['Pct_of_Precip_as_Snow'].astype(float)\n",
    "combined_data['Pct_of_Precip_as_Rain'] = combined_data['Pct_of_Precip_as_Rain'].astype(float)\n",
    "combined_data['Full_Day_Total_Precip_mm'] = combined_data['Full_Day_Total_Precip_mm'].astype(float)\n",
    "combined_data['Air_Temp_Max_C'] = combined_data['Air_Temp_Max_C'].astype(float)\n",
    "combined_data['Air_Temp_Min_C'] = combined_data['Air_Temp_Min_C'].astype(float)\n",
    "combined_data['New_Snow_cm'] = combined_data['New_Snow_cm'].astype(float)\n",
    "combined_data['Season_Total_Snow_cm'] = combined_data['Season_Total_Snow_cm'].astype(float)\n",
    "combined_data['Snowpack_depth_cm'] = combined_data['Snowpack_depth_cm'].astype(float)\n",
    "combined_data['Snow_Water_Equivalent_cm'] = combined_data['Snow_Water_Equivalent_cm'].astype(float)\n",
    "\n",
    "# change Date to datetime\n",
    "combined_data['Date'] = pd.to_datetime(combined_data['Date'], format='mixed', errors='coerce')\n",
    "# add month and year columns\n",
    "combined_data['Month'] = combined_data['Date'].dt.month\n",
    "combined_data['Year'] = combined_data['Date'].dt.year\n",
    "# combined month and year into one column\n",
    "combined_data['Month_Year'] = combined_data['Date'].dt.to_period('M')\n",
    "# combined month and year into one column\n",
    "combined_data['Month_Year'] = combined_data.Month_Year.dt.strftime('%Y-%m')\n",
    "\n",
    "# save to csv\n",
    "combined_data.to_csv(os.path.join(folder,'CentralSierraSnowLab_AllData.csv'), index=False)\n"
   ]
  },
  {
   "cell_type": "code",
   "execution_count": 51,
   "metadata": {},
   "outputs": [
    {
     "name": "stdout",
     "output_type": "stream",
     "text": [
      "<class 'pandas.core.frame.DataFrame'>\n",
      "Index: 17897 entries, 0 to 364\n",
      "Data columns (total 15 columns):\n",
      " #   Column                    Non-Null Count  Dtype         \n",
      "---  ------                    --------------  -----         \n",
      " 0   Date                      17897 non-null  datetime64[ns]\n",
      " 1   Air_Temp_Max_C            17821 non-null  float64       \n",
      " 2   Air_Temp_Min_C            17832 non-null  float64       \n",
      " 3   Full_Day_Total_Precip_mm  17887 non-null  float64       \n",
      " 4   Season_Total_Precip_mm    17896 non-null  float64       \n",
      " 5   Pct_of_Precip_as_Snow     2606 non-null   float64       \n",
      " 6   Pct_of_Precip_as_Rain     1658 non-null   float64       \n",
      " 7   New_Snow_cm               17640 non-null  float64       \n",
      " 8   Season_Total_Snow_cm      17859 non-null  float64       \n",
      " 9   Snowpack_depth_cm         16161 non-null  float64       \n",
      " 10  Snow_Water_Equivalent_cm  12283 non-null  float64       \n",
      " 11  Remarks                   201 non-null    object        \n",
      " 12  Month                     17897 non-null  int32         \n",
      " 13  Year                      17897 non-null  int32         \n",
      " 14  Month_Year                17897 non-null  object        \n",
      "dtypes: datetime64[ns](1), float64(10), int32(2), object(2)\n",
      "memory usage: 2.0+ MB\n"
     ]
    }
   ],
   "source": [
    "combined_data.info()"
   ]
  },
  {
   "cell_type": "code",
   "execution_count": null,
   "metadata": {},
   "outputs": [],
   "source": []
  },
  {
   "cell_type": "code",
   "execution_count": 58,
   "metadata": {},
   "outputs": [
    {
     "name": "stdout",
     "output_type": "stream",
     "text": [
      "<class 'pandas.core.frame.DataFrame'>\n",
      "RangeIndex: 17897 entries, 0 to 17896\n",
      "Data columns (total 16 columns):\n",
      " #   Column                    Non-Null Count  Dtype         \n",
      "---  ------                    --------------  -----         \n",
      " 0   OBJECTID                  17897 non-null  Int64         \n",
      " 1   Air_Temp_Max_C            17821 non-null  Float64       \n",
      " 2   Air_Temp_Min_C            17832 non-null  Float64       \n",
      " 3   Full_Day_Total_Precip_mm  17887 non-null  Float64       \n",
      " 4   Season_Total_Precip_mm    17896 non-null  Float64       \n",
      " 5   Pct_of_Precip_as_Snow     2606 non-null   string        \n",
      " 6   Pct_of_Precip_as_Rain     1658 non-null   string        \n",
      " 7   New_Snow_cm               17640 non-null  Float64       \n",
      " 8   Season_Total_Snow_cm      17859 non-null  Float64       \n",
      " 9   Snowpack_depth_cm         16161 non-null  Float64       \n",
      " 10  Snow_Water_Equivalent_cm  12283 non-null  Float64       \n",
      " 11  Remarks                   201 non-null    string        \n",
      " 12  Month                     17897 non-null  Int32         \n",
      " 13  Year                      17897 non-null  Int32         \n",
      " 14  Month_Year                17897 non-null  string        \n",
      " 15  Day                       17897 non-null  datetime64[us]\n",
      "dtypes: Float64(8), Int32(2), Int64(1), datetime64[us](1), string(4)\n",
      "memory usage: 2.2 MB\n"
     ]
    }
   ],
   "source": [
    "from arcgis.features import FeatureLayer\n",
    "import pandas as pd\n",
    "# get data from service as spatially enabled dataframe\n",
    "url = \"https://maps.trpa.org/server/rest/services/LTinfo_Climate_Resilience_Dashboard/MapServer/145\"\n",
    "fl = FeatureLayer(url)\n",
    "sdf = fl.query().sdf\n",
    "sdf.info()"
   ]
  },
  {
   "cell_type": "code",
   "execution_count": 61,
   "metadata": {},
   "outputs": [
    {
     "data": {
      "text/html": [
       "<div>\n",
       "<style scoped>\n",
       "    .dataframe tbody tr th:only-of-type {\n",
       "        vertical-align: middle;\n",
       "    }\n",
       "\n",
       "    .dataframe tbody tr th {\n",
       "        vertical-align: top;\n",
       "    }\n",
       "\n",
       "    .dataframe thead th {\n",
       "        text-align: right;\n",
       "    }\n",
       "</style>\n",
       "<table border=\"1\" class=\"dataframe\">\n",
       "  <thead>\n",
       "    <tr style=\"text-align: right;\">\n",
       "      <th></th>\n",
       "      <th>Month_Year</th>\n",
       "      <th>Full_Day_Total_Precip_mm</th>\n",
       "    </tr>\n",
       "  </thead>\n",
       "  <tbody>\n",
       "    <tr>\n",
       "      <th>0</th>\n",
       "      <td>1970-10</td>\n",
       "      <td>80.01</td>\n",
       "    </tr>\n",
       "    <tr>\n",
       "      <th>1</th>\n",
       "      <td>1970-11</td>\n",
       "      <td>442.976</td>\n",
       "    </tr>\n",
       "    <tr>\n",
       "      <th>2</th>\n",
       "      <td>1970-12</td>\n",
       "      <td>442.214</td>\n",
       "    </tr>\n",
       "    <tr>\n",
       "      <th>3</th>\n",
       "      <td>1971-01</td>\n",
       "      <td>207.01</td>\n",
       "    </tr>\n",
       "    <tr>\n",
       "      <th>4</th>\n",
       "      <td>1971-02</td>\n",
       "      <td>64.77</td>\n",
       "    </tr>\n",
       "    <tr>\n",
       "      <th>...</th>\n",
       "      <td>...</td>\n",
       "      <td>...</td>\n",
       "    </tr>\n",
       "    <tr>\n",
       "      <th>583</th>\n",
       "      <td>2019-05</td>\n",
       "      <td>175.0</td>\n",
       "    </tr>\n",
       "    <tr>\n",
       "      <th>584</th>\n",
       "      <td>2019-06</td>\n",
       "      <td>7.0</td>\n",
       "    </tr>\n",
       "    <tr>\n",
       "      <th>585</th>\n",
       "      <td>2019-07</td>\n",
       "      <td>0.0</td>\n",
       "    </tr>\n",
       "    <tr>\n",
       "      <th>586</th>\n",
       "      <td>2019-08</td>\n",
       "      <td>0.0</td>\n",
       "    </tr>\n",
       "    <tr>\n",
       "      <th>587</th>\n",
       "      <td>2019-09</td>\n",
       "      <td>62.0</td>\n",
       "    </tr>\n",
       "  </tbody>\n",
       "</table>\n",
       "<p>588 rows × 2 columns</p>\n",
       "</div>"
      ],
      "text/plain": [
       "    Month_Year  Full_Day_Total_Precip_mm\n",
       "0      1970-10                     80.01\n",
       "1      1970-11                   442.976\n",
       "2      1970-12                   442.214\n",
       "3      1971-01                    207.01\n",
       "4      1971-02                     64.77\n",
       "..         ...                       ...\n",
       "583    2019-05                     175.0\n",
       "584    2019-06                       7.0\n",
       "585    2019-07                       0.0\n",
       "586    2019-08                       0.0\n",
       "587    2019-09                      62.0\n",
       "\n",
       "[588 rows x 2 columns]"
      ]
     },
     "execution_count": 61,
     "metadata": {},
     "output_type": "execute_result"
    }
   ],
   "source": [
    "df"
   ]
  },
  {
   "cell_type": "code",
   "execution_count": 60,
   "metadata": {},
   "outputs": [
    {
     "data": {
      "application/vnd.plotly.v1+json": {
       "config": {
        "plotlyServerURL": "https://plot.ly"
       },
       "data": [
        {
         "hovertemplate": "Month_Year=%{x}<br>Full_Day_Total_Precip_mm=%{y}<extra></extra>",
         "legendgroup": "",
         "line": {
          "color": "#636efa",
          "dash": "solid"
         },
         "marker": {
          "symbol": "circle"
         },
         "mode": "lines",
         "name": "",
         "orientation": "v",
         "showlegend": false,
         "type": "scatter",
         "x": [
          "1970-10",
          "1970-11",
          "1970-12",
          "1971-01",
          "1971-02",
          "1971-03",
          "1971-04",
          "1971-05",
          "1971-06",
          "1971-07",
          "1971-08",
          "1971-09",
          "1971-10",
          "1971-11",
          "1971-12",
          "1972-01",
          "1972-02",
          "1972-03",
          "1972-04",
          "1972-05",
          "1972-06",
          "1972-07",
          "1972-08",
          "1972-09",
          "1972-10",
          "1972-11",
          "1972-12",
          "1973-01",
          "1973-02",
          "1973-03",
          "1973-04",
          "1973-05",
          "1973-06",
          "1973-07",
          "1973-08",
          "1973-09",
          "1973-10",
          "1973-11",
          "1973-12",
          "1974-01",
          "1974-02",
          "1974-03",
          "1974-04",
          "1974-05",
          "1974-06",
          "1974-07",
          "1974-08",
          "1974-09",
          "1974-10",
          "1974-11",
          "1974-12",
          "1975-01",
          "1975-02",
          "1975-03",
          "1975-04",
          "1975-05",
          "1975-06",
          "1975-07",
          "1975-08",
          "1975-09",
          "1975-10",
          "1975-11",
          "1975-12",
          "1976-01",
          "1976-02",
          "1976-03",
          "1976-04",
          "1976-05",
          "1976-06",
          "1976-07",
          "1976-08",
          "1976-09",
          "1976-10",
          "1976-11",
          "1976-12",
          "1977-01",
          "1977-02",
          "1977-03",
          "1977-04",
          "1977-05",
          "1977-06",
          "1977-07",
          "1977-08",
          "1977-09",
          "1977-10",
          "1977-11",
          "1977-12",
          "1978-01",
          "1978-02",
          "1978-03",
          "1978-04",
          "1978-05",
          "1978-06",
          "1978-07",
          "1978-08",
          "1978-09",
          "1978-10",
          "1978-11",
          "1978-12",
          "1979-01",
          "1979-02",
          "1979-03",
          "1979-04",
          "1979-05",
          "1979-06",
          "1979-07",
          "1979-08",
          "1979-09",
          "1979-10",
          "1979-11",
          "1979-12",
          "1980-01",
          "1980-02",
          "1980-03",
          "1980-04",
          "1980-05",
          "1980-06",
          "1980-07",
          "1980-08",
          "1980-09",
          "1980-10",
          "1980-11",
          "1980-12",
          "1981-01",
          "1981-02",
          "1981-03",
          "1981-04",
          "1981-05",
          "1981-06",
          "1981-07",
          "1981-08",
          "1981-09",
          "1981-10",
          "1981-11",
          "1981-12",
          "1982-01",
          "1982-02",
          "1982-03",
          "1982-04",
          "1982-05",
          "1982-06",
          "1982-07",
          "1982-08",
          "1982-09",
          "1982-10",
          "1982-11",
          "1982-12",
          "1983-01",
          "1983-02",
          "1983-03",
          "1983-04",
          "1983-05",
          "1983-06",
          "1983-07",
          "1983-08",
          "1983-09",
          "1983-10",
          "1983-11",
          "1983-12",
          "1984-01",
          "1984-02",
          "1984-03",
          "1984-04",
          "1984-05",
          "1984-06",
          "1984-07",
          "1984-08",
          "1984-09",
          "1984-10",
          "1984-11",
          "1984-12",
          "1985-01",
          "1985-02",
          "1985-03",
          "1985-04",
          "1985-05",
          "1985-06",
          "1985-07",
          "1985-08",
          "1985-09",
          "1985-10",
          "1985-11",
          "1985-12",
          "1986-01",
          "1986-02",
          "1986-03",
          "1986-04",
          "1986-05",
          "1986-06",
          "1986-07",
          "1986-08",
          "1986-09",
          "1986-10",
          "1986-11",
          "1986-12",
          "1987-01",
          "1987-02",
          "1987-03",
          "1987-04",
          "1987-05",
          "1987-06",
          "1987-07",
          "1987-08",
          "1987-09",
          "1987-10",
          "1987-11",
          "1987-12",
          "1988-01",
          "1988-02",
          "1988-03",
          "1988-04",
          "1988-05",
          "1988-06",
          "1988-07",
          "1988-08",
          "1988-09",
          "1988-10",
          "1988-11",
          "1988-12",
          "1989-01",
          "1989-02",
          "1989-03",
          "1989-04",
          "1989-05",
          "1989-06",
          "1989-07",
          "1989-08",
          "1989-09",
          "1989-10",
          "1989-11",
          "1989-12",
          "1990-01",
          "1990-02",
          "1990-03",
          "1990-04",
          "1990-05",
          "1990-06",
          "1990-07",
          "1990-08",
          "1990-09",
          "1990-10",
          "1990-11",
          "1990-12",
          "1991-01",
          "1991-02",
          "1991-03",
          "1991-04",
          "1991-05",
          "1991-06",
          "1991-07",
          "1991-08",
          "1991-09",
          "1991-10",
          "1991-11",
          "1991-12",
          "1992-01",
          "1992-02",
          "1992-03",
          "1992-04",
          "1992-05",
          "1992-06",
          "1992-07",
          "1992-08",
          "1992-09",
          "1992-10",
          "1992-11",
          "1992-12",
          "1993-01",
          "1993-02",
          "1993-03",
          "1993-04",
          "1993-05",
          "1993-06",
          "1993-07",
          "1993-08",
          "1993-09",
          "1993-10",
          "1993-11",
          "1993-12",
          "1994-01",
          "1994-02",
          "1994-03",
          "1994-04",
          "1994-05",
          "1994-06",
          "1994-07",
          "1994-08",
          "1994-09",
          "1994-10",
          "1994-11",
          "1994-12",
          "1995-01",
          "1995-02",
          "1995-03",
          "1995-04",
          "1995-05",
          "1995-06",
          "1995-07",
          "1995-08",
          "1995-09",
          "1995-10",
          "1995-11",
          "1995-12",
          "1996-01",
          "1996-02",
          "1996-03",
          "1996-04",
          "1996-05",
          "1996-06",
          "1996-07",
          "1996-08",
          "1996-09",
          "1996-10",
          "1996-11",
          "1996-12",
          "1997-01",
          "1997-02",
          "1997-03",
          "1997-04",
          "1997-05",
          "1997-06",
          "1997-07",
          "1997-08",
          "1997-09",
          "1997-10",
          "1997-11",
          "1997-12",
          "1998-01",
          "1998-02",
          "1998-03",
          "1998-04",
          "1998-05",
          "1998-06",
          "1998-07",
          "1998-08",
          "1998-09",
          "1998-10",
          "1998-11",
          "1998-12",
          "1999-01",
          "1999-02",
          "1999-03",
          "1999-04",
          "1999-05",
          "1999-06",
          "1999-07",
          "1999-08",
          "1999-09",
          "1999-10",
          "1999-11",
          "1999-12",
          "2000-01",
          "2000-02",
          "2000-03",
          "2000-04",
          "2000-05",
          "2000-06",
          "2000-07",
          "2000-08",
          "2000-09",
          "2000-10",
          "2000-11",
          "2000-12",
          "2001-01",
          "2001-02",
          "2001-03",
          "2001-04",
          "2001-05",
          "2001-06",
          "2001-07",
          "2001-08",
          "2001-09",
          "2001-10",
          "2001-11",
          "2001-12",
          "2002-01",
          "2002-02",
          "2002-03",
          "2002-04",
          "2002-05",
          "2002-06",
          "2002-07",
          "2002-08",
          "2002-09",
          "2002-10",
          "2002-11",
          "2002-12",
          "2003-01",
          "2003-02",
          "2003-03",
          "2003-04",
          "2003-05",
          "2003-06",
          "2003-07",
          "2003-08",
          "2003-09",
          "2003-10",
          "2003-11",
          "2003-12",
          "2004-01",
          "2004-02",
          "2004-03",
          "2004-04",
          "2004-05",
          "2004-06",
          "2004-07",
          "2004-08",
          "2004-09",
          "2004-10",
          "2004-11",
          "2004-12",
          "2005-01",
          "2005-02",
          "2005-03",
          "2005-04",
          "2005-05",
          "2005-06",
          "2005-07",
          "2005-08",
          "2005-09",
          "2005-10",
          "2005-11",
          "2005-12",
          "2006-01",
          "2006-02",
          "2006-03",
          "2006-04",
          "2006-05",
          "2006-06",
          "2006-07",
          "2006-08",
          "2006-09",
          "2006-10",
          "2006-11",
          "2006-12",
          "2007-01",
          "2007-02",
          "2007-03",
          "2007-04",
          "2007-05",
          "2007-06",
          "2007-07",
          "2007-08",
          "2007-09",
          "2007-10",
          "2007-11",
          "2007-12",
          "2008-01",
          "2008-02",
          "2008-03",
          "2008-04",
          "2008-05",
          "2008-06",
          "2008-07",
          "2008-08",
          "2008-09",
          "2008-10",
          "2008-11",
          "2008-12",
          "2009-01",
          "2009-02",
          "2009-03",
          "2009-04",
          "2009-05",
          "2009-06",
          "2009-07",
          "2009-08",
          "2009-09",
          "2009-10",
          "2009-11",
          "2009-12",
          "2010-01",
          "2010-02",
          "2010-03",
          "2010-04",
          "2010-05",
          "2010-06",
          "2010-07",
          "2010-08",
          "2010-09",
          "2010-10",
          "2010-11",
          "2010-12",
          "2011-01",
          "2011-02",
          "2011-03",
          "2011-04",
          "2011-05",
          "2011-06",
          "2011-07",
          "2011-08",
          "2011-09",
          "2011-10",
          "2011-11",
          "2011-12",
          "2012-01",
          "2012-02",
          "2012-03",
          "2012-04",
          "2012-05",
          "2012-06",
          "2012-07",
          "2012-08",
          "2012-09",
          "2012-10",
          "2012-11",
          "2012-12",
          "2013-01",
          "2013-02",
          "2013-03",
          "2013-04",
          "2013-05",
          "2013-06",
          "2013-07",
          "2013-08",
          "2013-09",
          "2013-10",
          "2013-11",
          "2013-12",
          "2014-01",
          "2014-02",
          "2014-03",
          "2014-04",
          "2014-05",
          "2014-06",
          "2014-07",
          "2014-08",
          "2014-09",
          "2014-10",
          "2014-11",
          "2014-12",
          "2015-01",
          "2015-02",
          "2015-03",
          "2015-04",
          "2015-05",
          "2015-06",
          "2015-07",
          "2015-08",
          "2015-09",
          "2015-10",
          "2015-11",
          "2015-12",
          "2016-01",
          "2016-02",
          "2016-03",
          "2016-04",
          "2016-05",
          "2016-06",
          "2016-07",
          "2016-08",
          "2016-09",
          "2016-10",
          "2016-11",
          "2016-12",
          "2017-01",
          "2017-02",
          "2017-03",
          "2017-04",
          "2017-05",
          "2017-06",
          "2017-07",
          "2017-08",
          "2017-09",
          "2017-10",
          "2017-11",
          "2017-12",
          "2018-01",
          "2018-02",
          "2018-03",
          "2018-04",
          "2018-05",
          "2018-06",
          "2018-07",
          "2018-08",
          "2018-09",
          "2018-10",
          "2018-11",
          "2018-12",
          "2019-01",
          "2019-02",
          "2019-03",
          "2019-04",
          "2019-05",
          "2019-06",
          "2019-07",
          "2019-08",
          "2019-09"
         ],
         "xaxis": "x",
         "y": [
          80.01,
          442.976,
          442.214,
          207.01,
          64.77000000000001,
          286.766,
          113.03,
          87.376,
          60.452,
          3.556,
          9.144,
          41.148,
          40.64,
          175.768,
          399.288,
          132.08,
          226.56799999999998,
          98.552,
          159.766,
          26.669999999999998,
          29.972,
          0,
          1.778,
          102.87,
          87.884,
          233.172,
          208.28,
          430.022,
          256.54,
          148.59,
          45.72,
          53.848,
          22.352,
          4.064,
          29.21,
          40.132,
          109.22,
          480.314,
          340.614,
          286.766,
          148.082,
          389.636,
          146.304,
          13.969999999999999,
          4.8260000000000005,
          127.762,
          24.384,
          0,
          65.27799999999999,
          93.218,
          145.034,
          158.496,
          421.132,
          360.426,
          179.07,
          46.989999999999995,
          28.448,
          4.572,
          44.196,
          3.556,
          234.188,
          99.568,
          62.738,
          49.276,
          210.058,
          100.33,
          56.641999999999996,
          6.604,
          17.526,
          2.032,
          81.026,
          43.434,
          29.21,
          45.974000000000004,
          10.16,
          116.586,
          118.872,
          120.90400000000001,
          19.05,
          160.02,
          24.892,
          7.619999999999999,
          16.509999999999998,
          31.496,
          18.288,
          154.432,
          400.05,
          452.12,
          232.156,
          228.09199999999998,
          205.994,
          40.132,
          12.446,
          5.334,
          0,
          96.266,
          3.556,
          108.966,
          90.678,
          250.698,
          332.23199999999997,
          136.398,
          145.288,
          90.932,
          5.842,
          18.541999999999998,
          22.352,
          0,
          164.084,
          133.35,
          283.718,
          520.446,
          438.912,
          186.182,
          110.236,
          63.754,
          30.48,
          35.05200000000001,
          0,
          2.794,
          61.214,
          82.55,
          117.348,
          252.476,
          136.398,
          191.516,
          56.134,
          89.916,
          2.794,
          0,
          0,
          29.972,
          189.23,
          566.928,
          508,
          298.45,
          235.966,
          469.9,
          299.466,
          13.207999999999998,
          54.864,
          3.048,
          5.334,
          207.264,
          265.938,
          321.564,
          263.906,
          264.15999999999997,
          420.624,
          434.086,
          197.86599999999999,
          37.338,
          17.272,
          9.144,
          95.25,
          58.928,
          161.798,
          556.006,
          521.97,
          25.4,
          205.74,
          145.796,
          121.66600000000001,
          48.26,
          47.244,
          16.256,
          6.604,
          24.130000000000003,
          132.07999999999998,
          424.942,
          65.786,
          41.656,
          133.35000000000002,
          250.444,
          31.75,
          5.08,
          13.208,
          7.8740000000000006,
          12.954,
          79.75600000000001,
          53.848,
          274.066,
          193.04,
          228.85399999999998,
          765.81,
          290.068,
          68.58,
          57.912,
          0.508,
          7.366,
          0.762,
          163.83,
          13.97,
          26.924,
          65.024,
          222.75799999999998,
          213.614,
          226.06,
          43.18,
          44.958,
          13.97,
          5.842,
          0,
          0,
          45.974000000000004,
          87.884,
          268.732,
          256.032,
          14.986,
          33.019999999999996,
          125.984,
          65.786,
          37.846000000000004,
          10.16,
          1.016,
          4.064,
          4.064,
          451.866,
          212.08999999999997,
          95.25,
          193.04,
          583.438,
          106.934,
          50.038,
          28.956000000000003,
          0,
          52.832,
          127,
          178.054,
          161.036,
          0,
          213.106,
          202.946,
          99.06,
          78.994,
          156.972,
          0,
          9.144,
          6.8580000000000005,
          24.892,
          37,
          37,
          80,
          26,
          88,
          624,
          77,
          134,
          37,
          20,
          8,
          14,
          131,
          139,
          105,
          49,
          358,
          109,
          46,
          13,
          56,
          22,
          41,
          1,
          165,
          41,
          530,
          483,
          348,
          242,
          109,
          118,
          68,
          0,
          4,
          2,
          96,
          107,
          171,
          90,
          302,
          59,
          77,
          65,
          2,
          0,
          0,
          41,
          29,
          350,
          262,
          681,
          72,
          820,
          299,
          136,
          72,
          5,
          1,
          0,
          0,
          30,
          410,
          485,
          397,
          229,
          182,
          261,
          19,
          39,
          6,
          37,
          88,
          202,
          887,
          548,
          57,
          77,
          69,
          33,
          67,
          4,
          8,
          26,
          82,
          180,
          129,
          493,
          574,
          240,
          147,
          165,
          56,
          6,
          10,
          100,
          44,
          378,
          102,
          368,
          520,
          185,
          150,
          68,
          22,
          3,
          33,
          6,
          73,
          156,
          49,
          495,
          478,
          75,
          91,
          108,
          12,
          0,
          0,
          50,
          133,
          54,
          74,
          130,
          310,
          89,
          154,
          21,
          6,
          8,
          0,
          21,
          48,
          277,
          375,
          176,
          128,
          243,
          118,
          28,
          1,
          0,
          0,
          1,
          1,
          234,
          509,
          101,
          100,
          141,
          353,
          83,
          4,
          3,
          58,
          0,
          26,
          88,
          510,
          181,
          295,
          37,
          56,
          45,
          7,
          2,
          0,
          11,
          217,
          94,
          312,
          284,
          101,
          323,
          102,
          235,
          80,
          0,
          2,
          14,
          59,
          175,
          708,
          283,
          231,
          447,
          344,
          40,
          16,
          3,
          0,
          3,
          31,
          190,
          214,
          51,
          392,
          49,
          95,
          56,
          14,
          0,
          1,
          35,
          121,
          44,
          216,
          404,
          201,
          82,
          23,
          47,
          0,
          2,
          0,
          0,
          82,
          180,
          248,
          133,
          332,
          285,
          56,
          168,
          52,
          9,
          6,
          0,
          129,
          68,
          228,
          313,
          171,
          229,
          242,
          131,
          26,
          1,
          7,
          3,
          298,
          270,
          535,
          44,
          210,
          402,
          141,
          113,
          102,
          0,
          0,
          32,
          120,
          89,
          6,
          195,
          111,
          394,
          151,
          6,
          37,
          19,
          8,
          5,
          95,
          303,
          353,
          34,
          29,
          118,
          35,
          65,
          48,
          0,
          19,
          63,
          42,
          43,
          56,
          72,
          322,
          245,
          92,
          35,
          2,
          10,
          38,
          45,
          55,
          157,
          301,
          9,
          219,
          36,
          100,
          93,
          31,
          37,
          9,
          11,
          81,
          136,
          367,
          412,
          82,
          436,
          108,
          85,
          13,
          0,
          0,
          2,
          398,
          163,
          324,
          830,
          732,
          185,
          306,
          38,
          29,
          0,
          7,
          52,
          26,
          421,
          23,
          255,
          50,
          530,
          161,
          72,
          1,
          1,
          1,
          0,
          29,
          192,
          116,
          445,
          829,
          239,
          118,
          175,
          7,
          0,
          0,
          62
         ],
         "yaxis": "y"
        }
       ],
       "layout": {
        "legend": {
         "tracegroupgap": 0
        },
        "template": {
         "data": {
          "bar": [
           {
            "error_x": {
             "color": "#2a3f5f"
            },
            "error_y": {
             "color": "#2a3f5f"
            },
            "marker": {
             "line": {
              "color": "#E5ECF6",
              "width": 0.5
             },
             "pattern": {
              "fillmode": "overlay",
              "size": 10,
              "solidity": 0.2
             }
            },
            "type": "bar"
           }
          ],
          "barpolar": [
           {
            "marker": {
             "line": {
              "color": "#E5ECF6",
              "width": 0.5
             },
             "pattern": {
              "fillmode": "overlay",
              "size": 10,
              "solidity": 0.2
             }
            },
            "type": "barpolar"
           }
          ],
          "carpet": [
           {
            "aaxis": {
             "endlinecolor": "#2a3f5f",
             "gridcolor": "white",
             "linecolor": "white",
             "minorgridcolor": "white",
             "startlinecolor": "#2a3f5f"
            },
            "baxis": {
             "endlinecolor": "#2a3f5f",
             "gridcolor": "white",
             "linecolor": "white",
             "minorgridcolor": "white",
             "startlinecolor": "#2a3f5f"
            },
            "type": "carpet"
           }
          ],
          "choropleth": [
           {
            "colorbar": {
             "outlinewidth": 0,
             "ticks": ""
            },
            "type": "choropleth"
           }
          ],
          "contour": [
           {
            "colorbar": {
             "outlinewidth": 0,
             "ticks": ""
            },
            "colorscale": [
             [
              0,
              "#0d0887"
             ],
             [
              0.1111111111111111,
              "#46039f"
             ],
             [
              0.2222222222222222,
              "#7201a8"
             ],
             [
              0.3333333333333333,
              "#9c179e"
             ],
             [
              0.4444444444444444,
              "#bd3786"
             ],
             [
              0.5555555555555556,
              "#d8576b"
             ],
             [
              0.6666666666666666,
              "#ed7953"
             ],
             [
              0.7777777777777778,
              "#fb9f3a"
             ],
             [
              0.8888888888888888,
              "#fdca26"
             ],
             [
              1,
              "#f0f921"
             ]
            ],
            "type": "contour"
           }
          ],
          "contourcarpet": [
           {
            "colorbar": {
             "outlinewidth": 0,
             "ticks": ""
            },
            "type": "contourcarpet"
           }
          ],
          "heatmap": [
           {
            "colorbar": {
             "outlinewidth": 0,
             "ticks": ""
            },
            "colorscale": [
             [
              0,
              "#0d0887"
             ],
             [
              0.1111111111111111,
              "#46039f"
             ],
             [
              0.2222222222222222,
              "#7201a8"
             ],
             [
              0.3333333333333333,
              "#9c179e"
             ],
             [
              0.4444444444444444,
              "#bd3786"
             ],
             [
              0.5555555555555556,
              "#d8576b"
             ],
             [
              0.6666666666666666,
              "#ed7953"
             ],
             [
              0.7777777777777778,
              "#fb9f3a"
             ],
             [
              0.8888888888888888,
              "#fdca26"
             ],
             [
              1,
              "#f0f921"
             ]
            ],
            "type": "heatmap"
           }
          ],
          "heatmapgl": [
           {
            "colorbar": {
             "outlinewidth": 0,
             "ticks": ""
            },
            "colorscale": [
             [
              0,
              "#0d0887"
             ],
             [
              0.1111111111111111,
              "#46039f"
             ],
             [
              0.2222222222222222,
              "#7201a8"
             ],
             [
              0.3333333333333333,
              "#9c179e"
             ],
             [
              0.4444444444444444,
              "#bd3786"
             ],
             [
              0.5555555555555556,
              "#d8576b"
             ],
             [
              0.6666666666666666,
              "#ed7953"
             ],
             [
              0.7777777777777778,
              "#fb9f3a"
             ],
             [
              0.8888888888888888,
              "#fdca26"
             ],
             [
              1,
              "#f0f921"
             ]
            ],
            "type": "heatmapgl"
           }
          ],
          "histogram": [
           {
            "marker": {
             "pattern": {
              "fillmode": "overlay",
              "size": 10,
              "solidity": 0.2
             }
            },
            "type": "histogram"
           }
          ],
          "histogram2d": [
           {
            "colorbar": {
             "outlinewidth": 0,
             "ticks": ""
            },
            "colorscale": [
             [
              0,
              "#0d0887"
             ],
             [
              0.1111111111111111,
              "#46039f"
             ],
             [
              0.2222222222222222,
              "#7201a8"
             ],
             [
              0.3333333333333333,
              "#9c179e"
             ],
             [
              0.4444444444444444,
              "#bd3786"
             ],
             [
              0.5555555555555556,
              "#d8576b"
             ],
             [
              0.6666666666666666,
              "#ed7953"
             ],
             [
              0.7777777777777778,
              "#fb9f3a"
             ],
             [
              0.8888888888888888,
              "#fdca26"
             ],
             [
              1,
              "#f0f921"
             ]
            ],
            "type": "histogram2d"
           }
          ],
          "histogram2dcontour": [
           {
            "colorbar": {
             "outlinewidth": 0,
             "ticks": ""
            },
            "colorscale": [
             [
              0,
              "#0d0887"
             ],
             [
              0.1111111111111111,
              "#46039f"
             ],
             [
              0.2222222222222222,
              "#7201a8"
             ],
             [
              0.3333333333333333,
              "#9c179e"
             ],
             [
              0.4444444444444444,
              "#bd3786"
             ],
             [
              0.5555555555555556,
              "#d8576b"
             ],
             [
              0.6666666666666666,
              "#ed7953"
             ],
             [
              0.7777777777777778,
              "#fb9f3a"
             ],
             [
              0.8888888888888888,
              "#fdca26"
             ],
             [
              1,
              "#f0f921"
             ]
            ],
            "type": "histogram2dcontour"
           }
          ],
          "mesh3d": [
           {
            "colorbar": {
             "outlinewidth": 0,
             "ticks": ""
            },
            "type": "mesh3d"
           }
          ],
          "parcoords": [
           {
            "line": {
             "colorbar": {
              "outlinewidth": 0,
              "ticks": ""
             }
            },
            "type": "parcoords"
           }
          ],
          "pie": [
           {
            "automargin": true,
            "type": "pie"
           }
          ],
          "scatter": [
           {
            "fillpattern": {
             "fillmode": "overlay",
             "size": 10,
             "solidity": 0.2
            },
            "type": "scatter"
           }
          ],
          "scatter3d": [
           {
            "line": {
             "colorbar": {
              "outlinewidth": 0,
              "ticks": ""
             }
            },
            "marker": {
             "colorbar": {
              "outlinewidth": 0,
              "ticks": ""
             }
            },
            "type": "scatter3d"
           }
          ],
          "scattercarpet": [
           {
            "marker": {
             "colorbar": {
              "outlinewidth": 0,
              "ticks": ""
             }
            },
            "type": "scattercarpet"
           }
          ],
          "scattergeo": [
           {
            "marker": {
             "colorbar": {
              "outlinewidth": 0,
              "ticks": ""
             }
            },
            "type": "scattergeo"
           }
          ],
          "scattergl": [
           {
            "marker": {
             "colorbar": {
              "outlinewidth": 0,
              "ticks": ""
             }
            },
            "type": "scattergl"
           }
          ],
          "scattermapbox": [
           {
            "marker": {
             "colorbar": {
              "outlinewidth": 0,
              "ticks": ""
             }
            },
            "type": "scattermapbox"
           }
          ],
          "scatterpolar": [
           {
            "marker": {
             "colorbar": {
              "outlinewidth": 0,
              "ticks": ""
             }
            },
            "type": "scatterpolar"
           }
          ],
          "scatterpolargl": [
           {
            "marker": {
             "colorbar": {
              "outlinewidth": 0,
              "ticks": ""
             }
            },
            "type": "scatterpolargl"
           }
          ],
          "scatterternary": [
           {
            "marker": {
             "colorbar": {
              "outlinewidth": 0,
              "ticks": ""
             }
            },
            "type": "scatterternary"
           }
          ],
          "surface": [
           {
            "colorbar": {
             "outlinewidth": 0,
             "ticks": ""
            },
            "colorscale": [
             [
              0,
              "#0d0887"
             ],
             [
              0.1111111111111111,
              "#46039f"
             ],
             [
              0.2222222222222222,
              "#7201a8"
             ],
             [
              0.3333333333333333,
              "#9c179e"
             ],
             [
              0.4444444444444444,
              "#bd3786"
             ],
             [
              0.5555555555555556,
              "#d8576b"
             ],
             [
              0.6666666666666666,
              "#ed7953"
             ],
             [
              0.7777777777777778,
              "#fb9f3a"
             ],
             [
              0.8888888888888888,
              "#fdca26"
             ],
             [
              1,
              "#f0f921"
             ]
            ],
            "type": "surface"
           }
          ],
          "table": [
           {
            "cells": {
             "fill": {
              "color": "#EBF0F8"
             },
             "line": {
              "color": "white"
             }
            },
            "header": {
             "fill": {
              "color": "#C8D4E3"
             },
             "line": {
              "color": "white"
             }
            },
            "type": "table"
           }
          ]
         },
         "layout": {
          "annotationdefaults": {
           "arrowcolor": "#2a3f5f",
           "arrowhead": 0,
           "arrowwidth": 1
          },
          "autotypenumbers": "strict",
          "coloraxis": {
           "colorbar": {
            "outlinewidth": 0,
            "ticks": ""
           }
          },
          "colorscale": {
           "diverging": [
            [
             0,
             "#8e0152"
            ],
            [
             0.1,
             "#c51b7d"
            ],
            [
             0.2,
             "#de77ae"
            ],
            [
             0.3,
             "#f1b6da"
            ],
            [
             0.4,
             "#fde0ef"
            ],
            [
             0.5,
             "#f7f7f7"
            ],
            [
             0.6,
             "#e6f5d0"
            ],
            [
             0.7,
             "#b8e186"
            ],
            [
             0.8,
             "#7fbc41"
            ],
            [
             0.9,
             "#4d9221"
            ],
            [
             1,
             "#276419"
            ]
           ],
           "sequential": [
            [
             0,
             "#0d0887"
            ],
            [
             0.1111111111111111,
             "#46039f"
            ],
            [
             0.2222222222222222,
             "#7201a8"
            ],
            [
             0.3333333333333333,
             "#9c179e"
            ],
            [
             0.4444444444444444,
             "#bd3786"
            ],
            [
             0.5555555555555556,
             "#d8576b"
            ],
            [
             0.6666666666666666,
             "#ed7953"
            ],
            [
             0.7777777777777778,
             "#fb9f3a"
            ],
            [
             0.8888888888888888,
             "#fdca26"
            ],
            [
             1,
             "#f0f921"
            ]
           ],
           "sequentialminus": [
            [
             0,
             "#0d0887"
            ],
            [
             0.1111111111111111,
             "#46039f"
            ],
            [
             0.2222222222222222,
             "#7201a8"
            ],
            [
             0.3333333333333333,
             "#9c179e"
            ],
            [
             0.4444444444444444,
             "#bd3786"
            ],
            [
             0.5555555555555556,
             "#d8576b"
            ],
            [
             0.6666666666666666,
             "#ed7953"
            ],
            [
             0.7777777777777778,
             "#fb9f3a"
            ],
            [
             0.8888888888888888,
             "#fdca26"
            ],
            [
             1,
             "#f0f921"
            ]
           ]
          },
          "colorway": [
           "#636efa",
           "#EF553B",
           "#00cc96",
           "#ab63fa",
           "#FFA15A",
           "#19d3f3",
           "#FF6692",
           "#B6E880",
           "#FF97FF",
           "#FECB52"
          ],
          "font": {
           "color": "#2a3f5f"
          },
          "geo": {
           "bgcolor": "white",
           "lakecolor": "white",
           "landcolor": "#E5ECF6",
           "showlakes": true,
           "showland": true,
           "subunitcolor": "white"
          },
          "hoverlabel": {
           "align": "left"
          },
          "hovermode": "closest",
          "mapbox": {
           "style": "light"
          },
          "paper_bgcolor": "white",
          "plot_bgcolor": "#E5ECF6",
          "polar": {
           "angularaxis": {
            "gridcolor": "white",
            "linecolor": "white",
            "ticks": ""
           },
           "bgcolor": "#E5ECF6",
           "radialaxis": {
            "gridcolor": "white",
            "linecolor": "white",
            "ticks": ""
           }
          },
          "scene": {
           "xaxis": {
            "backgroundcolor": "#E5ECF6",
            "gridcolor": "white",
            "gridwidth": 2,
            "linecolor": "white",
            "showbackground": true,
            "ticks": "",
            "zerolinecolor": "white"
           },
           "yaxis": {
            "backgroundcolor": "#E5ECF6",
            "gridcolor": "white",
            "gridwidth": 2,
            "linecolor": "white",
            "showbackground": true,
            "ticks": "",
            "zerolinecolor": "white"
           },
           "zaxis": {
            "backgroundcolor": "#E5ECF6",
            "gridcolor": "white",
            "gridwidth": 2,
            "linecolor": "white",
            "showbackground": true,
            "ticks": "",
            "zerolinecolor": "white"
           }
          },
          "shapedefaults": {
           "line": {
            "color": "#2a3f5f"
           }
          },
          "ternary": {
           "aaxis": {
            "gridcolor": "white",
            "linecolor": "white",
            "ticks": ""
           },
           "baxis": {
            "gridcolor": "white",
            "linecolor": "white",
            "ticks": ""
           },
           "bgcolor": "#E5ECF6",
           "caxis": {
            "gridcolor": "white",
            "linecolor": "white",
            "ticks": ""
           }
          },
          "title": {
           "x": 0.05
          },
          "xaxis": {
           "automargin": true,
           "gridcolor": "white",
           "linecolor": "white",
           "ticks": "",
           "title": {
            "standoff": 15
           },
           "zerolinecolor": "white",
           "zerolinewidth": 2
          },
          "yaxis": {
           "automargin": true,
           "gridcolor": "white",
           "linecolor": "white",
           "ticks": "",
           "title": {
            "standoff": 15
           },
           "zerolinecolor": "white",
           "zerolinewidth": 2
          }
         }
        },
        "title": {
         "text": "Total Full Day Precipitation"
        },
        "xaxis": {
         "anchor": "y",
         "domain": [
          0,
          1
         ],
         "title": {
          "text": "Month_Year"
         }
        },
        "yaxis": {
         "anchor": "x",
         "domain": [
          0,
          1
         ],
         "title": {
          "text": "Full_Day_Total_Precip_mm"
         }
        }
       }
      }
     },
     "metadata": {},
     "output_type": "display_data"
    }
   ],
   "source": [
    "# get the total full day precipitation for each month year and make sure to add in \n",
    "df = sdf.groupby('Month_Year')['Full_Day_Total_Precip_mm'].sum().reset_index()\n",
    "# change \n",
    "# calculate the total\n",
    "# create a plotly express line chart\n",
    "fig = px.line(df, x=\"Month_Year\", y=\"Full_Day_Total_Precip_mm\", title='Total Full Day Precipitation')\n",
    "\n",
    "fig.show()\n",
    "\n"
   ]
  },
  {
   "cell_type": "code",
   "execution_count": 44,
   "metadata": {},
   "outputs": [
    {
     "data": {
      "application/vnd.plotly.v1+json": {
       "config": {
        "plotlyServerURL": "https://plot.ly"
       },
       "data": [
        {
         "hovertemplate": "Month_Year=%{x}<br>Season_Total_Snow_cm=%{y}<extra></extra>",
         "legendgroup": "",
         "line": {
          "color": "#636efa",
          "dash": "solid"
         },
         "marker": {
          "symbol": "circle"
         },
         "mode": "lines",
         "name": "",
         "orientation": "v",
         "showlegend": false,
         "type": "scatter",
         "x": [
          "1970-10",
          "1970-11",
          "1970-12",
          "1971-01",
          "1971-02",
          "1971-03",
          "1971-04",
          "1971-05",
          "1971-06",
          "1971-07",
          "1971-08",
          "1971-09",
          "1971-10",
          "1971-11",
          "1971-12",
          "1972-01",
          "1972-02",
          "1972-03",
          "1972-04",
          "1972-05",
          "1972-06",
          "1972-07",
          "1972-08",
          "1972-09",
          "1972-10",
          "1972-11",
          "1972-12",
          "1973-01",
          "1973-02",
          "1973-03",
          "1973-04",
          "1973-05",
          "1973-06",
          "1973-07",
          "1973-08",
          "1973-09",
          "1973-10",
          "1973-11",
          "1973-12",
          "1974-01",
          "1974-02",
          "1974-03",
          "1974-04",
          "1974-05",
          "1974-06",
          "1974-07",
          "1974-08",
          "1974-09",
          "1974-10",
          "1974-11",
          "1974-12",
          "1975-01",
          "1975-02",
          "1975-03",
          "1975-04",
          "1975-05",
          "1975-06",
          "1975-07",
          "1975-08",
          "1975-09",
          "1975-10",
          "1975-11",
          "1975-12",
          "1976-01",
          "1976-02",
          "1976-03",
          "1976-04",
          "1976-05",
          "1976-06",
          "1976-07",
          "1976-08",
          "1976-09",
          "1976-10",
          "1976-11",
          "1976-12",
          "1977-01",
          "1977-02",
          "1977-03",
          "1977-04",
          "1977-05",
          "1977-06",
          "1977-07",
          "1977-08",
          "1977-09",
          "1977-10",
          "1977-11",
          "1977-12",
          "1978-01",
          "1978-02",
          "1978-03",
          "1978-04",
          "1978-05",
          "1978-06",
          "1978-07",
          "1978-08",
          "1978-09",
          "1978-10",
          "1978-11",
          "1978-12",
          "1979-01",
          "1979-02",
          "1979-03",
          "1979-04",
          "1979-05",
          "1979-06",
          "1979-07",
          "1979-08",
          "1979-09",
          "1979-10",
          "1979-11",
          "1979-12",
          "1980-01",
          "1980-02",
          "1980-03",
          "1980-04",
          "1980-05",
          "1980-06",
          "1980-07",
          "1980-08",
          "1980-09",
          "1980-10",
          "1980-11",
          "1980-12",
          "1981-01",
          "1981-02",
          "1981-03",
          "1981-04",
          "1981-05",
          "1981-06",
          "1981-07",
          "1981-08",
          "1981-09",
          "1981-10",
          "1981-11",
          "1981-12",
          "1982-01",
          "1982-02",
          "1982-03",
          "1982-04",
          "1982-05",
          "1982-06",
          "1982-07",
          "1982-08",
          "1982-09",
          "1982-10",
          "1982-11",
          "1982-12",
          "1983-01",
          "1983-02",
          "1983-03",
          "1983-04",
          "1983-05",
          "1983-06",
          "1983-07",
          "1983-08",
          "1983-09",
          "1983-10",
          "1983-11",
          "1983-12",
          "1984-01",
          "1984-02",
          "1984-03",
          "1984-04",
          "1984-05",
          "1984-06",
          "1984-07",
          "1984-08",
          "1984-09",
          "1984-10",
          "1984-11",
          "1984-12",
          "1985-01",
          "1985-02",
          "1985-03",
          "1985-04",
          "1985-05",
          "1985-06",
          "1985-07",
          "1985-08",
          "1985-09",
          "1985-10",
          "1985-11",
          "1985-12",
          "1986-01",
          "1986-02",
          "1986-03",
          "1986-04",
          "1986-05",
          "1986-06",
          "1986-07",
          "1986-08",
          "1986-09",
          "1986-10",
          "1986-11",
          "1986-12",
          "1987-01",
          "1987-02",
          "1987-03",
          "1987-04",
          "1987-05",
          "1987-06",
          "1987-07",
          "1987-08",
          "1987-09",
          "1987-10",
          "1987-11",
          "1987-12",
          "1988-01",
          "1988-02",
          "1988-03",
          "1988-04",
          "1988-05",
          "1988-06",
          "1988-07",
          "1988-08",
          "1988-09",
          "1988-10",
          "1988-11",
          "1988-12",
          "1989-01",
          "1989-02",
          "1989-03",
          "1989-04",
          "1989-05",
          "1989-06",
          "1989-07",
          "1989-08",
          "1989-09",
          "1989-10",
          "1989-11",
          "1989-12",
          "1990-01",
          "1990-02",
          "1990-03",
          "1990-04",
          "1990-05",
          "1990-06",
          "1990-07",
          "1990-08",
          "1990-09",
          "1990-10",
          "1990-11",
          "1990-12",
          "1991-01",
          "1991-02",
          "1991-03",
          "1991-04",
          "1991-05",
          "1991-06",
          "1991-07",
          "1991-08",
          "1991-09",
          "1991-10",
          "1991-11",
          "1991-12",
          "1992-01",
          "1992-02",
          "1992-03",
          "1992-04",
          "1992-05",
          "1992-06",
          "1992-07",
          "1992-08",
          "1992-09",
          "1992-10",
          "1992-11",
          "1992-12",
          "1993-01",
          "1993-02",
          "1993-03",
          "1993-04",
          "1993-05",
          "1993-06",
          "1993-07",
          "1993-08",
          "1993-09",
          "1993-10",
          "1993-11",
          "1993-12",
          "1994-01",
          "1994-02",
          "1994-03",
          "1994-04",
          "1994-05",
          "1994-06",
          "1994-07",
          "1994-08",
          "1994-09",
          "1994-10",
          "1994-11",
          "1994-12",
          "1995-01",
          "1995-02",
          "1995-03",
          "1995-04",
          "1995-05",
          "1995-06",
          "1995-07",
          "1995-08",
          "1995-09",
          "1995-10",
          "1995-11",
          "1995-12",
          "1996-01",
          "1996-02",
          "1996-03",
          "1996-04",
          "1996-05",
          "1996-06",
          "1996-07",
          "1996-08",
          "1996-09",
          "1996-10",
          "1996-11",
          "1996-12",
          "1997-01",
          "1997-02",
          "1997-03",
          "1997-04",
          "1997-05",
          "1997-06",
          "1997-07",
          "1997-08",
          "1997-09",
          "1997-10",
          "1997-11",
          "1997-12",
          "1998-01",
          "1998-02",
          "1998-03",
          "1998-04",
          "1998-05",
          "1998-06",
          "1998-07",
          "1998-08",
          "1998-09",
          "1998-10",
          "1998-11",
          "1998-12",
          "1999-01",
          "1999-02",
          "1999-03",
          "1999-04",
          "1999-05",
          "1999-06",
          "1999-07",
          "1999-08",
          "1999-09",
          "1999-10",
          "1999-11",
          "1999-12",
          "2000-01",
          "2000-02",
          "2000-03",
          "2000-04",
          "2000-05",
          "2000-06",
          "2000-07",
          "2000-08",
          "2000-09",
          "2000-10",
          "2000-11",
          "2000-12",
          "2001-01",
          "2001-02",
          "2001-03",
          "2001-04",
          "2001-05",
          "2001-06",
          "2001-07",
          "2001-08",
          "2001-09",
          "2001-10",
          "2001-11",
          "2001-12",
          "2002-01",
          "2002-02",
          "2002-03",
          "2002-04",
          "2002-05",
          "2002-06",
          "2002-07",
          "2002-08",
          "2002-09",
          "2002-10",
          "2002-11",
          "2002-12",
          "2003-01",
          "2003-02",
          "2003-03",
          "2003-04",
          "2003-05",
          "2003-06",
          "2003-07",
          "2003-08",
          "2003-09",
          "2003-10",
          "2003-11",
          "2003-12",
          "2004-01",
          "2004-02",
          "2004-03",
          "2004-04",
          "2004-05",
          "2004-06",
          "2004-07",
          "2004-08",
          "2004-09",
          "2004-10",
          "2004-11",
          "2004-12",
          "2005-01",
          "2005-02",
          "2005-03",
          "2005-04",
          "2005-05",
          "2005-06",
          "2005-07",
          "2005-08",
          "2005-09",
          "2005-10",
          "2005-11",
          "2005-12",
          "2006-01",
          "2006-02",
          "2006-03",
          "2006-04",
          "2006-05",
          "2006-06",
          "2006-07",
          "2006-08",
          "2006-09",
          "2006-10",
          "2006-11",
          "2006-12",
          "2007-01",
          "2007-02",
          "2007-03",
          "2007-04",
          "2007-05",
          "2007-06",
          "2007-07",
          "2007-08",
          "2007-09",
          "2007-10",
          "2007-11",
          "2007-12",
          "2008-01",
          "2008-02",
          "2008-03",
          "2008-04",
          "2008-05",
          "2008-06",
          "2008-07",
          "2008-08",
          "2008-09",
          "2008-10",
          "2008-11",
          "2008-12",
          "2009-01",
          "2009-02",
          "2009-03",
          "2009-04",
          "2009-05",
          "2009-06",
          "2009-07",
          "2009-08",
          "2009-09",
          "2009-10",
          "2009-11",
          "2009-12",
          "2010-01",
          "2010-02",
          "2010-03",
          "2010-04",
          "2010-05",
          "2010-06",
          "2010-07",
          "2010-08",
          "2010-09",
          "2010-10",
          "2010-11",
          "2010-12",
          "2011-01",
          "2011-02",
          "2011-03",
          "2011-04",
          "2011-05",
          "2011-06",
          "2011-07",
          "2011-08",
          "2011-09",
          "2011-10",
          "2011-11",
          "2011-12",
          "2012-01",
          "2012-02",
          "2012-03",
          "2012-04",
          "2012-05",
          "2012-06",
          "2012-07",
          "2012-08",
          "2012-09",
          "2012-10",
          "2012-11",
          "2012-12",
          "2013-01",
          "2013-02",
          "2013-03",
          "2013-04",
          "2013-05",
          "2013-06",
          "2013-07",
          "2013-08",
          "2013-09",
          "2013-10",
          "2013-11",
          "2013-12",
          "2014-01",
          "2014-02",
          "2014-03",
          "2014-04",
          "2014-05",
          "2014-06",
          "2014-07",
          "2014-08",
          "2014-09",
          "2014-10",
          "2014-11",
          "2014-12",
          "2015-01",
          "2015-02",
          "2015-03",
          "2015-04",
          "2015-05",
          "2015-06",
          "2015-07",
          "2015-08",
          "2015-09",
          "2015-10",
          "2015-11",
          "2015-12",
          "2016-01",
          "2016-02",
          "2016-03",
          "2016-04",
          "2016-05",
          "2016-06",
          "2016-07",
          "2016-08",
          "2016-09",
          "2016-10",
          "2016-11",
          "2016-12",
          "2017-01",
          "2017-02",
          "2017-03",
          "2017-04",
          "2017-05",
          "2017-06",
          "2017-07",
          "2017-08",
          "2017-09",
          "2017-10",
          "2017-11",
          "2017-12",
          "2018-01",
          "2018-02",
          "2018-03",
          "2018-04",
          "2018-05",
          "2018-06",
          "2018-07",
          "2018-08",
          "2018-09",
          "2018-10",
          "2018-11",
          "2018-12",
          "2019-01",
          "2019-02",
          "2019-03",
          "2019-04",
          "2019-05",
          "2019-06",
          "2019-07",
          "2019-08",
          "2019-09"
         ],
         "xaxis": "x",
         "y": [
          452.12,
          2371.46,
          15326.476,
          23630.07,
          23345.28,
          30426.86,
          33593.29,
          36414.204,
          35847,
          37041.9,
          37041.9,
          35887.64,
          500.38,
          2155.56,
          7815.95,
          14564.76,
          18917.27,
          24101.16,
          26740.89,
          29019.22,
          28285.879999999997,
          29248.5,
          29248.5,
          28305,
          106.68,
          2930.56,
          8350.56,
          15782.57,
          23521.65,
          31834.41,
          32899.58,
          34448.72,
          33378,
          34490.6,
          34490.6,
          33378,
          459.74,
          4719.62,
          12611.07,
          19238.24,
          19923.33,
          28469.22,
          33335.95,
          36288.24,
          35286,
          36462.200000000004,
          36462.200000000004,
          35286,
          73.66,
          1765.23,
          4412.91,
          8451.51,
          16307.79,
          25620.05,
          33720.14,
          38024.14,
          37182.76,
          38858.5,
          38858.5,
          37605,
          1087.12,
          2865.42,
          5072.6900000000005,
          7225.65,
          8996.1,
          15932.83,
          16964.059999999998,
          17940.64,
          17373,
          17952.100000000002,
          17952.100000000002,
          17373,
          0,
          474.98,
          955.7049999999999,
          3948.275,
          4567.2,
          8593.07,
          10780.52,
          13369.48,
          13911,
          14374.699999999999,
          14374.699999999999,
          13911,
          12.7,
          1574.7649999999999,
          5203.6849999999995,
          16107.935,
          21865.18,
          29064.629999999997,
          32345.03,
          36181.99,
          35358,
          36536.6,
          36536.6,
          35358,
          0,
          1781.8799999999999,
          5418.13,
          9696.45,
          14785.060000000001,
          25812.16,
          28928.43,
          32926.049999999996,
          32264.12,
          33424.200000000004,
          33424.200000000004,
          32346,
          182.88,
          1358.97,
          4178.3,
          12568.85,
          17004.5,
          28289.53,
          30591.989999999998,
          32809.8,
          32468.22,
          33582.299999999996,
          33582.299999999996,
          32499,
          248.92,
          837.53,
          3087.99,
          4655.14,
          10141.21,
          15346.9,
          19066.760000000002,
          20268.74,
          19704,
          20360.8,
          20360.8,
          19734.48,
          831.85,
          4108.38,
          8507.05,
          21328.66,
          23988.32,
          32378.280000000002,
          46009.79,
          48493.619999999995,
          47118.06,
          48704.1,
          48704.1,
          47226.979999999996,
          193.04,
          2545.15,
          12065.37,
          18845.28,
          26497.3,
          40587.68,
          45235,
          52650.11,
          51129,
          52833.299999999996,
          52833.299999999996,
          51129,
          0,
          1962.15,
          10173.01,
          14429.4,
          16885.920000000002,
          22810.16,
          25543.58,
          28519.18,
          27873.5,
          28814.5,
          28814.5,
          27886.27,
          728.98,
          5134.54,
          12399.94,
          14414.130000000001,
          17253.77,
          26055.850000000002,
          30396.27,
          31819.109999999997,
          31048.98,
          32091.2,
          32091.2,
          31284.600000000002,
          368.3,
          3796.63,
          11696.33,
          13298.11,
          18896.18,
          28713.43,
          30592.13,
          32822.87,
          31887.000000000004,
          32949.9,
          32949.9,
          32350.550000000003,
          106.68,
          263.56,
          1401.46,
          6100.74,
          10094.09,
          15767.33,
          17583.38,
          18387,
          17910,
          18507,
          18507,
          17910,
          0,
          424.18,
          4149.37,
          11966.56,
          13374.44,
          15191.31,
          15489.24,
          17714.8,
          17881.99,
          18587.600000000002,
          18587.600000000002,
          17988,
          0,
          2250.44,
          7527.26,
          14948.8,
          19890.44,
          28282.84,
          32254.350000000002,
          35365.6,
          34599,
          35752.299999999996,
          35752.299999999996,
          34632.02,
          572.77,
          2786.45,
          6376.7,
          8994.17,
          15280.36,
          22419.31,
          22467.87,
          23850.940000000002,
          24078,
          24880.600000000002,
          24880.600000000002,
          24078,
          23.5,
          434,
          2681,
          4674,
          5630.5,
          15783.5,
          22232.5,
          25312.5,
          25260,
          26102,
          26102,
          25260,
          142.5,
          1732,
          4351.5,
          7096.5,
          11609,
          17704,
          18000,
          18662,
          18092,
          18724,
          18724,
          18120,
          121,
          1367.4,
          8142.6,
          21245.2,
          21385,
          35400,
          35923,
          39083.700000000004,
          38064,
          39391.700000000004,
          39391.700000000004,
          38121,
          0,
          426.5,
          5138.5,
          7533,
          11411.5,
          17690,
          18032.5,
          19549,
          18960,
          19592,
          19592,
          18960,
          179,
          3748,
          12067.2,
          21715.5,
          24639.6,
          34510.9,
          42026.1,
          46102,
          45280,
          47101.4,
          47101.4,
          45582,
          0,
          4,
          1331.3000000000002,
          5588.8,
          13843.5,
          22362.9,
          24292.5,
          25846.8,
          25044,
          25878.8,
          25878.8,
          25044,
          63,
          48.4,
          4536.5,
          13449.3,
          18008.2,
          21138.300000000003,
          21125,
          21923.2,
          21216,
          21923.2,
          21923.2,
          21228,
          741,
          1850.5,
          6475.8,
          13374.2,
          23001.4,
          31962.4,
          36207.100000000006,
          40419.9,
          40362,
          41707.4,
          41707.4,
          40362,
          136.8,
          2718.2,
          8289.5,
          11177.4,
          18843,
          28164,
          32967.5,
          36039.5,
          35410.5,
          36626.5,
          36626.5,
          35445,
          0,
          987.5,
          3533.5,
          6645.5,
          14892,
          24812.5,
          25016.5,
          26798,
          26265,
          27140.5,
          27140.5,
          26453.5,
          939.5,
          3260,
          5432.5,
          8752,
          14795.5,
          22946.5,
          24747,
          27063,
          26190,
          27063,
          27063,
          26190,
          2,
          800,
          10009.5,
          15207,
          16485.5,
          23273,
          26388.5,
          29597.5,
          29043,
          30023.5,
          30023.5,
          29055,
          0,
          1396,
          6711,
          14997,
          14819,
          18973.5,
          25164.5,
          31144.5,
          30405,
          31418.5,
          31418.5,
          30405,
          30,
          2541.5,
          7431,
          17064.5,
          20431,
          27120.5,
          27361.5,
          29232.5,
          28424,
          29388,
          29388,
          28508,
          1257,
          4695,
          9030,
          20618,
          21481,
          28194.5,
          34493,
          37062,
          36395,
          37711.5,
          37711.5,
          36495,
          130,
          638.5,
          2657.5,
          8841,
          11184,
          20642,
          29868,
          33251,
          32430,
          33511,
          33511,
          32437.5,
          103,
          749,
          3750,
          6920.5,
          8738.5,
          16745.5,
          18174.5,
          21173,
          20640,
          21343.5,
          21343.5,
          20687.5,
          901,
          1375,
          4804,
          13006.5,
          20722.5,
          25708,
          25806,
          27172.5,
          26385,
          27264.5,
          27264.5,
          26385,
          0,
          893.5,
          4096.5,
          9142.5,
          13269,
          25202.5,
          26788.5,
          28363,
          27450,
          28365,
          28365,
          27450,
          473.5,
          1380,
          6958.5,
          13738,
          19096.5,
          26815.5,
          32462.5,
          37887,
          38820,
          40114,
          40114,
          38820,
          73.5,
          2936.5,
          12577.5,
          19166.5,
          20969,
          35898.5,
          44320.5,
          47895,
          48880.5,
          50623,
          50623,
          48990,
          1312,
          2856,
          3912,
          4979,
          7458.5,
          16710.5,
          23508.5,
          25372.5,
          24875.5,
          25730,
          25730,
          24900,
          840,
          3692.5,
          7946,
          12974,
          12560,
          15635.5,
          16136.5,
          16817.5,
          16275,
          16817.5,
          16817.5,
          16298,
          149,
          1464,
          3323,
          3824,
          5447,
          9330,
          13292.5,
          15244,
          14820,
          15314,
          15314,
          14820,
          18,
          697,
          3817.5,
          5580,
          5786.5,
          7575.5,
          8649.5,
          10152.5,
          9915,
          10245.5,
          10245.5,
          9915,
          0,
          1337,
          5955.5,
          13019.5,
          16339,
          23749.5,
          27478.5,
          29170.5,
          28620,
          29574,
          29574,
          28620,
          271.5,
          2300.5,
          5890.5,
          18874,
          28530.5,
          39331.5,
          41490.5,
          44409.5,
          43367.5,
          45012,
          45012,
          43597.5,
          142,
          1296,
          2399,
          3399,
          5289.5,
          15878,
          19757.5,
          21049,
          20370,
          21049,
          21049,
          20370,
          0,
          402,
          4239.5,
          10757,
          20257.5,
          34051.5,
          35293,
          37302,
          37185,
          38424.5,
          38424.5,
          37211.5
         ],
         "yaxis": "y"
        }
       ],
       "layout": {
        "legend": {
         "tracegroupgap": 0
        },
        "template": {
         "data": {
          "bar": [
           {
            "error_x": {
             "color": "#2a3f5f"
            },
            "error_y": {
             "color": "#2a3f5f"
            },
            "marker": {
             "line": {
              "color": "#E5ECF6",
              "width": 0.5
             },
             "pattern": {
              "fillmode": "overlay",
              "size": 10,
              "solidity": 0.2
             }
            },
            "type": "bar"
           }
          ],
          "barpolar": [
           {
            "marker": {
             "line": {
              "color": "#E5ECF6",
              "width": 0.5
             },
             "pattern": {
              "fillmode": "overlay",
              "size": 10,
              "solidity": 0.2
             }
            },
            "type": "barpolar"
           }
          ],
          "carpet": [
           {
            "aaxis": {
             "endlinecolor": "#2a3f5f",
             "gridcolor": "white",
             "linecolor": "white",
             "minorgridcolor": "white",
             "startlinecolor": "#2a3f5f"
            },
            "baxis": {
             "endlinecolor": "#2a3f5f",
             "gridcolor": "white",
             "linecolor": "white",
             "minorgridcolor": "white",
             "startlinecolor": "#2a3f5f"
            },
            "type": "carpet"
           }
          ],
          "choropleth": [
           {
            "colorbar": {
             "outlinewidth": 0,
             "ticks": ""
            },
            "type": "choropleth"
           }
          ],
          "contour": [
           {
            "colorbar": {
             "outlinewidth": 0,
             "ticks": ""
            },
            "colorscale": [
             [
              0,
              "#0d0887"
             ],
             [
              0.1111111111111111,
              "#46039f"
             ],
             [
              0.2222222222222222,
              "#7201a8"
             ],
             [
              0.3333333333333333,
              "#9c179e"
             ],
             [
              0.4444444444444444,
              "#bd3786"
             ],
             [
              0.5555555555555556,
              "#d8576b"
             ],
             [
              0.6666666666666666,
              "#ed7953"
             ],
             [
              0.7777777777777778,
              "#fb9f3a"
             ],
             [
              0.8888888888888888,
              "#fdca26"
             ],
             [
              1,
              "#f0f921"
             ]
            ],
            "type": "contour"
           }
          ],
          "contourcarpet": [
           {
            "colorbar": {
             "outlinewidth": 0,
             "ticks": ""
            },
            "type": "contourcarpet"
           }
          ],
          "heatmap": [
           {
            "colorbar": {
             "outlinewidth": 0,
             "ticks": ""
            },
            "colorscale": [
             [
              0,
              "#0d0887"
             ],
             [
              0.1111111111111111,
              "#46039f"
             ],
             [
              0.2222222222222222,
              "#7201a8"
             ],
             [
              0.3333333333333333,
              "#9c179e"
             ],
             [
              0.4444444444444444,
              "#bd3786"
             ],
             [
              0.5555555555555556,
              "#d8576b"
             ],
             [
              0.6666666666666666,
              "#ed7953"
             ],
             [
              0.7777777777777778,
              "#fb9f3a"
             ],
             [
              0.8888888888888888,
              "#fdca26"
             ],
             [
              1,
              "#f0f921"
             ]
            ],
            "type": "heatmap"
           }
          ],
          "heatmapgl": [
           {
            "colorbar": {
             "outlinewidth": 0,
             "ticks": ""
            },
            "colorscale": [
             [
              0,
              "#0d0887"
             ],
             [
              0.1111111111111111,
              "#46039f"
             ],
             [
              0.2222222222222222,
              "#7201a8"
             ],
             [
              0.3333333333333333,
              "#9c179e"
             ],
             [
              0.4444444444444444,
              "#bd3786"
             ],
             [
              0.5555555555555556,
              "#d8576b"
             ],
             [
              0.6666666666666666,
              "#ed7953"
             ],
             [
              0.7777777777777778,
              "#fb9f3a"
             ],
             [
              0.8888888888888888,
              "#fdca26"
             ],
             [
              1,
              "#f0f921"
             ]
            ],
            "type": "heatmapgl"
           }
          ],
          "histogram": [
           {
            "marker": {
             "pattern": {
              "fillmode": "overlay",
              "size": 10,
              "solidity": 0.2
             }
            },
            "type": "histogram"
           }
          ],
          "histogram2d": [
           {
            "colorbar": {
             "outlinewidth": 0,
             "ticks": ""
            },
            "colorscale": [
             [
              0,
              "#0d0887"
             ],
             [
              0.1111111111111111,
              "#46039f"
             ],
             [
              0.2222222222222222,
              "#7201a8"
             ],
             [
              0.3333333333333333,
              "#9c179e"
             ],
             [
              0.4444444444444444,
              "#bd3786"
             ],
             [
              0.5555555555555556,
              "#d8576b"
             ],
             [
              0.6666666666666666,
              "#ed7953"
             ],
             [
              0.7777777777777778,
              "#fb9f3a"
             ],
             [
              0.8888888888888888,
              "#fdca26"
             ],
             [
              1,
              "#f0f921"
             ]
            ],
            "type": "histogram2d"
           }
          ],
          "histogram2dcontour": [
           {
            "colorbar": {
             "outlinewidth": 0,
             "ticks": ""
            },
            "colorscale": [
             [
              0,
              "#0d0887"
             ],
             [
              0.1111111111111111,
              "#46039f"
             ],
             [
              0.2222222222222222,
              "#7201a8"
             ],
             [
              0.3333333333333333,
              "#9c179e"
             ],
             [
              0.4444444444444444,
              "#bd3786"
             ],
             [
              0.5555555555555556,
              "#d8576b"
             ],
             [
              0.6666666666666666,
              "#ed7953"
             ],
             [
              0.7777777777777778,
              "#fb9f3a"
             ],
             [
              0.8888888888888888,
              "#fdca26"
             ],
             [
              1,
              "#f0f921"
             ]
            ],
            "type": "histogram2dcontour"
           }
          ],
          "mesh3d": [
           {
            "colorbar": {
             "outlinewidth": 0,
             "ticks": ""
            },
            "type": "mesh3d"
           }
          ],
          "parcoords": [
           {
            "line": {
             "colorbar": {
              "outlinewidth": 0,
              "ticks": ""
             }
            },
            "type": "parcoords"
           }
          ],
          "pie": [
           {
            "automargin": true,
            "type": "pie"
           }
          ],
          "scatter": [
           {
            "fillpattern": {
             "fillmode": "overlay",
             "size": 10,
             "solidity": 0.2
            },
            "type": "scatter"
           }
          ],
          "scatter3d": [
           {
            "line": {
             "colorbar": {
              "outlinewidth": 0,
              "ticks": ""
             }
            },
            "marker": {
             "colorbar": {
              "outlinewidth": 0,
              "ticks": ""
             }
            },
            "type": "scatter3d"
           }
          ],
          "scattercarpet": [
           {
            "marker": {
             "colorbar": {
              "outlinewidth": 0,
              "ticks": ""
             }
            },
            "type": "scattercarpet"
           }
          ],
          "scattergeo": [
           {
            "marker": {
             "colorbar": {
              "outlinewidth": 0,
              "ticks": ""
             }
            },
            "type": "scattergeo"
           }
          ],
          "scattergl": [
           {
            "marker": {
             "colorbar": {
              "outlinewidth": 0,
              "ticks": ""
             }
            },
            "type": "scattergl"
           }
          ],
          "scattermapbox": [
           {
            "marker": {
             "colorbar": {
              "outlinewidth": 0,
              "ticks": ""
             }
            },
            "type": "scattermapbox"
           }
          ],
          "scatterpolar": [
           {
            "marker": {
             "colorbar": {
              "outlinewidth": 0,
              "ticks": ""
             }
            },
            "type": "scatterpolar"
           }
          ],
          "scatterpolargl": [
           {
            "marker": {
             "colorbar": {
              "outlinewidth": 0,
              "ticks": ""
             }
            },
            "type": "scatterpolargl"
           }
          ],
          "scatterternary": [
           {
            "marker": {
             "colorbar": {
              "outlinewidth": 0,
              "ticks": ""
             }
            },
            "type": "scatterternary"
           }
          ],
          "surface": [
           {
            "colorbar": {
             "outlinewidth": 0,
             "ticks": ""
            },
            "colorscale": [
             [
              0,
              "#0d0887"
             ],
             [
              0.1111111111111111,
              "#46039f"
             ],
             [
              0.2222222222222222,
              "#7201a8"
             ],
             [
              0.3333333333333333,
              "#9c179e"
             ],
             [
              0.4444444444444444,
              "#bd3786"
             ],
             [
              0.5555555555555556,
              "#d8576b"
             ],
             [
              0.6666666666666666,
              "#ed7953"
             ],
             [
              0.7777777777777778,
              "#fb9f3a"
             ],
             [
              0.8888888888888888,
              "#fdca26"
             ],
             [
              1,
              "#f0f921"
             ]
            ],
            "type": "surface"
           }
          ],
          "table": [
           {
            "cells": {
             "fill": {
              "color": "#EBF0F8"
             },
             "line": {
              "color": "white"
             }
            },
            "header": {
             "fill": {
              "color": "#C8D4E3"
             },
             "line": {
              "color": "white"
             }
            },
            "type": "table"
           }
          ]
         },
         "layout": {
          "annotationdefaults": {
           "arrowcolor": "#2a3f5f",
           "arrowhead": 0,
           "arrowwidth": 1
          },
          "autotypenumbers": "strict",
          "coloraxis": {
           "colorbar": {
            "outlinewidth": 0,
            "ticks": ""
           }
          },
          "colorscale": {
           "diverging": [
            [
             0,
             "#8e0152"
            ],
            [
             0.1,
             "#c51b7d"
            ],
            [
             0.2,
             "#de77ae"
            ],
            [
             0.3,
             "#f1b6da"
            ],
            [
             0.4,
             "#fde0ef"
            ],
            [
             0.5,
             "#f7f7f7"
            ],
            [
             0.6,
             "#e6f5d0"
            ],
            [
             0.7,
             "#b8e186"
            ],
            [
             0.8,
             "#7fbc41"
            ],
            [
             0.9,
             "#4d9221"
            ],
            [
             1,
             "#276419"
            ]
           ],
           "sequential": [
            [
             0,
             "#0d0887"
            ],
            [
             0.1111111111111111,
             "#46039f"
            ],
            [
             0.2222222222222222,
             "#7201a8"
            ],
            [
             0.3333333333333333,
             "#9c179e"
            ],
            [
             0.4444444444444444,
             "#bd3786"
            ],
            [
             0.5555555555555556,
             "#d8576b"
            ],
            [
             0.6666666666666666,
             "#ed7953"
            ],
            [
             0.7777777777777778,
             "#fb9f3a"
            ],
            [
             0.8888888888888888,
             "#fdca26"
            ],
            [
             1,
             "#f0f921"
            ]
           ],
           "sequentialminus": [
            [
             0,
             "#0d0887"
            ],
            [
             0.1111111111111111,
             "#46039f"
            ],
            [
             0.2222222222222222,
             "#7201a8"
            ],
            [
             0.3333333333333333,
             "#9c179e"
            ],
            [
             0.4444444444444444,
             "#bd3786"
            ],
            [
             0.5555555555555556,
             "#d8576b"
            ],
            [
             0.6666666666666666,
             "#ed7953"
            ],
            [
             0.7777777777777778,
             "#fb9f3a"
            ],
            [
             0.8888888888888888,
             "#fdca26"
            ],
            [
             1,
             "#f0f921"
            ]
           ]
          },
          "colorway": [
           "#636efa",
           "#EF553B",
           "#00cc96",
           "#ab63fa",
           "#FFA15A",
           "#19d3f3",
           "#FF6692",
           "#B6E880",
           "#FF97FF",
           "#FECB52"
          ],
          "font": {
           "color": "#2a3f5f"
          },
          "geo": {
           "bgcolor": "white",
           "lakecolor": "white",
           "landcolor": "#E5ECF6",
           "showlakes": true,
           "showland": true,
           "subunitcolor": "white"
          },
          "hoverlabel": {
           "align": "left"
          },
          "hovermode": "closest",
          "mapbox": {
           "style": "light"
          },
          "paper_bgcolor": "white",
          "plot_bgcolor": "#E5ECF6",
          "polar": {
           "angularaxis": {
            "gridcolor": "white",
            "linecolor": "white",
            "ticks": ""
           },
           "bgcolor": "#E5ECF6",
           "radialaxis": {
            "gridcolor": "white",
            "linecolor": "white",
            "ticks": ""
           }
          },
          "scene": {
           "xaxis": {
            "backgroundcolor": "#E5ECF6",
            "gridcolor": "white",
            "gridwidth": 2,
            "linecolor": "white",
            "showbackground": true,
            "ticks": "",
            "zerolinecolor": "white"
           },
           "yaxis": {
            "backgroundcolor": "#E5ECF6",
            "gridcolor": "white",
            "gridwidth": 2,
            "linecolor": "white",
            "showbackground": true,
            "ticks": "",
            "zerolinecolor": "white"
           },
           "zaxis": {
            "backgroundcolor": "#E5ECF6",
            "gridcolor": "white",
            "gridwidth": 2,
            "linecolor": "white",
            "showbackground": true,
            "ticks": "",
            "zerolinecolor": "white"
           }
          },
          "shapedefaults": {
           "line": {
            "color": "#2a3f5f"
           }
          },
          "ternary": {
           "aaxis": {
            "gridcolor": "white",
            "linecolor": "white",
            "ticks": ""
           },
           "baxis": {
            "gridcolor": "white",
            "linecolor": "white",
            "ticks": ""
           },
           "bgcolor": "#E5ECF6",
           "caxis": {
            "gridcolor": "white",
            "linecolor": "white",
            "ticks": ""
           }
          },
          "title": {
           "x": 0.05
          },
          "xaxis": {
           "automargin": true,
           "gridcolor": "white",
           "linecolor": "white",
           "ticks": "",
           "title": {
            "standoff": 15
           },
           "zerolinecolor": "white",
           "zerolinewidth": 2
          },
          "yaxis": {
           "automargin": true,
           "gridcolor": "white",
           "linecolor": "white",
           "ticks": "",
           "title": {
            "standoff": 15
           },
           "zerolinecolor": "white",
           "zerolinewidth": 2
          }
         }
        },
        "title": {
         "text": "Monthly Snowfall"
        },
        "xaxis": {
         "anchor": "y",
         "domain": [
          0,
          1
         ],
         "title": {
          "text": "Month_Year"
         }
        },
        "yaxis": {
         "anchor": "x",
         "domain": [
          0,
          1
         ],
         "title": {
          "text": "Season_Total_Snow_cm"
         }
        }
       }
      }
     },
     "metadata": {},
     "output_type": "display_data"
    }
   ],
   "source": [
    "# get total snowfall for each month and year\n",
    "monthly_snow = combined_data.groupby(['Month_Year']).agg({'Season_Total_Snow_cm': 'sum'}).reset_index()\n",
    "monthly_snow.Month_Year = monthly_snow.Month_Year.dt.strftime('%Y-%m')\n",
    "# create a plotly express line chart\n",
    "fig = px.line(monthly_snow, x=\"Month_Year\", y=\"Season_Total_Snow_cm\", title='Monthly Snowfall')\n",
    "fig.show()"
   ]
  },
  {
   "cell_type": "code",
   "execution_count": null,
   "metadata": {},
   "outputs": [],
   "source": []
  },
  {
   "cell_type": "markdown",
   "metadata": {},
   "source": [
    "### Acres of forest fuels reduction treated for wildfire in high-risk areas, map of prescribed fire treatment projects"
   ]
  },
  {
   "cell_type": "code",
   "execution_count": null,
   "metadata": {},
   "outputs": [],
   "source": [
    "# get EIP indicator as dataframe\n",
    "import pandas as pd\n",
    "import plotly.express as px\n",
    "\n",
    "# EIP Service for Acres Treated\n",
    "eipForestTreatments = \"https://www.laketahoeinfo.org/WebServices/GetReportedEIPIndicatorProjectAccomplishments/JSON/e17aeb86-85e3-4260-83fd-a2b32501c476/19\"\n",
    "\n",
    "# TRCD service ## Doesnt match EIP data ## from 2022 used in map though\n",
    "trcdLayer = \"https://services6.arcgis.com/1KtlSd2mklZMBKaz/ArcGIS/rest/services/Tahoe_Forest_Fuels_Tx_OFFICIAL_Public_View/FeatureServer/0\"\n",
    "\n",
    "# get the data\n",
    "dfTreatments = pd.read_json(eipForestTreatments)\n"
   ]
  },
  {
   "cell_type": "code",
   "execution_count": null,
   "metadata": {},
   "outputs": [],
   "source": [
    "dfTreatments.info()"
   ]
  },
  {
   "cell_type": "code",
   "execution_count": null,
   "metadata": {},
   "outputs": [],
   "source": [
    "dfTreatments.to_csv(\"EIP_ForestHealthTreatments.csv\", index=False)"
   ]
  },
  {
   "cell_type": "code",
   "execution_count": null,
   "metadata": {},
   "outputs": [],
   "source": [
    "\n",
    "# get EIP indicator as dataframe\n",
    "import pandas as pd\n",
    "import plotly.express as px\n",
    "\n",
    "# EIP Service for Acres Treated\n",
    "eipForestTreatments = \"https://www.laketahoeinfo.org/WebServices/GetReportedEIPIndicatorProjectAccomplishments/JSON/e17aeb86-85e3-4260-83fd-a2b32501c476/19\"\n",
    "\n",
    "# TRCD service ## Doesnt match EIP data ## from 2022 used in map though\n",
    "trcdLayer = \"https://services6.arcgis.com/1KtlSd2mklZMBKaz/ArcGIS/rest/services/Tahoe_Forest_Fuels_Tx_OFFICIAL_Public_View/FeatureServer/0\"\n",
    "\n",
    "# get the data\n",
    "dfTreatments = pd.read_json(eipForestTreatments)\n",
    "\n",
    "# display the data\n",
    "dfTreatments.head()\n",
    "# group treatments by year\n",
    "dfTreatments = dfTreatments.groupby(['IndicatorProjectYear']).sum().reset_index()\n",
    "dfTreatments.head()\n",
    "# create plotly figure of forest treatments by year\n",
    "fig = px.bar(dfTreatments, x='IndicatorProjectYear', y='IndicatorProjectValue', title='Forest Treatments by Year')\n",
    "fig.update_xaxes(title_text='Year')\n",
    "fig.update_yaxes(title_text='Acres Treated')\n",
    "fig.show()"
   ]
  },
  {
   "cell_type": "markdown",
   "metadata": {},
   "source": [
    "### Tree species diversity and increasing old growth forest "
   ]
  },
  {
   "cell_type": "code",
   "execution_count": null,
   "metadata": {},
   "outputs": [],
   "source": [
    "from arcgis.features import FeatureLayer\n",
    "## historical species distribution and old growth data is not comparable to current data\n",
    "\n",
    "# display Old Growth Forest Acres\n",
    "oldGrowthLayer = \"https://maps.trpa.org/server/rest/services/Vegetation_Late_Seral/FeatureServer/0\"\n",
    "\n",
    "# get the feature layer as a spatially enabled dataframe\n",
    "# speciesData = FeatureLayer(speciesLayer).query().sdf\n",
    "oldGrowthData = FeatureLayer(oldGrowthLayer).query().sdf\n",
    "\n",
    "# summarize the data by Acres\n",
    "oldGrowthDataSummary = oldGrowthData.groupby('SeralStage').agg({'Acres': 'sum'}).reset_index()\n",
    "\n"
   ]
  },
  {
   "cell_type": "code",
   "execution_count": null,
   "metadata": {},
   "outputs": [],
   "source": [
    "dfVeg.info()"
   ]
  },
  {
   "cell_type": "code",
   "execution_count": null,
   "metadata": {},
   "outputs": [],
   "source": [
    "import numpy as np\n",
    "# colors of the veg types\n",
    "colors = ['#d7d79e','#9ed7c2','#cdf57a','#b4d79e', \n",
    "          '#ff0000', '#a5f57a','#00a820','#df73ff', \n",
    "          '#3e72b0','#2f3f56', '#a8a800']\n",
    "\n",
    "# current species distribution Use \"TRPA_Veg_Type\" to display the current species distribution\n",
    "speciesLayer = \"https://maps.trpa.org/server/rest/services/Vegetation_Type/MapServer/0\"\n",
    "\n",
    "# get the feature layer as a spatially enabled dataframe\n",
    "dfVeg = FeatureLayer(speciesLayer).query().sdf\n",
    "\n",
    "# summarize the data by Acres\n",
    "dfVeg.TRPA_VegType.replace('', np.nan, inplace=True)\n",
    "dfVegType = dfVeg.groupby(\"TRPA_VegType\")[\"Acres\"].sum().reset_index()\n",
    "\n",
    "df = dfVegType.rename(columns={'TRPA_VegType':'Vegetation Type'})\n",
    "\n",
    "df['Vegetation Type'] = df['Vegetation Type'].replace(['Cushion Plant'],'Cushion Plant/Rocky Outcrop')\n",
    "\n",
    "fig = px.bar(df, y=\"Vegetation Type\", x=\"Acres\", color=\"Vegetation Type\", orientation=\"h\", hover_name=\"Vegetation Type\",\n",
    "             color_discrete_sequence=colors ,\n",
    "             title=\"Vegetation Abundance\"\n",
    "            )\n",
    "\n",
    "fig.update_traces(hovertemplate='<b>%{x:,.0f}</b> acres<extra></extra>')\n",
    "\n",
    "# set style variables\n",
    "template = 'plotly_white'\n",
    "font     = 'Calibri'\n",
    "\n",
    "fig.update_layout(font_family=font,\n",
    "                    template=template,\n",
    "                    showlegend=False,\n",
    "                    hovermode=\"y unified\",\n",
    "                    yaxis={'categoryorder':'total ascending'})\n",
    "fig.show()"
   ]
  },
  {
   "cell_type": "markdown",
   "metadata": {},
   "source": [
    "### Probability of fire by low, moderate, & high severity by management zone."
   ]
  },
  {
   "cell_type": "code",
   "execution_count": null,
   "metadata": {},
   "outputs": [],
   "source": [
    "# spatial analysis for fire severity\n",
    "import arcpy\n",
    "\n",
    "# reclass Low Severity flame length raster\n",
    "with arcpy.EnvManager(scratchWorkspace=r\"F:\\GIS\\PROJECTS\\ForestHealth_Intiative\\ThresholdUpdate\\Data\\ForestHealth_ThresholdUpdate.gdb\"):\n",
    "    out_raster = arcpy.sa.Reclassify(\n",
    "        in_raster=r\"F:\\\\GIS\\\\PROJECTS\\\\ForestHealth_Intiative\\\\ThresholdUpdate\\\\Data\\\\ForestHealth_ThresholdUpdate.gdb\\FunctionalFire_ProbLowSeverity_2022_ACCEL_30m_Tahoe\",\n",
    "        reclass_field=\"Value\",\n",
    "        remap=\"0 0.600000 0;0.600000 1 1\",\n",
    "        missing_values=\"DATA\"\n",
    "    )\n",
    "    out_raster.save(r\"F:\\GIS\\PROJECTS\\ForestHealth_Intiative\\ThresholdUpdate\\Data\\ForestHealth_ThresholdUpdate.gdb\\FunctionalFire_Reclass_Low_60thPercentile\")\n",
    "\n",
    "# convert reclassified raster to polygon\n",
    "arcpy.conversion.RasterToPolygon(\n",
    "    in_raster=r\"Fire Severity\\Low Severity Fire\",\n",
    "    out_polygon_features=r\"F:\\GIS\\PROJECTS\\ForestHealth_Intiative\\ThresholdUpdate\\Data\\ForestHealth_ThresholdUpdate.gdb\\FunctionalFire_ProbableLowSeverityFire\",\n",
    "    simplify=\"NO_SIMPLIFY\",\n",
    "    raster_field=\"Value\",\n",
    "    create_multipart_features=\"SINGLE_OUTER_PART\",\n",
    "    max_vertices_per_feature=None\n",
    ")\n",
    "\n",
    "# identity analysis\n",
    "arcpy.analysis.Identity(\n",
    "    in_features=r\"Boundaries\\Forest Management Zone\",\n",
    "    identity_features=\"FunctionalFire_ProbableLowSeverityFire\",\n",
    "    out_feature_class=r\"F:\\GIS\\PROJECTS\\ForestHealth_Intiative\\ThresholdUpdate\\Data\\ForestHealth_ThresholdUpdate.gdb\\ForestManagementZon_Identity_LowSeverity\",\n",
    "    join_attributes=\"ALL\",\n",
    "    cluster_tolerance=None,\n",
    "    relationship=\"NO_RELATIONSHIPS\"\n",
    ")\n",
    "\n",
    "# Calculate the area in acres for each feature\n",
    "arcpy.management.CalculateGeometryAttributes(\n",
    "    in_features=r\"Fire Severity\\ForestManagementZon_Identity_LowSeverity\",\n",
    "    geometry_property=\"Acres AREA\",\n",
    "    length_unit=\"\",\n",
    "    area_unit=\"ACRES_US\",\n",
    "    coordinate_system='PROJCS[\"NAD_1983_UTM_Zone_10N\",GEOGCS[\"GCS_North_American_1983\",DATUM[\"D_North_American_1983\",SPHEROID[\"GRS_1980\",6378137.0,298.257222101]],PRIMEM[\"Greenwich\",0.0],UNIT[\"Degree\",0.0174532925199433]],PROJECTION[\"Transverse_Mercator\"],PARAMETER[\"False_Easting\",500000.0],PARAMETER[\"False_Northing\",0.0],PARAMETER[\"Central_Meridian\",-123.0],PARAMETER[\"Scale_Factor\",0.9996],PARAMETER[\"Latitude_Of_Origin\",0.0],UNIT[\"Meter\",1.0]]',\n",
    "    coordinate_format=\"SAME_AS_INPUT\"\n",
    ")\n",
    "\n",
    "# export table to database\n",
    "arcpy.conversion.ExportTable(\n",
    "    in_table=r\"Fire Severity\\ForestManagementZon_Identity_LowSeverity\",\n",
    "    out_table=r\"F:\\GIS\\DB_CONNECT\\Tabular.sde\\SDE.ClimateResilience_ProbabilityLowSeverityFire_by_ForestManagmentZone\",\n",
    "    where_clause=\"\",\n",
    "    use_field_alias_as_name=\"NOT_USE_ALIAS\",\n",
    "    sort_field=None\n",
    ")\n",
    "\n",
    "# reclass High Severity flame length raster\n",
    "with arcpy.EnvManager(scratchWorkspace=r\"F:\\GIS\\PROJECTS\\ForestHealth_Intiative\\ThresholdUpdate\\Data\\ForestHealth_ThresholdUpdate.gdb\"):\n",
    "    out_raster = arcpy.sa.Reclassify(\n",
    "        in_raster=r\"F:\\\\GIS\\\\PROJECTS\\\\ForestHealth_Intiative\\\\ThresholdUpdate\\\\Data\\\\ForestHealth_ThresholdUpdate.gdb\\FunctionalFire_ProbHighSeverity_2022_ACCEL_30m_Tahoe\",\n",
    "        reclass_field=\"Value\",\n",
    "        remap=\"0 0.600000 0;0.600000 1 1\",\n",
    "        missing_values=\"DATA\"\n",
    "    )\n",
    "    out_raster.save(r\"F:\\GIS\\PROJECTS\\ForestHealth_Intiative\\ThresholdUpdate\\Data\\ForestHealth_ThresholdUpdate.gdb\\FunctionalFire_Reclass_High_60thPercentile\")\n",
    "\n",
    "# convert reclassified raster to polygon\n",
    "arcpy.conversion.RasterToPolygon(\n",
    "    in_raster=r\"Fire Severity\\High Severity Fire\",\n",
    "    out_polygon_features=r\"F:\\GIS\\PROJECTS\\ForestHealth_Intiative\\ThresholdUpdate\\Data\\ForestHealth_ThresholdUpdate.gdb\\FunctionalFire_ProbableHighSeverityFire\",\n",
    "    simplify=\"NO_SIMPLIFY\",\n",
    "    raster_field=\"Value\",\n",
    "    create_multipart_features=\"SINGLE_OUTER_PART\",\n",
    "    max_vertices_per_feature=None\n",
    ")\n",
    "\n",
    "# identity analysis\n",
    "arcpy.analysis.Identity(\n",
    "    in_features=r\"Boundaries\\Forest Management Zone\",\n",
    "    identity_features=\"FunctionalFire_ProbableHighSeverityFire\",\n",
    "    out_feature_class=r\"F:\\GIS\\PROJECTS\\ForestHealth_Intiative\\ThresholdUpdate\\Data\\ForestHealth_ThresholdUpdate.gdb\\ForestManagementZon_Identity_HighSeverity\",\n",
    "    join_attributes=\"ALL\",\n",
    "    cluster_tolerance=None,\n",
    "    relationship=\"NO_RELATIONSHIPS\"\n",
    ")\n",
    "\n",
    "# Calculate the area in acres for each feature\n",
    "arcpy.management.CalculateGeometryAttributes(\n",
    "    in_features=r\"Fire Severity\\ForestManagementZon_Identity_HighSeverity\",\n",
    "    geometry_property=\"Acres AREA\",\n",
    "    length_unit=\"\",\n",
    "    area_unit=\"ACRES_US\",\n",
    "    coordinate_system='PROJCS[\"NAD_1983_UTM_Zone_10N\",GEOGCS[\"GCS_North_American_1983\",DATUM[\"D_North_American_1983\",SPHEROID[\"GRS_1980\",6378137.0,298.257222101]],PRIMEM[\"Greenwich\",0.0],UNIT[\"Degree\",0.0174532925199433]],PROJECTION[\"Transverse_Mercator\"],PARAMETER[\"False_Easting\",500000.0],PARAMETER[\"False_Northing\",0.0],PARAMETER[\"Central_Meridian\",-123.0],PARAMETER[\"Scale_Factor\",0.9996],PARAMETER[\"Latitude_Of_Origin\",0.0],UNIT[\"Meter\",1.0]]',\n",
    "    coordinate_format=\"SAME_AS_INPUT\"\n",
    ")\n",
    "\n",
    "# export table to database\n",
    "arcpy.conversion.ExportTable(\n",
    "    in_table=r\"Fire Severity\\ForestManagementZon_Identity_HighSeverity\",\n",
    "    out_table=r\"F:\\GIS\\DB_CONNECT\\Tabular.sde\\SDE.ClimateResilience_ProbabilityHighSeverityFire_by_ForestManagmentZone\",\n",
    "    where_clause=\"\",\n",
    "    use_field_alias_as_name=\"NOT_USE_ALIAS\",\n",
    "    sort_field=None\n",
    ")\n"
   ]
  },
  {
   "cell_type": "code",
   "execution_count": null,
   "metadata": {},
   "outputs": [],
   "source": [
    "import pandas as pd\n",
    "# import packages\n",
    "from arcgis.features import FeatureLayer\n",
    "import pandas as pd\n",
    "import numpy as np\n",
    "import plotly.express as px\n",
    "\n",
    "# Define the service URL\n",
    "highseverityURL = \"https://maps.trpa.org/server/rest/services/LTinfo_Climate_Resilience_Dashboard/MapServer/129\"\n",
    "lowseverityURL  = \"https://maps.trpa.org/server/rest/services/LTinfo_Climate_Resilience_Dashboard/MapServer/130\"\n",
    "\n",
    "# Create a FeatureLayer object\n",
    "feature_layer = FeatureLayer(highseverityURL)\n",
    "\n",
    "# Query the feature layer and convert the result to a Spatially Enabled DataFrame\n",
    "sdf_highseverity = feature_layer.query().sdf\n",
    "\n",
    "sdf_highseverity.head()\n",
    "# summarize the area of high and low severity fire by name and gridcode\n",
    "highseverity_summary = sdf_highseverity.groupby(['Name', 'gridcode'])['Acres'].sum().reset_index()\n",
    "\n",
    "# reclassify values of gridcode in new field called 'Severity' with 1 = \">60% chance of high severity fire\" and 0 = \"<60% chance of high severity fire\"\n",
    "highseverity_summary['Severity'] = np.where(highseverity_summary['gridcode'] == 1, \">60% chance of high severity fire\", \"<60% chance of high severity fire\")\n",
    "\n",
    "# Plot using Plotly Express to create a stacked bar chart of Severity by Name with the bar chart being 100% stacked\n",
    "fig = px.histogram(highseverity_summary, x='Name', y='Acres', color='Severity', title='High Severity Fire by Forest Management Zone', barnorm='percent',barmode='stack')\n",
    "# fig = px.bar(highseverity_summary, x='Name', y='Acres', color='Severity', title='High Severity Fire by Forest Management Zone', barmode='stack')\n",
    "fig.show()\n"
   ]
  },
  {
   "cell_type": "code",
   "execution_count": null,
   "metadata": {},
   "outputs": [],
   "source": [
    "lowseverityURL  = \"https://maps.trpa.org/server/rest/services/LTinfo_Climate_Resilience_Dashboard/MapServer/130\"\n",
    "\n",
    "# Create a FeatureLayer object\n",
    "feature_layer = FeatureLayer(lowseverityURL)\n",
    "\n",
    "# Query the feature layer and convert the result to a Spatially Enabled DataFrame\n",
    "sdf_lowseverity = feature_layer.query().sdf\n",
    "\n",
    "sdf_lowseverity.head()\n",
    "# summarize the area of high and low severity fire by name and gridcode\n",
    "lowseverity_summary = sdf_lowseverity.groupby(['Name', 'gridcode'])['Acres'].sum().reset_index()\n",
    "\n",
    "# reclassify values of gridcode in new field called 'Severity' \n",
    "lowseverity_summary['Severity'] = np.where(lowseverity_summary['gridcode'] == 1, \">60% chance of low severity fire\", \"<60% chance of low severity fire\")\n",
    "\n",
    "# Plot using Plotly Express to create a stacked bar chart of Severity by Name with the bar chart being 100% stacked\n",
    "fig = px.histogram(lowseverity_summary, x='Name', y='Acres', color='Severity', title='Low Severity Fire by Forest Management Zone', barnorm='percent',barmode='stack')\n",
    "# fig = px.bar(highseverity_summary, x='Name', y='Acres', color='Severity', title='High Severity Fire by Forest Management Zone', barmode='stack')\n",
    "fig.show()"
   ]
  },
  {
   "cell_type": "code",
   "execution_count": null,
   "metadata": {},
   "outputs": [],
   "source": [
    "# Data for Moderate Severity Fire does not exist in the service....USFS data is needed to complete the analysis, but they didnt provide it in the data package\n",
    "\n",
    "# we could get at this by doing the math's between low and high severity fire, but that would be a bit of a stretch\n"
   ]
  },
  {
   "cell_type": "markdown",
   "metadata": {},
   "source": [
    "### Acres treated for aquatic invasive species. *We could gain additional clarity regarding this indicator."
   ]
  },
  {
   "cell_type": "code",
   "execution_count": null,
   "metadata": {},
   "outputs": [],
   "source": [
    "# get EIP indicator as dataframe\n",
    "import pandas as pd\n",
    "import plotly.express as px\n",
    "# EIP Service for Acres Treated\n",
    "eipInvasive = \"https://www.laketahoeinfo.org/WebServices/GetReportedEIPIndicatorProjectAccomplishments/JSON/e17aeb86-85e3-4260-83fd-a2b32501c476/15\"\n",
    "\n",
    "df = pd.read_json(eipInvasive)\n",
    "\n",
    "sum_df = df.groupby('IndicatorProjectYear')['IndicatorProjectValue'].cumsum()\n",
    "\n",
    "display(sum_df)\n"
   ]
  },
  {
   "cell_type": "markdown",
   "metadata": {},
   "source": [
    "### Acres of restored high-quality wetlands and meadows helping to store flood waters. *We are expecting additional clarity regarding this indicator.  "
   ]
  },
  {
   "cell_type": "code",
   "execution_count": null,
   "metadata": {},
   "outputs": [],
   "source": [
    "# get EIP indicator as dataframe\n",
    "import pandas as pd\n",
    "import plotly.express as px\n",
    "\n",
    "# EIP Service for SEZ Restored or Enhanced\n",
    "eipSEZRestored = \"https://www.laketahoeinfo.org/WebServices/GetReportedEIPIndicatorProjectAccomplishments/JSON/e17aeb86-85e3-4260-83fd-a2b32501c476/9\"\n",
    "\n",
    "# GIS of SEZ Enchanced\n",
    "trpaSEZEnhancedRestored = \"https://maps.trpa.org/server/rest/services/LTinfo_Climate_Resilience_Dashboard/MapServer/126\"\n",
    "# GIS of SEZ Restored\n",
    "trpaSEZRestored = \"https://maps.trpa.org/server/rest/services/LTinfo_Climate_Resilience_Dashboard/MapServer/127\"\n",
    "# get the data\n",
    "df = pd.read_json(eipSEZRestored)\n"
   ]
  },
  {
   "cell_type": "markdown",
   "metadata": {},
   "source": [
    "### Increased number of parcels with Stormwater Best Management Practices (BMPs) improvements"
   ]
  },
  {
   "cell_type": "code",
   "execution_count": null,
   "metadata": {},
   "outputs": [],
   "source": [
    "# get BMP data as dataframe\n",
    "import pandas as pd\n",
    "import plotly.express as px\n",
    "from arcgis.features import FeatureLayer\n",
    "\n",
    "# # EIP Service for BMPs installed\n",
    "# bmpsInstalled = \"https://www.laketahoeinfo.org/WebServices/GetReportedEIPIndicatorProjectAccomplishments/JSON/e17aeb86-85e3-4260-83fd-a2b32501c476/4\"\n",
    "\n",
    "# BMP map service from BMP database\n",
    "bmpsLayer = \"https://maps.trpa.org/server/rest/services/LTinfo_Climate_Resilience_Dashboard/MapServer/121\"\n",
    "\n",
    "# get the data\n",
    "feature_layer = FeatureLayer(bmpsLayer)\n",
    "\n",
    "# Query the feature layer and convert the result to a Spatially Enabled DataFrame\n",
    "sdf_bmps = feature_layer.query().sdf\n",
    "\n",
    "# total BMPs installed\n",
    "total_bmps = sdf_bmps['OBJECTID'].count()\n",
    "\n",
    "# filter total BMPs CertificateIssued = 1\n",
    "sdf_bmps_cert = sdf_bmps[sdf_bmps['CertificateIssued'] == 1]\n",
    "\n",
    "# total BMPs installed\n",
    "total_bmps_cert = sdf_bmps_cert['OBJECTID'].count()\n",
    "\n",
    "# create Year column\n",
    "sdf_bmps_cert['Year'] = pd.DatetimeIndex(sdf_bmps_cert['CertDate']).year\n",
    "\n",
    "# total BMPs installed per year\n",
    "total_bmps_cert_year = sdf_bmps_cert.groupby('Year')['OBJECTID'].count().reset_index()\n",
    "\n",
    "# create plotly figure of BMPs installed per year\n",
    "fig = px.bar(total_bmps_cert_year, x='Year', y='OBJECTID', title='BMPs Installed per Year')\n",
    "fig.update_xaxes(title_text='Year')\n",
    "fig.update_yaxes(title_text='BMPs Installed')\n",
    "fig.show()"
   ]
  },
  {
   "cell_type": "code",
   "execution_count": null,
   "metadata": {},
   "outputs": [],
   "source": [
    "# cumulutive sum of BMPs installed per year\n",
    "total_bmps_cert_year['Cumulative BMPs Installed'] = total_bmps_cert_year['OBJECTID'].cumsum()\n",
    "# create plotly figure of BMPs installed per year\n",
    "fig = px.bar(total_bmps_cert_year, x='Year', y='Cumulative BMPs Installed', title='BMPs Installed')\n",
    "fig.update_xaxes(title_text='Year')\n",
    "fig.update_yaxes(title_text='Cumulative BMPs Installed')\n",
    "fig.show()\n"
   ]
  },
  {
   "cell_type": "code",
   "execution_count": null,
   "metadata": {},
   "outputs": [],
   "source": [
    "# BMP map service from BMP database\n",
    "bmpsLayer = \"https://maps.trpa.org/server/rest/services/LTinfo_Climate_Resilience_Dashboard/MapServer/121\"\n",
    "# get the data\n",
    "feature_layer = FeatureLayer(bmpsLayer)\n",
    "\n",
    "# Query the feature layer and convert the result to a Spatially Enabled DataFrame\n",
    "sdf_bmps = feature_layer.query().sdf\n",
    "\n",
    "# filter total BMPs CertificateIssued = 1\n",
    "sdf_bmps_cert = sdf_bmps[sdf_bmps['CertificateIssued'] == 1]\n",
    "\n",
    "# total developed parcels, use .loc to get EXISTING_LANDUSE does not equal \"Vacant\" or \"Open Space\"\n",
    "parcelsDeveloped = sdf_bmps.loc[~sdf_bmps['EXISTING_LANDUSE'].isin(['Vacant', 'Open Space'])]\n",
    "parcelsDeveloped = parcelsDeveloped['OBJECTID'].count()\n",
    "\n",
    "# total bmps certified by year compared to total developed parcels\n",
    "# create Year column\n",
    "sdf_bmps_cert['Year'] = pd.DatetimeIndex(sdf_bmps_cert['CertDate']).year\n",
    "bmpsCertByYear = sdf_bmps_cert.groupby('Year')['OBJECTID'].count().reset_index()\n",
    "bmpsCertByYear['Cumulative BMPs Installed'] = bmpsCertByYear['OBJECTID'].cumsum()\n",
    "bmpsCertByYear['Developed Parcels'] = parcelsDeveloped\n",
    "bmpsCertByYear['BMPs per Developed Parcel'] = bmpsCertByYear['Cumulative BMPs Installed'] / bmpsCertByYear['Developed Parcels']\n",
    "bmpsCertByYear['BMPs per Developed Parcel'] = bmpsCertByYear['BMPs per Developed Parcel'].round(2)\n",
    "\n",
    "# create plotly figure of BMPs installed per year\n",
    "fig = px.bar(bmpsCertByYear, x='Year', y='BMPs per Developed Parcel', title='BMPs Installed per Developed Parcel')\n",
    "fig.update_xaxes(title_text='Year')\n",
    "fig.update_yaxes(title_text='% BMPs Installed per Developed Parcel')\n",
    "fig.show()"
   ]
  },
  {
   "cell_type": "code",
   "execution_count": null,
   "metadata": {},
   "outputs": [],
   "source": [
    "# create staked bar chart of BMPs installed per year compared to total developed parcels per year but subtracting the BMPs installed from the total developed parcels\n",
    "bmpsCertByYear['Developed Parcels Without a BMP'] = bmpsCertByYear['Developed Parcels'] - bmpsCertByYear['Cumulative BMPs Installed']\n",
    "\n",
    "bmpsCertByYear"
   ]
  },
  {
   "cell_type": "code",
   "execution_count": null,
   "metadata": {},
   "outputs": [],
   "source": [
    "# create staked bar chart of BMPs installed per year compared to total developed parcels per year but subtracting the BMPs installed from the total developed parcels\n",
    "fig = px.bar(bmpsCertByYear, x='Year', y=['Cumulative BMPs Installed', 'Developed Parcels Without a BMP'], title='BMPs Installed per Developed Parcel')\n",
    "fig.update_xaxes(title_text='Year')\n",
    "fig.update_yaxes(title_text='BMPs Installed per Developed Parcel')\n",
    "fig.show()\n"
   ]
  },
  {
   "cell_type": "markdown",
   "metadata": {},
   "source": [
    "### Increase in square feet of urban development treated by areawide stormwater infrastructure within key watersheds.   "
   ]
  },
  {
   "cell_type": "code",
   "execution_count": null,
   "metadata": {},
   "outputs": [],
   "source": [
    "## reqeusted \"Year of Completion\" data for each area wide storm water treatment from Shay. TBD if this is available\n",
    "\n",
    "# area wide storm water treamtent layer # we can't do this analysis without the year of completion data\n",
    "areawideLayer  = \"https://maps.trpa.org/server/rest/services/LTinfo_Climate_Resilience_Dashboard/MapServer/120\"\n",
    "\n",
    "# developed area layers\n",
    "impervious2010Layer   = \"https://maps.trpa.org/server/rest/services/Impervious_Surface_2010/MapServer\"\n",
    "impervious2019Layer   = \"https://maps.trpa.org/server/rest/services/Impervious_Surface_2019/MapServer\"\n",
    "imperviousChangeLayer = \"https://maps.trpa.org/server/rest/services/Impervious_Surface_Change_2010_to_2019/MapServer\""
   ]
  },
  {
   "cell_type": "code",
   "execution_count": null,
   "metadata": {},
   "outputs": [],
   "source": [
    "arcpy.analysis.Identity(\n",
    "    in_features=r\"F:\\GIS\\DB_CONNECT\\Vector.sde\\SDE.Impervious\\SDE.Impervious_2019\",\n",
    "    identity_features=r\"F:\\GIS\\DB_CONNECT\\Vector.sde\\SDE.EIP\\SDE.Existing_Drainage_Areas\",\n",
    "    out_feature_class=r\"C:\\GIS\\Scratch.gdb\\Impervious_2019_Identity\",\n",
    "    join_attributes=\"ALL\",\n",
    "    cluster_tolerance=None,\n",
    "    relationship=\"NO_RELATIONSHIPS\"\n",
    ")"
   ]
  },
  {
   "cell_type": "code",
   "execution_count": null,
   "metadata": {},
   "outputs": [],
   "source": [
    "arcpy.management.CalculateGeometryAttributes(\n",
    "    in_features=\"Impervious_2019_Identity\",\n",
    "    geometry_property=\"Acres AREA\",\n",
    "    length_unit=\"\",\n",
    "    area_unit=\"ACRES_US\",\n",
    "    coordinate_system='PROJCS[\"NAD_1983_UTM_Zone_10N\",GEOGCS[\"GCS_North_American_1983\",DATUM[\"D_North_American_1983\",SPHEROID[\"GRS_1980\",6378137.0,298.257222101]],PRIMEM[\"Greenwich\",0.0],UNIT[\"Degree\",0.0174532925199433]],PROJECTION[\"Transverse_Mercator\"],PARAMETER[\"False_Easting\",500000.0],PARAMETER[\"False_Northing\",0.0],PARAMETER[\"Central_Meridian\",-123.0],PARAMETER[\"Scale_Factor\",0.9996],PARAMETER[\"Latitude_Of_Origin\",0.0],UNIT[\"Meter\",1.0]]',\n",
    "    coordinate_format=\"SAME_AS_INPUT\"\n",
    ")\n",
    "\n",
    "arcpy.conversion.ExportTable(\n",
    "    in_table=\"Impervious_2019_Identity\",\n",
    "    out_table=r\"F:\\GIS\\DB_CONNECT\\Tabular.sde\\SDE.ClimateResilience_Impervious_Identify_Areawide_ByYear\",\n",
    "    where_clause=\"\",\n",
    "    use_field_alias_as_name=\"NOT_USE_ALIAS\",\n",
    "    field_mapping='FID_Impervious_2019 \"FID_Impervious_2019\" true true false 4 Long 0 0,First,#,Impervious_2019_Identity,FID_Impervious_2019,-1,-1;Feature \"Feature\" true true false 8 Text 0 0,First,#,Impervious_2019_Identity,Feature,0,7;Surface \"Surface\" true true false 4 Text 0 0,First,#,Impervious_2019_Identity,Surface,0,3;FID_Existing_Drainage_Areas \"FID_Existing_Drainage_Areas\" true true false 4 Long 0 0,First,#,Impervious_2019_Identity,FID_Existing_Drainage_Areas,-1,-1;Drainage_Area_Name \"Name\" true true false 100 Text 0 0,First,#,Impervious_2019_Identity,Drainage_Area_Name,0,99;Status \"Status\" true true false 50 Text 0 0,First,#,Impervious_2019_Identity,Status,0,49;Year_Completed \"Year_Completed\" true true false 4 Text 0 0,First,#,Impervious_2019_Identity,Year_Completed,0,3;Acres \"Acres\" true true false 8 Double 0 0,First,#,Impervious_2019_Identity,Acres,-1,-1',\n",
    "    sort_field=None\n",
    ")"
   ]
  },
  {
   "cell_type": "code",
   "execution_count": null,
   "metadata": {},
   "outputs": [],
   "source": [
    "import pandas as pd\n",
    "import plotly.express as px\n",
    "from arcgis.features import FeatureLayer\n",
    "\n",
    "# REST service for impervious area wide\n",
    "imperviousAreaWide = \"https://maps.trpa.org/server/rest/services/LTinfo_Climate_Resilience_Dashboard/MapServer/140\"\n",
    "\n",
    "# Create a FeatureLayer object\n",
    "feature_layer = FeatureLayer(imperviousAreaWide)\n",
    "# Query the feature layer and convert the result to a Spatially Enabled DataFrame\n",
    "sdf_impervious = feature_layer.query().sdf\n",
    "\n",
    "# summarize total area of Surface = Hard Surface\n",
    "sdf_impervious_hard = sdf_impervious[sdf_impervious['Surface'] == 'Hard']\n",
    "\n",
    "# summarize the area of hard surface covered by status = completed or active\n",
    "sdf_impervious_hard_summary = sdf_impervious_hard.groupby(['Status', 'Year_Completed'])['Acres'].sum().reset_index()\n",
    "\n",
    "sdf_impervious_hard_summary\n",
    "\n"
   ]
  },
  {
   "cell_type": "code",
   "execution_count": null,
   "metadata": {},
   "outputs": [],
   "source": [
    "# filter out Status is not ''\n",
    "sdf_impervious_hard_summary = sdf_impervious_hard_summary[sdf_impervious_hard_summary['Status'] != '']\n",
    "# group status active and constructed to completed\n",
    "sdf_impervious_hard_summary['Status'] = sdf_impervious_hard_summary['Status'].replace(['Active', 'Constructed'], 'Completed')\n",
    "\n",
    "# add acres in cumulative sum\n",
    "sdf_impervious_hard_summary['Cumulative Acres'] = sdf_impervious_hard_summary.groupby('Status')['Acres'].cumsum()\n",
    "\n",
    "# ploty figure of impervious area wide by year\n",
    "fig = px.bar(sdf_impervious_hard_summary, x='Year_Completed', y='Cumulative Acres', color='Status', title='Impervious Area Wide by Year')\n",
    "fig.update_xaxes(title_text='Year')\n",
    "fig.update_yaxes(title_text='Acres of Hard Surface Covered by Yera')\n",
    "fig.show()"
   ]
  },
  {
   "cell_type": "code",
   "execution_count": null,
   "metadata": {},
   "outputs": [],
   "source": [
    "# get total acreas of surface == hard\n",
    "\n",
    "total_acres = sdf_impervious_hard['Acres'].sum()\n",
    "total_acres\n",
    "\n",
    "# create cumulative sum of acres of status - completed\n",
    "sdf_impervious_hard_summary['Cumulative Acres'] = sdf_impervious_hard_summary['Acres'].cumsum()\n",
    "\n",
    "# subtract area covereed by cumulatve sum from total acres\n",
    "\n",
    "sdf_impervious_hard_summary['Acres Remaining'] = total_acres - sdf_impervious_hard_summary['Cumulative Acres']\n",
    "\n",
    "sdf_impervious_hard_summary"
   ]
  },
  {
   "cell_type": "code",
   "execution_count": null,
   "metadata": {},
   "outputs": [],
   "source": [
    "# ploty figure of impervious area wide by year\n",
    "fig = px.bar(sdf_impervious_hard_summary, x='Year_Completed', y=['Cumulative Acres', 'Acres Remaining'], title='Impervious Area Wide by Year')\n",
    "fig.update_xaxes(title_text='Year')\n",
    "fig.update_yaxes(title_text='Acres of Hard Surface Covered by Yera')\n",
    "fig.show()"
   ]
  },
  {
   "cell_type": "markdown",
   "metadata": {},
   "source": [
    "### Total number of housing units in town centers and share of affordable housing in Town Centers"
   ]
  },
  {
   "cell_type": "code",
   "execution_count": null,
   "metadata": {},
   "outputs": [],
   "source": [
    "# town center layer\n",
    "towncenterLayer = \"https://maps.trpa.org/server/rest/services/LocalPlan/MapServer/2\"\n",
    "# parcel development history layer for 2012, and 2018-2022 # 2021 and 2023 coming soon. other years are unknown\n",
    "parcelDevelopmentHistoryLayer = \"https://maps.trpa.org/server/rest/services/LTinfo_Climate_Resilience_Dashboard/MapServer/17\"\n",
    "# deed restricted housing layer\n",
    "deedRestrictedHousingLayer = \"https://maps.trpa.org/server/rest/services/LTinfo_Climate_Resilience_Dashboard/MapServer/20\""
   ]
  },
  {
   "cell_type": "code",
   "execution_count": null,
   "metadata": {},
   "outputs": [],
   "source": [
    "# get the feature layer as a spatially enabled dataframe\n"
   ]
  },
  {
   "cell_type": "code",
   "execution_count": null,
   "metadata": {},
   "outputs": [],
   "source": []
  },
  {
   "cell_type": "code",
   "execution_count": null,
   "metadata": {},
   "outputs": [],
   "source": []
  },
  {
   "cell_type": "markdown",
   "metadata": {},
   "source": [
    "### Change in share of homes with electric or solar energy fuel compared to oil/gas over time"
   ]
  },
  {
   "cell_type": "code",
   "execution_count": null,
   "metadata": {},
   "outputs": [],
   "source": [
    "# kathleen did this. need to get the data in our database and web service."
   ]
  },
  {
   "cell_type": "markdown",
   "metadata": {},
   "source": [
    "### Number of deed-restricted affordable, moderate, and achievable units"
   ]
  },
  {
   "cell_type": "code",
   "execution_count": null,
   "metadata": {},
   "outputs": [],
   "source": [
    "import pandas as pd\n",
    "import numpy as np\n",
    "import plotly.express as px\n",
    "\n",
    "# deed restriction service\n",
    "deedRestrictionService = \"https://www.laketahoeinfo.org/WebServices/GetDeedRestrictedParcels/JSON/e17aeb86-85e3-4260-83fd-a2b32501c476\"\n",
    "\n",
    "# read in deed restricted parcels\n",
    "dfDeed = pd.read_json(deedRestrictionService)\n",
    "\n",
    "# filter out deed restrictions that are not affordable housing\n",
    "dfDeed = dfDeed.loc[dfDeed['DeedRestrictionType'].isin(['Affordable Housing', 'Achievable Housing', 'Moderate Income Housing'])]\n",
    "\n",
    "# create year column\n",
    "dfDeed['Year'] = dfDeed['RecordingDate'].str[-4:]\n",
    "\n",
    "# group by type and year\n",
    "df = dfDeed.groupby(['DeedRestrictionType', 'Year']).size().reset_index(name='Total')\n",
    "\n",
    "# sort by year\n",
    "df.sort_values('Year', inplace=True)\n",
    "\n",
    "# rename columns\n",
    "df = df.rename(columns={'DeedRestrictionType': 'Type', 'Year': 'Year', 'Total': 'Count'})\n",
    "\n",
    "# Create a DataFrame with all possible combinations of 'Type' and 'Year'\n",
    "df_all = pd.DataFrame({\n",
    "    'Type': np.repeat(df['Type'].unique(), df['Year'].nunique()),\n",
    "    'Year': df['Year'].unique().tolist() * df['Type'].nunique()\n",
    "})\n",
    "\n",
    "# Merge the new DataFrame with the original one to fill in the gaps of years for each type with NaN values\n",
    "df = pd.merge(df_all, df, on=['Type', 'Year'], how='left')\n",
    "\n",
    "# Replace NaN values in 'Count' with 0\n",
    "df['Count'] = df['Count'].fillna(0)\n",
    "\n",
    "# Ensure 'Count' is of integer type\n",
    "df['Count'] = df['Count'].astype(int)\n",
    "\n",
    "# Recalculate 'Cumulative Count' as the cumulative sum of 'Count' within each 'Type' and 'Year'\n",
    "df['Cumulative Count'] = df.sort_values('Year').groupby('Type')['Count'].cumsum()\n",
    "\n",
    "# create cumuluative total of deed restricted parcels by type\n",
    "fig = px.line(df, x=\"Year\", y=\"Cumulative Count\", color=\"Type\", title=\"Deed Restricted Parcels\")\n",
    "fig.show()\n"
   ]
  },
  {
   "cell_type": "markdown",
   "metadata": {},
   "source": [
    "### Percent of renewable energy as a share of total energy used"
   ]
  },
  {
   "cell_type": "code",
   "execution_count": null,
   "metadata": {},
   "outputs": [],
   "source": [
    "# kathleen did this. "
   ]
  },
  {
   "cell_type": "markdown",
   "metadata": {},
   "source": [
    "### Total transit ridership by transit systems\n",
    "* https://www.laketahoeinfo.org/Indicator/Detail/46/Overview\n",
    "* this doesn't work yet. Talking to ESA to get web service stood up."
   ]
  },
  {
   "cell_type": "code",
   "execution_count": null,
   "metadata": {},
   "outputs": [],
   "source": [
    "import pandas as pd\n",
    "import numpy as np\n",
    "import plotly.express as px\n",
    "from arcgis.features import FeatureLayer\n",
    "\n",
    "# Data not avaialble from LTinfo yet. Shannon is working on a service for this. I will get the data from Kira as a placeholder for now.\n",
    "# indicator data saved from Kira's email\n",
    "eipTransit = \"https://maps.trpa.org/server/rest/services/LTinfo_Climate_Resilience_Dashboard/MapServer/131\"\n",
    "\n",
    "# read in spatial enabled dataframe\n",
    "dfTransit = FeatureLayer(eipTransit).query().sdf\n",
    "\n",
    "# drop ObjectID\n",
    "dfTransit = dfTransit.drop(columns=['OBJECTID'])\n",
    "# stack data by month\n",
    "dfTransit = dfTransit.melt(id_vars=['MONTH'], var_name='Name', value_name='Ridership')\n",
    "\n",
    "# create Year field from last two characters of month but add 20 prefix\n",
    "dfTransit['Year'] = '20' + dfTransit['MONTH'].str[-2:]\n",
    "# strip the last three characters from month\n",
    "dfTransit['Month'] = dfTransit['MONTH'].str[:-3]\n",
    "# drop MONTH\n",
    "dfTransit = dfTransit.drop(columns=['MONTH'])\n",
    "# make the values in Month the real names of the months\n",
    "dfTransit['Month'] = dfTransit['Month'].replace(['Jan', 'Feb', 'Mar', 'Apr', 'May', 'Jun', 'Jul', 'Aug', 'Sep', 'Oct', 'Nov', 'Dec'], \n",
    "                                                ['January', 'February', 'March', 'April', 'May', 'June', 'July', 'August', 'September', 'October', 'November', 'December'])\n",
    "\n",
    "\n",
    "# create a Date type field of Month and Year\n",
    "dfTransit['Date'] = dfTransit['Month'] + ' ' + dfTransit['Year']\n",
    "# convert Date to datetime\n",
    "dfTransit['Date'] = pd.to_datetime(dfTransit['Date'], format='%B %Y')\n",
    "dfTransit = dfTransit.sort_values('Date')\n"
   ]
  },
  {
   "cell_type": "code",
   "execution_count": null,
   "metadata": {},
   "outputs": [],
   "source": [
    "dfTransit\n",
    "\n"
   ]
  },
  {
   "cell_type": "code",
   "execution_count": null,
   "metadata": {},
   "outputs": [],
   "source": [
    "# create a plotly figure of transit ridership by date \n",
    "fig = px.line(dfTransit, x=\"Date\", y=\"Ridership\", color=\"Name\", title=\"Transit Ridership\")\n",
    "fig.show()"
   ]
  },
  {
   "cell_type": "markdown",
   "metadata": {},
   "source": [
    "### Daily per capita Vehicles Miles Traveled (VMT) and progress towards VMT target. The RTP (2021) identifies a Daily per capita VMT target set at a 6.8 percent reduction from 2018 levels by 2045 (2018 per capita daily VMT is 12.48, goal is 11.63)."
   ]
  },
  {
   "cell_type": "code",
   "execution_count": null,
   "metadata": {},
   "outputs": [],
   "source": [
    "## new data from Josh coming 2/6/2024"
   ]
  },
  {
   "cell_type": "markdown",
   "metadata": {},
   "source": [
    "### Coverage of electric bus routes and alternative fuel, such as EV charging for vehicles and bicycles\n",
    "* Primary source: https://www.plugshare.com/ requested access to their API\n",
    "* Secondary (if needed to cross-check): https://afdc.energy.gov/stations/#/find/nearest\n",
    "\n",
    "* current in-house data: https://maps.trpa.org/server/rest/services/LTinfo_Climate_Resilience_Dashboard/MapServer/0"
   ]
  },
  {
   "cell_type": "code",
   "execution_count": null,
   "metadata": {},
   "outputs": [],
   "source": [
    "# no real info on this right now. Will checking with Kira on this."
   ]
  },
  {
   "cell_type": "markdown",
   "metadata": {},
   "source": [
    "### Baseline mode share and weekday or seasonal variation. The Tahoe RTP (2021) includes the following Non-Auto Mode Share Target: Improve average non-auto mode share calculated from the two most recent TRPA travel survey results; the current performance on target at 24.5% (2018-20 average) up from 18% in 2014-16."
   ]
  },
  {
   "cell_type": "code",
   "execution_count": null,
   "metadata": {},
   "outputs": [],
   "source": [
    "## new data from Josh coming 2/6/2024"
   ]
  },
  {
   "cell_type": "markdown",
   "metadata": {},
   "source": [
    "### Transportation access in priority communities. The Tahoe RTP (2021) includes a target to increase access to each mode for Priority communities to 100% by 2014."
   ]
  },
  {
   "cell_type": "code",
   "execution_count": null,
   "metadata": {},
   "outputs": [],
   "source": [
    "# will check in with Kira on this again"
   ]
  },
  {
   "cell_type": "markdown",
   "metadata": {},
   "source": [
    "### Increased lane miles of low-stress bicycle facilities (both bicycle and pedestrian facilities that are considered comfortable enough for all users and abilities, and implicitly measures active transportation network connectivity)"
   ]
  },
  {
   "cell_type": "code",
   "execution_count": null,
   "metadata": {},
   "outputs": [],
   "source": [
    "# import packages\n",
    "from arcgis.features import FeatureLayer\n",
    "import pandas as pd\n",
    "import numpy as np\n",
    "import plotly.express as px\n",
    "\n",
    "# Define the service URL\n",
    "bikelaneService = \"https://maps.trpa.org/server/rest/services/Transportation/MapServer/3\"\n",
    "\n",
    "# Create a FeatureLayer object\n",
    "feature_layer = FeatureLayer(bikelaneService)\n",
    "\n",
    "# Query the feature layer and convert the result to a Spatially Enabled DataFrame\n",
    "sdf_bikelane = feature_layer.query().sdf\n",
    "\n",
    "# recalc miles field from shape length\n",
    "sdf_bikelane.MILES = sdf_bikelane[\"Shape.STLength()\"]/ 1609.34\n",
    "\n",
    "# filter for CLASS = 1 2 or 3\n",
    "filtered_sdf_bikelane = sdf_bikelane[sdf_bikelane['CLASS'].isin(['1', '2', '3'])]\n",
    "\n",
    "# fix bad values\n",
    "filtered_sdf_bikelane.loc[:, 'YR_OF_CONS'] = filtered_sdf_bikelane.loc[:, 'YR_OF_CONS'].replace(['before 2010', ' before 2010'], '2010')\n",
    "filtered_sdf_bikelane.loc[:, 'YR_OF_CONS'] = filtered_sdf_bikelane.loc[:, 'YR_OF_CONS'].replace(['before 2006','Before 2006','BEFORE 2006'], '2006')\n",
    "filtered_sdf_bikelane.loc[:, 'YR_OF_CONS'] = filtered_sdf_bikelane.loc[:, 'YR_OF_CONS'].replace([' 2014'], '2014')\n",
    "filtered_sdf_bikelane.loc[:, 'YR_OF_CONS'] = filtered_sdf_bikelane.loc[:, 'YR_OF_CONS'].replace(['2007 (1A) 2008 (1B)'], '2008')\n",
    "\n",
    "# drop rows with <NA> values\n",
    "filtered_sdf_bikelane = filtered_sdf_bikelane.dropna(subset=['YR_OF_CONS'])\n",
    "# drop rows with 'i dont know' or 'UNKNOWN' values\n",
    "filtered_sdf_bikelane = filtered_sdf_bikelane[~filtered_sdf_bikelane['YR_OF_CONS'].isin(['i dont know', 'UNKNOWN'])]\n",
    "\n",
    "# rename columns\n",
    "df = filtered_sdf_bikelane.rename(columns={'CLASS': 'Class', 'YR_OF_CONS': 'Year', 'MILES': 'Miles'})\n",
    "\n",
    "\n",
    "# Create a DataFrame with all possible combinations of 'Type' and 'Year'\n",
    "df_all = pd.DataFrame({\n",
    "    'Class': np.repeat(df['Class'].unique(), df['Year'].nunique()),\n",
    "    'Year': df['Year'].unique().tolist() * df['Class'].nunique()\n",
    "})\n",
    "\n",
    "# Merge the new DataFrame with the original one to fill in the gaps of years for each type with NaN values\n",
    "df = pd.merge(df_all, df, on=['Class', 'Year'], how='left')\n",
    "\n",
    "# add 2005 to the Year field for Class 1 2, and 3\n",
    "dict = {'Class':['1', '2', '3'], \n",
    "        'Year':['2005', '2005', '2005'], \n",
    "        'Miles':[0, 0, 0] \n",
    "       } \n",
    "  \n",
    "df2 = pd.DataFrame(dict) \n",
    "  \n",
    "df = pd.concat([df, df2], ignore_index = True) \n",
    "# cast Year as integer\n",
    "df['Year'] = df['Year'].astype(int)\n",
    "# sort by year and miles\n",
    "df.sort_values(['Year', 'Miles'], inplace=True)\n",
    "\n",
    "# Replace NaN values in 'MILES' with 0\n",
    "df['Miles'] = df['Miles'].fillna(0)\n",
    "\n",
    "# Recalculate 'Cumulative Count' as the cumulative sum of 'Count' within each 'Type' and 'Year'\n",
    "df['Cumulative Count'] = df.sort_values('Year').groupby(['Year', 'Class'])['Miles'].cumsum()\n",
    "\n",
    "# get rid of all columns except for Year, Class, and Cumulative Count\n",
    "df = df[['Year', 'Class', 'Cumulative Count']]\n",
    "\n",
    "df"
   ]
  },
  {
   "cell_type": "code",
   "execution_count": null,
   "metadata": {},
   "outputs": [],
   "source": [
    "# get rid of all columns except for Year, Class, and Cumulative Count\n",
    "df = df[['Year', 'Class', 'Cumulative Miles']]\n",
    "# get all rows where Year = 2006\n",
    "df_2006 = df[df['Year'] == 2006]\n",
    "# display all rows\n",
    "pd.set_option('display.max_rows', None)\n",
    "df_2006"
   ]
  },
  {
   "cell_type": "code",
   "execution_count": null,
   "metadata": {},
   "outputs": [],
   "source": [
    "print(years)"
   ]
  },
  {
   "cell_type": "code",
   "execution_count": null,
   "metadata": {},
   "outputs": [],
   "source": [
    "# import packages\n",
    "from arcgis.features import FeatureLayer\n",
    "import pandas as pd\n",
    "import numpy as np\n",
    "import plotly.express as px\n",
    "\n",
    "# Define the service URL\n",
    "bikelaneService = \"https://maps.trpa.org/server/rest/services/Transportation/MapServer/3\"\n",
    "\n",
    "# Create a FeatureLayer object\n",
    "feature_layer = FeatureLayer(bikelaneService)\n",
    "\n",
    "# Query the feature layer and convert the result to a Spatially Enabled DataFrame\n",
    "sdf_bikelane = feature_layer.query().sdf\n",
    "\n",
    "# recalc miles field from shape length\n",
    "sdf_bikelane.MILES = sdf_bikelane[\"Shape.STLength()\"]/ 1609.34\n",
    "\n",
    "# filter for CLASS = 1 2 or 3\n",
    "filtered_sdf_bikelane = sdf_bikelane[sdf_bikelane['CLASS'].isin(['1', '2', '3'])]\n",
    "\n",
    "# fix bad values\n",
    "filtered_sdf_bikelane.loc[:, 'YR_OF_CONS'] = filtered_sdf_bikelane.loc[:, 'YR_OF_CONS'].replace(['before 2010', ' before 2010'], '2010')\n",
    "filtered_sdf_bikelane.loc[:, 'YR_OF_CONS'] = filtered_sdf_bikelane.loc[:, 'YR_OF_CONS'].replace(['before 2006','Before 2006','BEFORE 2006'], '2006')\n",
    "filtered_sdf_bikelane.loc[:, 'YR_OF_CONS'] = filtered_sdf_bikelane.loc[:, 'YR_OF_CONS'].replace([' 2014'], '2014')\n",
    "filtered_sdf_bikelane.loc[:, 'YR_OF_CONS'] = filtered_sdf_bikelane.loc[:, 'YR_OF_CONS'].replace(['2007 (1A) 2008 (1B)'], '2008')\n",
    "\n",
    "# drop rows with <NA> values\n",
    "filtered_sdf_bikelane = filtered_sdf_bikelane.dropna(subset=['YR_OF_CONS'])\n",
    "# drop rows with 'i dont know' or 'UNKNOWN' values\n",
    "filtered_sdf_bikelane = filtered_sdf_bikelane[~filtered_sdf_bikelane['YR_OF_CONS'].isin(['i dont know', 'UNKNOWN'])]\n",
    "\n",
    "# rename columns\n",
    "df = filtered_sdf_bikelane.rename(columns={'CLASS': 'Class', 'YR_OF_CONS': 'Year', 'MILES': 'Miles'})\n",
    "\n",
    "# Create a DataFrame with all possible combinations of 'Type' and 'Year'\n",
    "df_all = pd.DataFrame({\n",
    "    'Class': np.repeat(df['Class'].unique(), df['Year'].nunique()),\n",
    "    'Year': df['Year'].unique().tolist() * df['Class'].nunique()\n",
    "})\n",
    "\n",
    "# Merge the new DataFrame with the original one to fill in the gaps of years for each type with NaN values\n",
    "df = pd.merge(df_all, df, on=['Class', 'Year'], how='left')\n",
    "\n",
    "# add 2005 to the Year field for Class 1 2, and 3\n",
    "dict = {'Class':['1', '2', '3'], \n",
    "        'Year':['2005', '2005', '2005'], \n",
    "        'Miles':[0, 0, 0] \n",
    "       } \n",
    "  \n",
    "df2 = pd.DataFrame(dict) \n",
    "\n",
    "# bring in 2005 data  \n",
    "df = pd.concat([df, df2], ignore_index = True) \n",
    "\n",
    "# cast Year as integer\n",
    "df['Year'] = df['Year'].astype(int)\n",
    "\n",
    "# sort by year and miles\n",
    "df.sort_values(['Year', 'Miles'], inplace=True)\n",
    "\n",
    "# Replace NaN values in 'MILES' with 0\n",
    "df['Miles'] = df['Miles'].fillna(0)\n",
    "\n",
    "# \n",
    "df =df.groupby(['Year', 'Class'])['Miles'].sum().reset_index()\n",
    "\n",
    "\n",
    "df\n",
    "\n"
   ]
  },
  {
   "cell_type": "code",
   "execution_count": null,
   "metadata": {},
   "outputs": [],
   "source": []
  },
  {
   "cell_type": "code",
   "execution_count": null,
   "metadata": {},
   "outputs": [],
   "source": []
  },
  {
   "cell_type": "code",
   "execution_count": null,
   "metadata": {},
   "outputs": [],
   "source": [
    "# import packages\n",
    "from arcgis.features import FeatureLayer\n",
    "import pandas as pd\n",
    "import numpy as np\n",
    "import plotly.express as px\n",
    "\n",
    "# Define the service URL\n",
    "bikelaneService = \"https://maps.trpa.org/server/rest/services/Transportation/MapServer/3\"\n",
    "\n",
    "# Create a FeatureLayer object\n",
    "feature_layer = FeatureLayer(bikelaneService)\n",
    "\n",
    "# Query the feature layer and convert the result to a Spatially Enabled DataFrame\n",
    "sdf_bikelane = feature_layer.query().sdf\n",
    "\n",
    "# recalc miles field from shape length\n",
    "sdf_bikelane.MILES = sdf_bikelane[\"Shape.STLength()\"]/ 1609.34\n",
    "\n",
    "# filter for CLASS = 1 2 or 3\n",
    "filtered_sdf_bikelane = sdf_bikelane[sdf_bikelane['CLASS'].isin(['1', '2', '3'])]\n",
    "\n",
    "# fix bad values\n",
    "filtered_sdf_bikelane.loc[:, 'YR_OF_CONS'] = filtered_sdf_bikelane.loc[:, 'YR_OF_CONS'].replace(['before 2010', ' before 2010'], '2010')\n",
    "filtered_sdf_bikelane.loc[:, 'YR_OF_CONS'] = filtered_sdf_bikelane.loc[:, 'YR_OF_CONS'].replace(['before 2006','Before 2006','BEFORE 2006'], '2006')\n",
    "filtered_sdf_bikelane.loc[:, 'YR_OF_CONS'] = filtered_sdf_bikelane.loc[:, 'YR_OF_CONS'].replace([' 2014'], '2014')\n",
    "filtered_sdf_bikelane.loc[:, 'YR_OF_CONS'] = filtered_sdf_bikelane.loc[:, 'YR_OF_CONS'].replace(['2007 (1A) 2008 (1B)'], '2008')\n",
    "\n",
    "# drop rows with <NA> values\n",
    "filtered_sdf_bikelane = filtered_sdf_bikelane.dropna(subset=['YR_OF_CONS'])\n",
    "# drop rows with 'i dont know' or 'UNKNOWN' values\n",
    "filtered_sdf_bikelane = filtered_sdf_bikelane[~filtered_sdf_bikelane['YR_OF_CONS'].isin(['i dont know', 'UNKNOWN'])]\n",
    "\n",
    "# rename columns\n",
    "df = filtered_sdf_bikelane.rename(columns={'CLASS': 'Class', 'YR_OF_CONS': 'Year', 'MILES': 'Miles'})\n",
    "\n",
    "# Create a DataFrame with all possible combinations of 'Type' and 'Year'\n",
    "df_all = pd.DataFrame({\n",
    "    'Class': np.repeat(df['Class'].unique(), df['Year'].nunique()),\n",
    "    'Year': df['Year'].unique().tolist() * df['Class'].nunique()\n",
    "})\n",
    "\n",
    "# Merge the new DataFrame with the original one to fill in the gaps of years for each type with NaN values\n",
    "df = pd.merge(df_all, df, on=['Class', 'Year'], how='left')\n",
    "\n",
    "# add 2005 to the Year field for Class 1 2, and 3\n",
    "dict = {'Class':['1', '2', '3'], \n",
    "        'Year':['2005', '2005', '2005'], \n",
    "        'Miles':[0, 0, 0] \n",
    "       } \n",
    "  \n",
    "df2 = pd.DataFrame(dict) \n",
    "\n",
    "# bring in 2005 data  \n",
    "df = pd.concat([df, df2], ignore_index = True) \n",
    "\n",
    "# cast Year as integer\n",
    "df['Year'] = df['Year'].astype(int)\n",
    "\n",
    "# sort by year and miles\n",
    "df.sort_values(['Year', 'Miles'], inplace=True)\n",
    "\n",
    "# Replace NaN values in 'MILES' with 0\n",
    "df['Miles'] = df['Miles'].fillna(0)\n",
    "\n",
    "# create grouped dataframe\n",
    "df = df.groupby(['Year', 'Class'])['Miles'].sum().reset_index()\n",
    "\n",
    "# Recalculate 'Cumulative Count' as the cumulative sum of 'Count' within each 'Type' and 'Year'\n",
    "df['Cumulative Miles'] = df.sort_values('Year').groupby('Class')['Miles'].cumsum()\n",
    "\n",
    "# create cumuluative total of miles of bike lanes by Class\n",
    "fig = px.line(df, x=\"Year\", y=\"Cumulative Miles\", color=\"Class\", title=\"Miles of Bike Lane by Type\")\n",
    "fig.show()\n"
   ]
  },
  {
   "cell_type": "code",
   "execution_count": null,
   "metadata": {},
   "outputs": [],
   "source": []
  },
  {
   "cell_type": "markdown",
   "metadata": {},
   "source": [
    "### Median Household Income (MHI) by community area (to be determined) and disaggregated by remote and non-remote workers"
   ]
  },
  {
   "cell_type": "code",
   "execution_count": null,
   "metadata": {},
   "outputs": [],
   "source": [
    "# census table\n",
    "censusTable = \"https://maps.trpa.org/server/rest/services/LTinfo_Climate_Resilience_Dashboard/MapServer/128\""
   ]
  },
  {
   "cell_type": "markdown",
   "metadata": {},
   "source": [
    "### Housing costs (median home sales price and rental rates, by jurisdiction); include cost per unit and cost per square foot"
   ]
  },
  {
   "cell_type": "code",
   "execution_count": null,
   "metadata": {},
   "outputs": [],
   "source": [
    "# Sean is getting COSTAR and Property Radar data for this"
   ]
  },
  {
   "cell_type": "markdown",
   "metadata": {},
   "source": [
    "### Housing tenure (rented full-time, owner-occupied, second home), disaggregated by race, ethnicity, and age"
   ]
  },
  {
   "cell_type": "code",
   "execution_count": null,
   "metadata": {},
   "outputs": [],
   "source": [
    "# census data\n",
    "censusTable = \"https://maps.trpa.org/server/rest/services/LTinfo_Climate_Resilience_Dashboard/MapServer/128\""
   ]
  },
  {
   "cell_type": "markdown",
   "metadata": {},
   "source": [
    "### Percent of workers who commute into the basin, origin demographics, distance travelled, difference in travel time by mode"
   ]
  },
  {
   "cell_type": "code",
   "execution_count": null,
   "metadata": {},
   "outputs": [],
   "source": []
  },
  {
   "cell_type": "markdown",
   "metadata": {},
   "source": [
    "### Transient Occupancy Tax revenue and changes over time"
   ]
  },
  {
   "cell_type": "code",
   "execution_count": null,
   "metadata": {},
   "outputs": [],
   "source": [
    "## new data from Josh coming 2/6/2024"
   ]
  },
  {
   "cell_type": "markdown",
   "metadata": {},
   "source": [
    "### Consistent employment and median wages by sector and overall "
   ]
  },
  {
   "cell_type": "code",
   "execution_count": null,
   "metadata": {},
   "outputs": [],
   "source": []
  },
  {
   "cell_type": "markdown",
   "metadata": {},
   "source": [
    "### Access to recreation sites, fresh food, and healthcare for zero-vehicle households"
   ]
  },
  {
   "cell_type": "code",
   "execution_count": null,
   "metadata": {},
   "outputs": [],
   "source": [
    "# checking wiht Kira on this. Will make a map of what we have."
   ]
  },
  {
   "cell_type": "markdown",
   "metadata": {},
   "source": [
    "### Firewise communities in the Tahoe basin, coolling centers/heating centers, resources, and emergency infrastructure (medical centers with supplies, fire response)"
   ]
  },
  {
   "cell_type": "code",
   "execution_count": null,
   "metadata": {},
   "outputs": [],
   "source": [
    "# map made."
   ]
  },
  {
   "cell_type": "markdown",
   "metadata": {},
   "source": [
    "### Population disaggregated by race and ethnicity, age groups"
   ]
  },
  {
   "cell_type": "code",
   "execution_count": null,
   "metadata": {},
   "outputs": [],
   "source": [
    "# census data\n",
    "censusTable = \"https://maps.trpa.org/server/rest/services/LTinfo_Climate_Resilience_Dashboard/MapServer/128\""
   ]
  },
  {
   "cell_type": "markdown",
   "metadata": {},
   "source": [
    "### Number/share of households with access and functional needs (These can be referred to as vulnerable populations including populations such as persons with disabilities, older adults, children, limited English proficiency, and transportation disadvantages)"
   ]
  },
  {
   "cell_type": "code",
   "execution_count": null,
   "metadata": {},
   "outputs": [],
   "source": [
    "# census data\n",
    "censusTable = \"https://maps.trpa.org/server/rest/services/LTinfo_Climate_Resilience_Dashboard/MapServer/128\""
   ]
  }
 ],
 "metadata": {
  "kernelspec": {
   "display_name": "trpa-311",
   "language": "python",
   "name": "python3"
  },
  "language_info": {
   "codemirror_mode": {
    "name": "ipython",
    "version": 3
   },
   "file_extension": ".py",
   "mimetype": "text/x-python",
   "name": "python",
   "nbconvert_exporter": "python",
   "pygments_lexer": "ipython3",
   "version": "3.9.18"
  }
 },
 "nbformat": 4,
 "nbformat_minor": 2
}
