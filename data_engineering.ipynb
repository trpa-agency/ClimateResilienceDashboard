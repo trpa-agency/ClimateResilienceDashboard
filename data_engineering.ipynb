{
 "cells": [
  {
   "cell_type": "markdown",
   "metadata": {},
   "source": [
    "## Setup"
   ]
  },
  {
   "cell_type": "markdown",
   "metadata": {},
   "source": [
    "### Reduce Tahoe region greenhouse gas (GHG) emissions and support the measurement of carbon sequestration.  "
   ]
  },
  {
   "cell_type": "code",
   "execution_count": null,
   "metadata": {},
   "outputs": [],
   "source": []
  },
  {
   "cell_type": "markdown",
   "metadata": {},
   "source": [
    "### Track poor air quality, wildfire smoke, and extreme heat trends regionally."
   ]
  },
  {
   "cell_type": "code",
   "execution_count": null,
   "metadata": {},
   "outputs": [],
   "source": []
  },
  {
   "cell_type": "markdown",
   "metadata": {},
   "source": [
    "### Lake Tahoe water level"
   ]
  },
  {
   "cell_type": "code",
   "execution_count": null,
   "metadata": {},
   "outputs": [],
   "source": []
  },
  {
   "cell_type": "markdown",
   "metadata": {},
   "source": [
    "### Annual average water temperature, including surface water temperature"
   ]
  },
  {
   "cell_type": "code",
   "execution_count": null,
   "metadata": {},
   "outputs": [],
   "source": []
  },
  {
   "cell_type": "markdown",
   "metadata": {},
   "source": [
    "### Lake clarity measured by Secchi Depth"
   ]
  },
  {
   "cell_type": "code",
   "execution_count": null,
   "metadata": {},
   "outputs": [],
   "source": []
  },
  {
   "cell_type": "markdown",
   "metadata": {},
   "source": [
    "### Total precipitation in water per year, extreme precipitation, and snow as a fraction of annual precipitation"
   ]
  },
  {
   "cell_type": "code",
   "execution_count": null,
   "metadata": {},
   "outputs": [],
   "source": []
  },
  {
   "cell_type": "markdown",
   "metadata": {},
   "source": [
    "### Acres of forest fuels reduction treated for wildfire in high-risk areas, map of prescribed fire treatment projects"
   ]
  },
  {
   "cell_type": "code",
   "execution_count": null,
   "metadata": {},
   "outputs": [],
   "source": []
  },
  {
   "cell_type": "markdown",
   "metadata": {},
   "source": [
    "### Tree species diversity and increasing old growth forest "
   ]
  },
  {
   "cell_type": "code",
   "execution_count": null,
   "metadata": {},
   "outputs": [],
   "source": []
  },
  {
   "cell_type": "code",
   "execution_count": null,
   "metadata": {},
   "outputs": [],
   "source": []
  },
  {
   "cell_type": "markdown",
   "metadata": {},
   "source": [
    "### Probability of fire by low, moderate, & high severity by management zone. *We are expecting additional clarity regarding this indicator.  "
   ]
  },
  {
   "cell_type": "code",
   "execution_count": null,
   "metadata": {},
   "outputs": [],
   "source": []
  },
  {
   "cell_type": "markdown",
   "metadata": {},
   "source": [
    "### Acres treated for aquatic invasive species. *We could gain additional clarity regarding this indicator."
   ]
  },
  {
   "cell_type": "code",
   "execution_count": null,
   "metadata": {},
   "outputs": [],
   "source": []
  },
  {
   "cell_type": "markdown",
   "metadata": {},
   "source": [
    "### Acres of restored high-quality wetlands and meadows helping to store flood waters. *We are expecting additional clarity regarding this indicator.  "
   ]
  },
  {
   "cell_type": "code",
   "execution_count": null,
   "metadata": {},
   "outputs": [],
   "source": []
  },
  {
   "cell_type": "markdown",
   "metadata": {},
   "source": [
    "### Increased number of parcels with Stormwater Best Management Practices (BMPs) improvements"
   ]
  },
  {
   "cell_type": "code",
   "execution_count": null,
   "metadata": {},
   "outputs": [],
   "source": []
  },
  {
   "cell_type": "markdown",
   "metadata": {},
   "source": [
    "### Increase in square feet of urban development treated by areawide stormwater infrastructure within key watersheds. *We are expecting additional clarity regarding this indicator.  "
   ]
  },
  {
   "cell_type": "code",
   "execution_count": null,
   "metadata": {},
   "outputs": [],
   "source": []
  },
  {
   "cell_type": "markdown",
   "metadata": {},
   "source": [
    "### Total number of housing units in town centers and share of affordable housing in Town Centers"
   ]
  },
  {
   "cell_type": "code",
   "execution_count": null,
   "metadata": {},
   "outputs": [],
   "source": [
    "towncenterService               = \"https://maps.trpa.org/server/rest/services/LocalPlan/MapServer/2\"\n",
    "parcelDevelopmentHistoryService = \"https://maps.trpa.org/server/rest/services/\""
   ]
  },
  {
   "cell_type": "markdown",
   "metadata": {},
   "source": [
    "### Change in share of homes with electric or solar energy fuel compared to oil/gas over time"
   ]
  },
  {
   "cell_type": "code",
   "execution_count": null,
   "metadata": {},
   "outputs": [],
   "source": []
  },
  {
   "cell_type": "markdown",
   "metadata": {},
   "source": [
    "### Number of deed-restricted affordable, moderate, and achievable units"
   ]
  },
  {
   "cell_type": "code",
   "execution_count": 95,
   "metadata": {},
   "outputs": [
    {
     "data": {
      "application/vnd.plotly.v1+json": {
       "config": {
        "plotlyServerURL": "https://plot.ly"
       },
       "data": [
        {
         "hovertemplate": "Type=Affordable Housing<br>Year=%{x}<br>Cumulative Count=%{y}<extra></extra>",
         "legendgroup": "Affordable Housing",
         "line": {
          "color": "#636efa",
          "dash": "solid"
         },
         "marker": {
          "symbol": "circle"
         },
         "mode": "lines",
         "name": "Affordable Housing",
         "orientation": "v",
         "showlegend": true,
         "type": "scatter",
         "x": [
          "1996",
          "1998",
          "1999",
          "2000",
          "2004",
          "2005",
          "2006",
          "2007",
          "2008",
          "2009",
          "2010",
          "2011",
          "2012",
          "2013",
          "2014",
          "2016",
          "2017",
          "2018",
          "2019",
          "2020",
          "2021",
          "2022",
          "2023"
         ],
         "xaxis": "x",
         "y": [
          19,
          20,
          23,
          91,
          99,
          111,
          112,
          126,
          127,
          129,
          133,
          134,
          148,
          151,
          153,
          153,
          154,
          154,
          155,
          155,
          155,
          157,
          159
         ],
         "yaxis": "y"
        },
        {
         "hovertemplate": "Type=Moderate Income Housing<br>Year=%{x}<br>Cumulative Count=%{y}<extra></extra>",
         "legendgroup": "Moderate Income Housing",
         "line": {
          "color": "#EF553B",
          "dash": "solid"
         },
         "marker": {
          "symbol": "circle"
         },
         "mode": "lines",
         "name": "Moderate Income Housing",
         "orientation": "v",
         "showlegend": true,
         "type": "scatter",
         "x": [
          "1996",
          "1998",
          "1999",
          "2000",
          "2004",
          "2005",
          "2006",
          "2007",
          "2008",
          "2009",
          "2010",
          "2011",
          "2012",
          "2013",
          "2014",
          "2016",
          "2017",
          "2018",
          "2019",
          "2020",
          "2021",
          "2022",
          "2023"
         ],
         "xaxis": "x",
         "y": [
          0,
          0,
          0,
          1,
          1,
          25,
          51,
          52,
          53,
          54,
          54,
          54,
          68,
          70,
          70,
          79,
          80,
          81,
          85,
          86,
          86,
          86,
          86
         ],
         "yaxis": "y"
        },
        {
         "hovertemplate": "Type=Achievable Housing<br>Year=%{x}<br>Cumulative Count=%{y}<extra></extra>",
         "legendgroup": "Achievable Housing",
         "line": {
          "color": "#00cc96",
          "dash": "solid"
         },
         "marker": {
          "symbol": "circle"
         },
         "mode": "lines",
         "name": "Achievable Housing",
         "orientation": "v",
         "showlegend": true,
         "type": "scatter",
         "x": [
          "1996",
          "1998",
          "1999",
          "2000",
          "2004",
          "2005",
          "2006",
          "2007",
          "2008",
          "2009",
          "2010",
          "2011",
          "2012",
          "2013",
          "2014",
          "2016",
          "2017",
          "2018",
          "2019",
          "2020",
          "2021",
          "2022",
          "2023"
         ],
         "xaxis": "x",
         "y": [
          0,
          0,
          0,
          0,
          0,
          0,
          0,
          0,
          0,
          0,
          0,
          0,
          0,
          0,
          0,
          0,
          0,
          0,
          0,
          0,
          2,
          8,
          12
         ],
         "yaxis": "y"
        }
       ],
       "layout": {
        "legend": {
         "title": {
          "text": "Type"
         },
         "tracegroupgap": 0
        },
        "template": {
         "data": {
          "bar": [
           {
            "error_x": {
             "color": "#2a3f5f"
            },
            "error_y": {
             "color": "#2a3f5f"
            },
            "marker": {
             "line": {
              "color": "#E5ECF6",
              "width": 0.5
             },
             "pattern": {
              "fillmode": "overlay",
              "size": 10,
              "solidity": 0.2
             }
            },
            "type": "bar"
           }
          ],
          "barpolar": [
           {
            "marker": {
             "line": {
              "color": "#E5ECF6",
              "width": 0.5
             },
             "pattern": {
              "fillmode": "overlay",
              "size": 10,
              "solidity": 0.2
             }
            },
            "type": "barpolar"
           }
          ],
          "carpet": [
           {
            "aaxis": {
             "endlinecolor": "#2a3f5f",
             "gridcolor": "white",
             "linecolor": "white",
             "minorgridcolor": "white",
             "startlinecolor": "#2a3f5f"
            },
            "baxis": {
             "endlinecolor": "#2a3f5f",
             "gridcolor": "white",
             "linecolor": "white",
             "minorgridcolor": "white",
             "startlinecolor": "#2a3f5f"
            },
            "type": "carpet"
           }
          ],
          "choropleth": [
           {
            "colorbar": {
             "outlinewidth": 0,
             "ticks": ""
            },
            "type": "choropleth"
           }
          ],
          "contour": [
           {
            "colorbar": {
             "outlinewidth": 0,
             "ticks": ""
            },
            "colorscale": [
             [
              0,
              "#0d0887"
             ],
             [
              0.1111111111111111,
              "#46039f"
             ],
             [
              0.2222222222222222,
              "#7201a8"
             ],
             [
              0.3333333333333333,
              "#9c179e"
             ],
             [
              0.4444444444444444,
              "#bd3786"
             ],
             [
              0.5555555555555556,
              "#d8576b"
             ],
             [
              0.6666666666666666,
              "#ed7953"
             ],
             [
              0.7777777777777778,
              "#fb9f3a"
             ],
             [
              0.8888888888888888,
              "#fdca26"
             ],
             [
              1,
              "#f0f921"
             ]
            ],
            "type": "contour"
           }
          ],
          "contourcarpet": [
           {
            "colorbar": {
             "outlinewidth": 0,
             "ticks": ""
            },
            "type": "contourcarpet"
           }
          ],
          "heatmap": [
           {
            "colorbar": {
             "outlinewidth": 0,
             "ticks": ""
            },
            "colorscale": [
             [
              0,
              "#0d0887"
             ],
             [
              0.1111111111111111,
              "#46039f"
             ],
             [
              0.2222222222222222,
              "#7201a8"
             ],
             [
              0.3333333333333333,
              "#9c179e"
             ],
             [
              0.4444444444444444,
              "#bd3786"
             ],
             [
              0.5555555555555556,
              "#d8576b"
             ],
             [
              0.6666666666666666,
              "#ed7953"
             ],
             [
              0.7777777777777778,
              "#fb9f3a"
             ],
             [
              0.8888888888888888,
              "#fdca26"
             ],
             [
              1,
              "#f0f921"
             ]
            ],
            "type": "heatmap"
           }
          ],
          "heatmapgl": [
           {
            "colorbar": {
             "outlinewidth": 0,
             "ticks": ""
            },
            "colorscale": [
             [
              0,
              "#0d0887"
             ],
             [
              0.1111111111111111,
              "#46039f"
             ],
             [
              0.2222222222222222,
              "#7201a8"
             ],
             [
              0.3333333333333333,
              "#9c179e"
             ],
             [
              0.4444444444444444,
              "#bd3786"
             ],
             [
              0.5555555555555556,
              "#d8576b"
             ],
             [
              0.6666666666666666,
              "#ed7953"
             ],
             [
              0.7777777777777778,
              "#fb9f3a"
             ],
             [
              0.8888888888888888,
              "#fdca26"
             ],
             [
              1,
              "#f0f921"
             ]
            ],
            "type": "heatmapgl"
           }
          ],
          "histogram": [
           {
            "marker": {
             "pattern": {
              "fillmode": "overlay",
              "size": 10,
              "solidity": 0.2
             }
            },
            "type": "histogram"
           }
          ],
          "histogram2d": [
           {
            "colorbar": {
             "outlinewidth": 0,
             "ticks": ""
            },
            "colorscale": [
             [
              0,
              "#0d0887"
             ],
             [
              0.1111111111111111,
              "#46039f"
             ],
             [
              0.2222222222222222,
              "#7201a8"
             ],
             [
              0.3333333333333333,
              "#9c179e"
             ],
             [
              0.4444444444444444,
              "#bd3786"
             ],
             [
              0.5555555555555556,
              "#d8576b"
             ],
             [
              0.6666666666666666,
              "#ed7953"
             ],
             [
              0.7777777777777778,
              "#fb9f3a"
             ],
             [
              0.8888888888888888,
              "#fdca26"
             ],
             [
              1,
              "#f0f921"
             ]
            ],
            "type": "histogram2d"
           }
          ],
          "histogram2dcontour": [
           {
            "colorbar": {
             "outlinewidth": 0,
             "ticks": ""
            },
            "colorscale": [
             [
              0,
              "#0d0887"
             ],
             [
              0.1111111111111111,
              "#46039f"
             ],
             [
              0.2222222222222222,
              "#7201a8"
             ],
             [
              0.3333333333333333,
              "#9c179e"
             ],
             [
              0.4444444444444444,
              "#bd3786"
             ],
             [
              0.5555555555555556,
              "#d8576b"
             ],
             [
              0.6666666666666666,
              "#ed7953"
             ],
             [
              0.7777777777777778,
              "#fb9f3a"
             ],
             [
              0.8888888888888888,
              "#fdca26"
             ],
             [
              1,
              "#f0f921"
             ]
            ],
            "type": "histogram2dcontour"
           }
          ],
          "mesh3d": [
           {
            "colorbar": {
             "outlinewidth": 0,
             "ticks": ""
            },
            "type": "mesh3d"
           }
          ],
          "parcoords": [
           {
            "line": {
             "colorbar": {
              "outlinewidth": 0,
              "ticks": ""
             }
            },
            "type": "parcoords"
           }
          ],
          "pie": [
           {
            "automargin": true,
            "type": "pie"
           }
          ],
          "scatter": [
           {
            "fillpattern": {
             "fillmode": "overlay",
             "size": 10,
             "solidity": 0.2
            },
            "type": "scatter"
           }
          ],
          "scatter3d": [
           {
            "line": {
             "colorbar": {
              "outlinewidth": 0,
              "ticks": ""
             }
            },
            "marker": {
             "colorbar": {
              "outlinewidth": 0,
              "ticks": ""
             }
            },
            "type": "scatter3d"
           }
          ],
          "scattercarpet": [
           {
            "marker": {
             "colorbar": {
              "outlinewidth": 0,
              "ticks": ""
             }
            },
            "type": "scattercarpet"
           }
          ],
          "scattergeo": [
           {
            "marker": {
             "colorbar": {
              "outlinewidth": 0,
              "ticks": ""
             }
            },
            "type": "scattergeo"
           }
          ],
          "scattergl": [
           {
            "marker": {
             "colorbar": {
              "outlinewidth": 0,
              "ticks": ""
             }
            },
            "type": "scattergl"
           }
          ],
          "scattermapbox": [
           {
            "marker": {
             "colorbar": {
              "outlinewidth": 0,
              "ticks": ""
             }
            },
            "type": "scattermapbox"
           }
          ],
          "scatterpolar": [
           {
            "marker": {
             "colorbar": {
              "outlinewidth": 0,
              "ticks": ""
             }
            },
            "type": "scatterpolar"
           }
          ],
          "scatterpolargl": [
           {
            "marker": {
             "colorbar": {
              "outlinewidth": 0,
              "ticks": ""
             }
            },
            "type": "scatterpolargl"
           }
          ],
          "scatterternary": [
           {
            "marker": {
             "colorbar": {
              "outlinewidth": 0,
              "ticks": ""
             }
            },
            "type": "scatterternary"
           }
          ],
          "surface": [
           {
            "colorbar": {
             "outlinewidth": 0,
             "ticks": ""
            },
            "colorscale": [
             [
              0,
              "#0d0887"
             ],
             [
              0.1111111111111111,
              "#46039f"
             ],
             [
              0.2222222222222222,
              "#7201a8"
             ],
             [
              0.3333333333333333,
              "#9c179e"
             ],
             [
              0.4444444444444444,
              "#bd3786"
             ],
             [
              0.5555555555555556,
              "#d8576b"
             ],
             [
              0.6666666666666666,
              "#ed7953"
             ],
             [
              0.7777777777777778,
              "#fb9f3a"
             ],
             [
              0.8888888888888888,
              "#fdca26"
             ],
             [
              1,
              "#f0f921"
             ]
            ],
            "type": "surface"
           }
          ],
          "table": [
           {
            "cells": {
             "fill": {
              "color": "#EBF0F8"
             },
             "line": {
              "color": "white"
             }
            },
            "header": {
             "fill": {
              "color": "#C8D4E3"
             },
             "line": {
              "color": "white"
             }
            },
            "type": "table"
           }
          ]
         },
         "layout": {
          "annotationdefaults": {
           "arrowcolor": "#2a3f5f",
           "arrowhead": 0,
           "arrowwidth": 1
          },
          "autotypenumbers": "strict",
          "coloraxis": {
           "colorbar": {
            "outlinewidth": 0,
            "ticks": ""
           }
          },
          "colorscale": {
           "diverging": [
            [
             0,
             "#8e0152"
            ],
            [
             0.1,
             "#c51b7d"
            ],
            [
             0.2,
             "#de77ae"
            ],
            [
             0.3,
             "#f1b6da"
            ],
            [
             0.4,
             "#fde0ef"
            ],
            [
             0.5,
             "#f7f7f7"
            ],
            [
             0.6,
             "#e6f5d0"
            ],
            [
             0.7,
             "#b8e186"
            ],
            [
             0.8,
             "#7fbc41"
            ],
            [
             0.9,
             "#4d9221"
            ],
            [
             1,
             "#276419"
            ]
           ],
           "sequential": [
            [
             0,
             "#0d0887"
            ],
            [
             0.1111111111111111,
             "#46039f"
            ],
            [
             0.2222222222222222,
             "#7201a8"
            ],
            [
             0.3333333333333333,
             "#9c179e"
            ],
            [
             0.4444444444444444,
             "#bd3786"
            ],
            [
             0.5555555555555556,
             "#d8576b"
            ],
            [
             0.6666666666666666,
             "#ed7953"
            ],
            [
             0.7777777777777778,
             "#fb9f3a"
            ],
            [
             0.8888888888888888,
             "#fdca26"
            ],
            [
             1,
             "#f0f921"
            ]
           ],
           "sequentialminus": [
            [
             0,
             "#0d0887"
            ],
            [
             0.1111111111111111,
             "#46039f"
            ],
            [
             0.2222222222222222,
             "#7201a8"
            ],
            [
             0.3333333333333333,
             "#9c179e"
            ],
            [
             0.4444444444444444,
             "#bd3786"
            ],
            [
             0.5555555555555556,
             "#d8576b"
            ],
            [
             0.6666666666666666,
             "#ed7953"
            ],
            [
             0.7777777777777778,
             "#fb9f3a"
            ],
            [
             0.8888888888888888,
             "#fdca26"
            ],
            [
             1,
             "#f0f921"
            ]
           ]
          },
          "colorway": [
           "#636efa",
           "#EF553B",
           "#00cc96",
           "#ab63fa",
           "#FFA15A",
           "#19d3f3",
           "#FF6692",
           "#B6E880",
           "#FF97FF",
           "#FECB52"
          ],
          "font": {
           "color": "#2a3f5f"
          },
          "geo": {
           "bgcolor": "white",
           "lakecolor": "white",
           "landcolor": "#E5ECF6",
           "showlakes": true,
           "showland": true,
           "subunitcolor": "white"
          },
          "hoverlabel": {
           "align": "left"
          },
          "hovermode": "closest",
          "mapbox": {
           "style": "light"
          },
          "paper_bgcolor": "white",
          "plot_bgcolor": "#E5ECF6",
          "polar": {
           "angularaxis": {
            "gridcolor": "white",
            "linecolor": "white",
            "ticks": ""
           },
           "bgcolor": "#E5ECF6",
           "radialaxis": {
            "gridcolor": "white",
            "linecolor": "white",
            "ticks": ""
           }
          },
          "scene": {
           "xaxis": {
            "backgroundcolor": "#E5ECF6",
            "gridcolor": "white",
            "gridwidth": 2,
            "linecolor": "white",
            "showbackground": true,
            "ticks": "",
            "zerolinecolor": "white"
           },
           "yaxis": {
            "backgroundcolor": "#E5ECF6",
            "gridcolor": "white",
            "gridwidth": 2,
            "linecolor": "white",
            "showbackground": true,
            "ticks": "",
            "zerolinecolor": "white"
           },
           "zaxis": {
            "backgroundcolor": "#E5ECF6",
            "gridcolor": "white",
            "gridwidth": 2,
            "linecolor": "white",
            "showbackground": true,
            "ticks": "",
            "zerolinecolor": "white"
           }
          },
          "shapedefaults": {
           "line": {
            "color": "#2a3f5f"
           }
          },
          "ternary": {
           "aaxis": {
            "gridcolor": "white",
            "linecolor": "white",
            "ticks": ""
           },
           "baxis": {
            "gridcolor": "white",
            "linecolor": "white",
            "ticks": ""
           },
           "bgcolor": "#E5ECF6",
           "caxis": {
            "gridcolor": "white",
            "linecolor": "white",
            "ticks": ""
           }
          },
          "title": {
           "x": 0.05
          },
          "xaxis": {
           "automargin": true,
           "gridcolor": "white",
           "linecolor": "white",
           "ticks": "",
           "title": {
            "standoff": 15
           },
           "zerolinecolor": "white",
           "zerolinewidth": 2
          },
          "yaxis": {
           "automargin": true,
           "gridcolor": "white",
           "linecolor": "white",
           "ticks": "",
           "title": {
            "standoff": 15
           },
           "zerolinecolor": "white",
           "zerolinewidth": 2
          }
         }
        },
        "title": {
         "text": "Deed Restricted Parcels"
        },
        "xaxis": {
         "anchor": "y",
         "domain": [
          0,
          1
         ],
         "title": {
          "text": "Year"
         }
        },
        "yaxis": {
         "anchor": "x",
         "domain": [
          0,
          1
         ],
         "title": {
          "text": "Cumulative Count"
         }
        }
       }
      }
     },
     "metadata": {},
     "output_type": "display_data"
    }
   ],
   "source": [
    "import pandas as pd\n",
    "import numpy as np\n",
    "import plotly.express as px\n",
    "\n",
    "# deed restriction service\n",
    "deedRestrictionService = \"https://www.laketahoeinfo.org/WebServices/GetDeedRestrictedParcels/JSON/e17aeb86-85e3-4260-83fd-a2b32501c476\"\n",
    "\n",
    "# read in deed restricted parcels\n",
    "dfDeed = pd.read_json(deedRestrictionService)\n",
    "\n",
    "# filter out deed restrictions that are not affordable housing\n",
    "dfDeed = dfDeed.loc[dfDeed['DeedRestrictionType'].isin(['Affordable Housing', 'Achievable Housing', 'Moderate Income Housing'])]\n",
    "\n",
    "# create year column\n",
    "dfDeed['Year'] = dfDeed['RecordingDate'].str[-4:]\n",
    "\n",
    "# group by type and year\n",
    "df = dfDeed.groupby(['DeedRestrictionType', 'Year']).size().reset_index(name='Total')\n",
    "\n",
    "# sort by year\n",
    "df.sort_values('Year', inplace=True)\n",
    "\n",
    "# rename columns\n",
    "df = df.rename(columns={'DeedRestrictionType': 'Type', 'Year': 'Year', 'Total': 'Count', 'CumulativeTotal': 'Cumulative Count'})\n",
    "\n",
    "# Create a DataFrame with all possible combinations of 'Type' and 'Year'\n",
    "df_all = pd.DataFrame({\n",
    "    'Type': np.repeat(df['Type'].unique(), df['Year'].nunique()),\n",
    "    'Year': df['Year'].unique().tolist() * df['Type'].nunique()\n",
    "})\n",
    "\n",
    "# Merge the new DataFrame with the original one to fill in the gaps of years for each type with NaN values\n",
    "df = pd.merge(df_all, df, on=['Type', 'Year'], how='left')\n",
    "\n",
    "# Replace NaN values in 'Count' with 0\n",
    "df['Count'] = df['Count'].fillna(0)\n",
    "\n",
    "# Ensure 'Count' is of integer type\n",
    "df['Count'] = df['Count'].astype(int)\n",
    "\n",
    "# Recalculate 'Cumulative Count' as the cumulative sum of 'Count' within each 'Type' and 'Year'\n",
    "df['Cumulative Count'] = df.sort_values('Year').groupby('Type')['Count'].cumsum()\n",
    "\n",
    "# create cumuluative total of deed restricted parcels by type\n",
    "fig = px.line(df, x=\"Year\", y=\"Cumulative Count\", color=\"Type\", title=\"Deed Restricted Parcels\")\n",
    "fig.show()\n"
   ]
  },
  {
   "cell_type": "markdown",
   "metadata": {},
   "source": [
    "### Percent of renewable energy as a share of total energy used"
   ]
  },
  {
   "cell_type": "code",
   "execution_count": null,
   "metadata": {},
   "outputs": [],
   "source": []
  },
  {
   "cell_type": "markdown",
   "metadata": {},
   "source": [
    "### Total transit ridership by transit systems\n",
    "* https://www.laketahoeinfo.org/Indicator/Detail/46/Overview\n",
    "* this doesn't work yet. Talking to ESA to get web service stood up."
   ]
  },
  {
   "cell_type": "code",
   "execution_count": 2,
   "metadata": {},
   "outputs": [
    {
     "data": {
      "text/html": [
       "<div>\n",
       "<style scoped>\n",
       "    .dataframe tbody tr th:only-of-type {\n",
       "        vertical-align: middle;\n",
       "    }\n",
       "\n",
       "    .dataframe tbody tr th {\n",
       "        vertical-align: top;\n",
       "    }\n",
       "\n",
       "    .dataframe thead th {\n",
       "        text-align: right;\n",
       "    }\n",
       "</style>\n",
       "<table border=\"1\" class=\"dataframe\">\n",
       "  <thead>\n",
       "    <tr style=\"text-align: right;\">\n",
       "      <th></th>\n",
       "    </tr>\n",
       "  </thead>\n",
       "  <tbody>\n",
       "  </tbody>\n",
       "</table>\n",
       "</div>"
      ],
      "text/plain": [
       "Empty DataFrame\n",
       "Columns: []\n",
       "Index: []"
      ]
     },
     "execution_count": 2,
     "metadata": {},
     "output_type": "execute_result"
    }
   ],
   "source": [
    "# get EIP indicator as dataframe\n",
    "import pandas as pd\n",
    "import plotly.express as px\n",
    "\n",
    "# indicator #46\n",
    "eipTransit = \"https://www.laketahoeinfo.org/WebServices/GetReportedEIPIndicatorProjectAccomplishments/JSON/e17aeb86-85e3-4260-83fd-a2b32501c476/46\"\n",
    "\n",
    "# read in as dataframe"
   ]
  },
  {
   "cell_type": "markdown",
   "metadata": {},
   "source": [
    "### Daily per capita Vehicles Miles Traveled (VMT) and progress towards VMT target. The RTP (2021) identifies a Daily per capita VMT target set at a 6.8 percent reduction from 2018 levels by 2045 (2018 per capita daily VMT is 12.48, goal is 11.63)."
   ]
  },
  {
   "cell_type": "code",
   "execution_count": null,
   "metadata": {},
   "outputs": [],
   "source": [
    "## new data from Josh/RSG?"
   ]
  },
  {
   "cell_type": "markdown",
   "metadata": {},
   "source": [
    "### Coverage of electric bus routes and alternative fuel, such as EV charging for vehicles and bicycles\n",
    "* Primary source: https://www.plugshare.com/ requested access to their API\n",
    "* Secondary (if needed to cross-check): https://afdc.energy.gov/stations/#/find/nearest\n",
    "\n",
    "* current in-house data: https://maps.trpa.org/server/rest/services/LTinfo_Climate_Resilience_Dashboard/MapServer/0"
   ]
  },
  {
   "cell_type": "code",
   "execution_count": null,
   "metadata": {},
   "outputs": [],
   "source": []
  },
  {
   "cell_type": "markdown",
   "metadata": {},
   "source": [
    "### Baseline mode share and weekday or seasonal variation. The Tahoe RTP (2021) includes the following Non-Auto Mode Share Target: Improve average non-auto mode share calculated from the two most recent TRPA travel survey results; the current performance on target at 24.5% (2018-20 average) up from 18% in 2014-16."
   ]
  },
  {
   "cell_type": "code",
   "execution_count": null,
   "metadata": {},
   "outputs": [],
   "source": []
  },
  {
   "cell_type": "markdown",
   "metadata": {},
   "source": [
    "### Transportation access in priority communities. The Tahoe RTP (2021) includes a target to increase access to each mode for Priority communities to 100% by 2014."
   ]
  },
  {
   "cell_type": "code",
   "execution_count": null,
   "metadata": {},
   "outputs": [],
   "source": []
  },
  {
   "cell_type": "markdown",
   "metadata": {},
   "source": [
    "### Increased lane miles of low-stress bicycle facilities (both bicycle and pedestrian facilities that are considered comfortable enough for all users and abilities, and implicitly measures active transportation network connectivity)"
   ]
  },
  {
   "cell_type": "code",
   "execution_count": null,
   "metadata": {},
   "outputs": [],
   "source": [
    "\n",
    "# group by type and year\n",
    "df = dfDeed.groupby(['DeedRestrictionType', 'Year']).size().reset_index(name='Total')\n",
    "\n",
    "# sort by year\n",
    "df.sort_values('Year', inplace=True)\n",
    "\n",
    "# rename columns\n",
    "df = df.rename(columns={'DeedRestrictionType': 'Type', 'Year': 'Year', 'Total': 'Count', 'CumulativeTotal': 'Cumulative Count'})\n",
    "\n",
    "# Create a DataFrame with all possible combinations of 'Type' and 'Year'\n",
    "df_all = pd.DataFrame({\n",
    "    'Type': np.repeat(df['Type'].unique(), df['Year'].nunique()),\n",
    "    'Year': df['Year'].unique().tolist() * df['Type'].nunique()\n",
    "})\n",
    "\n",
    "# Merge the new DataFrame with the original one to fill in the gaps of years for each type with NaN values\n",
    "df = pd.merge(df_all, df, on=['Type', 'Year'], how='left')\n",
    "\n",
    "# Replace NaN values in 'Count' with 0\n",
    "df['Count'] = df['Count'].fillna(0)\n",
    "\n",
    "# Ensure 'Count' is of integer type\n",
    "df['Count'] = df['Count'].astype(int)\n",
    "\n",
    "# Recalculate 'Cumulative Count' as the cumulative sum of 'Count' within each 'Type' and 'Year'\n",
    "df['Cumulative Count'] = df.sort_values('Year').groupby('Type')['Count'].cumsum()\n",
    "\n",
    "# create cumuluative total of deed restricted parcels by type\n",
    "fig = px.line(df, x=\"Year\", y=\"Cumulative Count\", color=\"Type\", title=\"Deed Restricted Parcels\")\n",
    "fig.show()"
   ]
  },
  {
   "cell_type": "code",
   "execution_count": 100,
   "metadata": {},
   "outputs": [
    {
     "data": {
      "text/html": [
       "<div>\n",
       "<style scoped>\n",
       "    .dataframe tbody tr th:only-of-type {\n",
       "        vertical-align: middle;\n",
       "    }\n",
       "\n",
       "    .dataframe tbody tr th {\n",
       "        vertical-align: top;\n",
       "    }\n",
       "\n",
       "    .dataframe thead th {\n",
       "        text-align: right;\n",
       "    }\n",
       "</style>\n",
       "<table border=\"1\" class=\"dataframe\">\n",
       "  <thead>\n",
       "    <tr style=\"text-align: right;\">\n",
       "      <th></th>\n",
       "      <th>OBJECTID</th>\n",
       "      <th>CLASS</th>\n",
       "      <th>NAME</th>\n",
       "      <th>MILES</th>\n",
       "      <th>FROM_</th>\n",
       "      <th>TO_</th>\n",
       "      <th>WNTR_MAINT</th>\n",
       "      <th>MAINT_JURS</th>\n",
       "      <th>YR_OF_CONS</th>\n",
       "      <th>IMPLEMENT</th>\n",
       "      <th>COUNTY</th>\n",
       "      <th>E_BIKE</th>\n",
       "      <th>GlobalID</th>\n",
       "      <th>created_user</th>\n",
       "      <th>created_date</th>\n",
       "      <th>last_edited_user</th>\n",
       "      <th>last_edited_date</th>\n",
       "      <th>Shape.STLength()</th>\n",
       "      <th>SHAPE</th>\n",
       "    </tr>\n",
       "  </thead>\n",
       "  <tbody>\n",
       "    <tr>\n",
       "      <th>0</th>\n",
       "      <td>1036</td>\n",
       "      <td>1</td>\n",
       "      <td>VILLAGE BLVD (NORTH)</td>\n",
       "      <td>0.546032</td>\n",
       "      <td>ACE COURT</td>\n",
       "      <td>NORTHWOOD BLVD</td>\n",
       "      <td>YES</td>\n",
       "      <td>WASHOE COUNTY</td>\n",
       "      <td>Before 2006</td>\n",
       "      <td>WASHOE COUNTY</td>\n",
       "      <td>WASHOE COUNTY</td>\n",
       "      <td></td>\n",
       "      <td>{5ABEA349-F0A3-4425-A7D2-E436B94B0B95}</td>\n",
       "      <td>MBINDL</td>\n",
       "      <td>2024-01-24 20:41:45</td>\n",
       "      <td>MBINDL</td>\n",
       "      <td>2024-01-24 20:41:45</td>\n",
       "      <td>878.754949</td>\n",
       "      <td>{\"paths\": [[[763010.0494420798, 4349230.453223...</td>\n",
       "    </tr>\n",
       "    <tr>\n",
       "      <th>1</th>\n",
       "      <td>1037</td>\n",
       "      <td>1</td>\n",
       "      <td>NORTHWOOD BLVD</td>\n",
       "      <td>0.353422</td>\n",
       "      <td>VILLAGE BLVD (NORTH)</td>\n",
       "      <td>NORTHWOOD MIDBLOCK CROSSING</td>\n",
       "      <td>YES</td>\n",
       "      <td>WASHOE COUNTY</td>\n",
       "      <td>Before 2006</td>\n",
       "      <td>WASHOE COUNTY</td>\n",
       "      <td>WASHOE COUNTY</td>\n",
       "      <td></td>\n",
       "      <td>{584CE2F1-8DC2-4ABB-8536-0DAFF06D8EFC}</td>\n",
       "      <td>MBINDL</td>\n",
       "      <td>2024-01-24 20:41:45</td>\n",
       "      <td>MBINDL</td>\n",
       "      <td>2024-01-24 20:41:45</td>\n",
       "      <td>568.778879</td>\n",
       "      <td>{\"paths\": [[[763010.0494420798, 4349230.453223...</td>\n",
       "    </tr>\n",
       "    <tr>\n",
       "      <th>2</th>\n",
       "      <td>1038</td>\n",
       "      <td>1</td>\n",
       "      <td>NORTHWOOD BLVD</td>\n",
       "      <td>0.264228</td>\n",
       "      <td>NORTHWOOD MIDBLOCK CROSSING</td>\n",
       "      <td>STATE ROUTE 28</td>\n",
       "      <td>YES</td>\n",
       "      <td>WASHOE COUNTY</td>\n",
       "      <td>Before 2006</td>\n",
       "      <td>WASHOE COUNTY</td>\n",
       "      <td>WASHOE COUNTY</td>\n",
       "      <td></td>\n",
       "      <td>{8D883CF4-928B-4442-8F22-6BCD62F14931}</td>\n",
       "      <td>MBINDL</td>\n",
       "      <td>2024-01-24 20:41:45</td>\n",
       "      <td>MBINDL</td>\n",
       "      <td>2024-01-24 20:41:45</td>\n",
       "      <td>425.235283</td>\n",
       "      <td>{\"paths\": [[[762435.8466366101, 4349243.555121...</td>\n",
       "    </tr>\n",
       "    <tr>\n",
       "      <th>3</th>\n",
       "      <td>1039</td>\n",
       "      <td>1</td>\n",
       "      <td>VILLAGE BLVD (NORTH)</td>\n",
       "      <td>0.190352</td>\n",
       "      <td>NORTHWOOD BLVD</td>\n",
       "      <td>STATE ROUTE 28</td>\n",
       "      <td>YES</td>\n",
       "      <td>WASHOE COUNTY</td>\n",
       "      <td>Before 2006</td>\n",
       "      <td>WASHOE COUNTY</td>\n",
       "      <td>WASHOE COUNTY</td>\n",
       "      <td></td>\n",
       "      <td>{494DD914-74B2-4F2A-A530-09E9D09BFA10}</td>\n",
       "      <td>MBINDL</td>\n",
       "      <td>2024-01-24 20:41:45</td>\n",
       "      <td>MBINDL</td>\n",
       "      <td>2024-01-24 20:41:45</td>\n",
       "      <td>306.341967</td>\n",
       "      <td>{\"paths\": [[[763010.0494420798, 4349230.453223...</td>\n",
       "    </tr>\n",
       "    <tr>\n",
       "      <th>4</th>\n",
       "      <td>1040</td>\n",
       "      <td>1</td>\n",
       "      <td>MAYS BLVD</td>\n",
       "      <td>0.333108</td>\n",
       "      <td>LAKESHORE BLVD</td>\n",
       "      <td>ALLEN WAY</td>\n",
       "      <td>YES</td>\n",
       "      <td>WASHOE COUNTY</td>\n",
       "      <td>Before 2006</td>\n",
       "      <td>WASHOE COUNTY</td>\n",
       "      <td>WASHOE COUNTY</td>\n",
       "      <td></td>\n",
       "      <td>{C5B9C56B-E9C5-41C1-82FA-5F5D3EA5FD8E}</td>\n",
       "      <td>MBINDL</td>\n",
       "      <td>2024-01-24 20:41:45</td>\n",
       "      <td>MBINDL</td>\n",
       "      <td>2024-01-24 20:41:45</td>\n",
       "      <td>536.08629</td>\n",
       "      <td>{\"paths\": [[[762034.7960026348, 4348607.335126...</td>\n",
       "    </tr>\n",
       "    <tr>\n",
       "      <th>...</th>\n",
       "      <td>...</td>\n",
       "      <td>...</td>\n",
       "      <td>...</td>\n",
       "      <td>...</td>\n",
       "      <td>...</td>\n",
       "      <td>...</td>\n",
       "      <td>...</td>\n",
       "      <td>...</td>\n",
       "      <td>...</td>\n",
       "      <td>...</td>\n",
       "      <td>...</td>\n",
       "      <td>...</td>\n",
       "      <td>...</td>\n",
       "      <td>...</td>\n",
       "      <td>...</td>\n",
       "      <td>...</td>\n",
       "      <td>...</td>\n",
       "      <td>...</td>\n",
       "      <td>...</td>\n",
       "    </tr>\n",
       "    <tr>\n",
       "      <th>206</th>\n",
       "      <td>1242</td>\n",
       "      <td>PED</td>\n",
       "      <td>SR 89 SIDEWALKS (EAST SIDE)</td>\n",
       "      <td>&lt;NA&gt;</td>\n",
       "      <td>SOUTH TAHOE Y</td>\n",
       "      <td>15TH STREET</td>\n",
       "      <td>NO</td>\n",
       "      <td>CITY OF SOUTH LAKE TAHOE</td>\n",
       "      <td>2016</td>\n",
       "      <td>CITY OF SOUTH LAKE TAHOE</td>\n",
       "      <td>CITY OF SOUTH LAKE TAHOE</td>\n",
       "      <td>&lt;NA&gt;</td>\n",
       "      <td>{F36AD7CD-D9CC-44D9-A5E8-8F560F74D0B5}</td>\n",
       "      <td>MBINDL</td>\n",
       "      <td>2024-01-24 20:41:45</td>\n",
       "      <td>MBINDL</td>\n",
       "      <td>2024-01-24 20:41:45</td>\n",
       "      <td>1863.130414</td>\n",
       "      <td>{\"paths\": [[[759290.486654425, 4311832.7693805...</td>\n",
       "    </tr>\n",
       "    <tr>\n",
       "      <th>207</th>\n",
       "      <td>1243</td>\n",
       "      <td>3</td>\n",
       "      <td>&lt;NA&gt;</td>\n",
       "      <td>0.0</td>\n",
       "      <td>&lt;NA&gt;</td>\n",
       "      <td>&lt;NA&gt;</td>\n",
       "      <td>&lt;NA&gt;</td>\n",
       "      <td>&lt;NA&gt;</td>\n",
       "      <td>&lt;NA&gt;</td>\n",
       "      <td>&lt;NA&gt;</td>\n",
       "      <td>&lt;NA&gt;</td>\n",
       "      <td>&lt;NA&gt;</td>\n",
       "      <td>{1790DF53-A7B2-4C03-A16E-4187FBBD5C60}</td>\n",
       "      <td>MBINDL</td>\n",
       "      <td>2024-01-24 20:41:45</td>\n",
       "      <td>MBINDL</td>\n",
       "      <td>2024-01-24 20:41:45</td>\n",
       "      <td>620.525295</td>\n",
       "      <td>{\"paths\": [[[757739.6073097438, 4305006.863504...</td>\n",
       "    </tr>\n",
       "    <tr>\n",
       "      <th>208</th>\n",
       "      <td>1244</td>\n",
       "      <td>3</td>\n",
       "      <td>&lt;NA&gt;</td>\n",
       "      <td>0.0</td>\n",
       "      <td>&lt;NA&gt;</td>\n",
       "      <td>&lt;NA&gt;</td>\n",
       "      <td>&lt;NA&gt;</td>\n",
       "      <td>&lt;NA&gt;</td>\n",
       "      <td>&lt;NA&gt;</td>\n",
       "      <td>&lt;NA&gt;</td>\n",
       "      <td>&lt;NA&gt;</td>\n",
       "      <td>&lt;NA&gt;</td>\n",
       "      <td>{7F79D2C2-ECCF-495F-8D1D-09E1CD04D16B}</td>\n",
       "      <td>MBINDL</td>\n",
       "      <td>2024-01-24 20:41:45</td>\n",
       "      <td>MBINDL</td>\n",
       "      <td>2024-01-24 20:41:45</td>\n",
       "      <td>402.991628</td>\n",
       "      <td>{\"paths\": [[[758561.4390744474, 4305341.446249...</td>\n",
       "    </tr>\n",
       "    <tr>\n",
       "      <th>209</th>\n",
       "      <td>1245</td>\n",
       "      <td>1</td>\n",
       "      <td>Jameson Beach Rd Path</td>\n",
       "      <td>&lt;NA&gt;</td>\n",
       "      <td>Hwy 50</td>\n",
       "      <td>Beacon</td>\n",
       "      <td>No</td>\n",
       "      <td>USFS</td>\n",
       "      <td>2022</td>\n",
       "      <td>USFS</td>\n",
       "      <td>El Dorado County</td>\n",
       "      <td>No</td>\n",
       "      <td>{975474C1-0637-4080-9F7F-E3937821DC95}</td>\n",
       "      <td>MBINDL</td>\n",
       "      <td>2024-01-24 20:41:45</td>\n",
       "      <td>MBINDL</td>\n",
       "      <td>2024-01-24 20:41:45</td>\n",
       "      <td>366.811749</td>\n",
       "      <td>{\"paths\": [[[756561.7185036577, 4313677.252976...</td>\n",
       "    </tr>\n",
       "    <tr>\n",
       "      <th>210</th>\n",
       "      <td>1246</td>\n",
       "      <td>1</td>\n",
       "      <td>B STREET (NORTH SIDE)</td>\n",
       "      <td>&lt;NA&gt;</td>\n",
       "      <td>CVS PARKING LOT</td>\n",
       "      <td>HELEN AVE</td>\n",
       "      <td>YES</td>\n",
       "      <td>CITY OF SOUTH LAKE TAHOE</td>\n",
       "      <td>BEFORE 2006</td>\n",
       "      <td>CITY OF SOUTH LAKE TAHOE</td>\n",
       "      <td>CITY OF SOUTH LAKE TAHOE</td>\n",
       "      <td>&lt;NA&gt;</td>\n",
       "      <td>{3C3F0820-EF2E-4340-8133-A8AD753DA2B3}</td>\n",
       "      <td>MBINDL</td>\n",
       "      <td>2024-01-24 20:41:45</td>\n",
       "      <td>MBINDL</td>\n",
       "      <td>2024-01-24 20:41:45</td>\n",
       "      <td>551.451226</td>\n",
       "      <td>{\"paths\": [[[760041.6663307603, 4311324.250564...</td>\n",
       "    </tr>\n",
       "  </tbody>\n",
       "</table>\n",
       "<p>211 rows × 19 columns</p>\n",
       "</div>"
      ],
      "text/plain": [
       "     OBJECTID CLASS                         NAME     MILES  \\\n",
       "0        1036     1         VILLAGE BLVD (NORTH)  0.546032   \n",
       "1        1037     1               NORTHWOOD BLVD  0.353422   \n",
       "2        1038     1               NORTHWOOD BLVD  0.264228   \n",
       "3        1039     1         VILLAGE BLVD (NORTH)  0.190352   \n",
       "4        1040     1                    MAYS BLVD  0.333108   \n",
       "..        ...   ...                          ...       ...   \n",
       "206      1242   PED  SR 89 SIDEWALKS (EAST SIDE)      <NA>   \n",
       "207      1243     3                         <NA>       0.0   \n",
       "208      1244     3                         <NA>       0.0   \n",
       "209      1245     1        Jameson Beach Rd Path      <NA>   \n",
       "210      1246     1        B STREET (NORTH SIDE)      <NA>   \n",
       "\n",
       "                           FROM_                          TO_ WNTR_MAINT  \\\n",
       "0                      ACE COURT               NORTHWOOD BLVD        YES   \n",
       "1           VILLAGE BLVD (NORTH)  NORTHWOOD MIDBLOCK CROSSING        YES   \n",
       "2    NORTHWOOD MIDBLOCK CROSSING               STATE ROUTE 28        YES   \n",
       "3                 NORTHWOOD BLVD               STATE ROUTE 28        YES   \n",
       "4                 LAKESHORE BLVD                    ALLEN WAY        YES   \n",
       "..                           ...                          ...        ...   \n",
       "206                SOUTH TAHOE Y                  15TH STREET         NO   \n",
       "207                         <NA>                         <NA>       <NA>   \n",
       "208                         <NA>                         <NA>       <NA>   \n",
       "209                       Hwy 50                       Beacon         No   \n",
       "210              CVS PARKING LOT                    HELEN AVE        YES   \n",
       "\n",
       "                   MAINT_JURS   YR_OF_CONS                 IMPLEMENT  \\\n",
       "0               WASHOE COUNTY  Before 2006             WASHOE COUNTY   \n",
       "1               WASHOE COUNTY  Before 2006             WASHOE COUNTY   \n",
       "2               WASHOE COUNTY  Before 2006             WASHOE COUNTY   \n",
       "3               WASHOE COUNTY  Before 2006             WASHOE COUNTY   \n",
       "4               WASHOE COUNTY  Before 2006             WASHOE COUNTY   \n",
       "..                        ...          ...                       ...   \n",
       "206  CITY OF SOUTH LAKE TAHOE         2016  CITY OF SOUTH LAKE TAHOE   \n",
       "207                      <NA>         <NA>                      <NA>   \n",
       "208                      <NA>         <NA>                      <NA>   \n",
       "209                      USFS         2022                      USFS   \n",
       "210  CITY OF SOUTH LAKE TAHOE  BEFORE 2006  CITY OF SOUTH LAKE TAHOE   \n",
       "\n",
       "                       COUNTY E_BIKE                                GlobalID  \\\n",
       "0               WASHOE COUNTY         {5ABEA349-F0A3-4425-A7D2-E436B94B0B95}   \n",
       "1               WASHOE COUNTY         {584CE2F1-8DC2-4ABB-8536-0DAFF06D8EFC}   \n",
       "2               WASHOE COUNTY         {8D883CF4-928B-4442-8F22-6BCD62F14931}   \n",
       "3               WASHOE COUNTY         {494DD914-74B2-4F2A-A530-09E9D09BFA10}   \n",
       "4               WASHOE COUNTY         {C5B9C56B-E9C5-41C1-82FA-5F5D3EA5FD8E}   \n",
       "..                        ...    ...                                     ...   \n",
       "206  CITY OF SOUTH LAKE TAHOE   <NA>  {F36AD7CD-D9CC-44D9-A5E8-8F560F74D0B5}   \n",
       "207                      <NA>   <NA>  {1790DF53-A7B2-4C03-A16E-4187FBBD5C60}   \n",
       "208                      <NA>   <NA>  {7F79D2C2-ECCF-495F-8D1D-09E1CD04D16B}   \n",
       "209          El Dorado County     No  {975474C1-0637-4080-9F7F-E3937821DC95}   \n",
       "210  CITY OF SOUTH LAKE TAHOE   <NA>  {3C3F0820-EF2E-4340-8133-A8AD753DA2B3}   \n",
       "\n",
       "    created_user        created_date last_edited_user    last_edited_date  \\\n",
       "0         MBINDL 2024-01-24 20:41:45           MBINDL 2024-01-24 20:41:45   \n",
       "1         MBINDL 2024-01-24 20:41:45           MBINDL 2024-01-24 20:41:45   \n",
       "2         MBINDL 2024-01-24 20:41:45           MBINDL 2024-01-24 20:41:45   \n",
       "3         MBINDL 2024-01-24 20:41:45           MBINDL 2024-01-24 20:41:45   \n",
       "4         MBINDL 2024-01-24 20:41:45           MBINDL 2024-01-24 20:41:45   \n",
       "..           ...                 ...              ...                 ...   \n",
       "206       MBINDL 2024-01-24 20:41:45           MBINDL 2024-01-24 20:41:45   \n",
       "207       MBINDL 2024-01-24 20:41:45           MBINDL 2024-01-24 20:41:45   \n",
       "208       MBINDL 2024-01-24 20:41:45           MBINDL 2024-01-24 20:41:45   \n",
       "209       MBINDL 2024-01-24 20:41:45           MBINDL 2024-01-24 20:41:45   \n",
       "210       MBINDL 2024-01-24 20:41:45           MBINDL 2024-01-24 20:41:45   \n",
       "\n",
       "     Shape.STLength()                                              SHAPE  \n",
       "0          878.754949  {\"paths\": [[[763010.0494420798, 4349230.453223...  \n",
       "1          568.778879  {\"paths\": [[[763010.0494420798, 4349230.453223...  \n",
       "2          425.235283  {\"paths\": [[[762435.8466366101, 4349243.555121...  \n",
       "3          306.341967  {\"paths\": [[[763010.0494420798, 4349230.453223...  \n",
       "4           536.08629  {\"paths\": [[[762034.7960026348, 4348607.335126...  \n",
       "..                ...                                                ...  \n",
       "206       1863.130414  {\"paths\": [[[759290.486654425, 4311832.7693805...  \n",
       "207        620.525295  {\"paths\": [[[757739.6073097438, 4305006.863504...  \n",
       "208        402.991628  {\"paths\": [[[758561.4390744474, 4305341.446249...  \n",
       "209        366.811749  {\"paths\": [[[756561.7185036577, 4313677.252976...  \n",
       "210        551.451226  {\"paths\": [[[760041.6663307603, 4311324.250564...  \n",
       "\n",
       "[211 rows x 19 columns]"
      ]
     },
     "execution_count": 100,
     "metadata": {},
     "output_type": "execute_result"
    }
   ],
   "source": [
    "sdf_bikelane"
   ]
  },
  {
   "cell_type": "code",
   "execution_count": 102,
   "metadata": {},
   "outputs": [
    {
     "ename": "AttributeError",
     "evalue": "'Series' object has no attribute 'length'",
     "output_type": "error",
     "traceback": [
      "\u001b[1;31m---------------------------------------------------------------------------\u001b[0m",
      "\u001b[1;31mAttributeError\u001b[0m                            Traceback (most recent call last)",
      "\u001b[1;32m~\\AppData\\Local\\Temp\\ipykernel_34288\\299501954.py\u001b[0m in \u001b[0;36m<cell line: 10>\u001b[1;34m()\u001b[0m\n\u001b[0;32m      8\u001b[0m \u001b[0mdf_bikelane\u001b[0m \u001b[1;33m=\u001b[0m \u001b[0mpd\u001b[0m\u001b[1;33m.\u001b[0m\u001b[0mDataFrame\u001b[0m\u001b[1;33m.\u001b[0m\u001b[0mfrom_records\u001b[0m\u001b[1;33m(\u001b[0m\u001b[0msdf_bikelane\u001b[0m\u001b[1;33m)\u001b[0m\u001b[1;33m\u001b[0m\u001b[1;33m\u001b[0m\u001b[0m\n\u001b[0;32m      9\u001b[0m \u001b[1;33m\u001b[0m\u001b[0m\n\u001b[1;32m---> 10\u001b[1;33m \u001b[0mdf_bikelane\u001b[0m\u001b[1;33m.\u001b[0m\u001b[0mMiles\u001b[0m \u001b[1;33m=\u001b[0m \u001b[0mdf_bikelane\u001b[0m\u001b[1;33m[\u001b[0m\u001b[1;34m'SHAPE'\u001b[0m\u001b[1;33m]\u001b[0m\u001b[1;33m.\u001b[0m\u001b[0mlength\u001b[0m \u001b[1;33m/\u001b[0m \u001b[1;36m1609.34\u001b[0m\u001b[1;33m\u001b[0m\u001b[1;33m\u001b[0m\u001b[0m\n\u001b[0m\u001b[0;32m     11\u001b[0m \u001b[1;33m\u001b[0m\u001b[0m\n\u001b[0;32m     12\u001b[0m \u001b[0mdf_bikelane\u001b[0m\u001b[1;33m\u001b[0m\u001b[1;33m\u001b[0m\u001b[0m\n",
      "\u001b[1;32mc:\\Program Files\\ArcGIS\\Pro\\bin\\Python\\envs\\arcgispro-py3\\lib\\site-packages\\pandas\\core\\generic.py\u001b[0m in \u001b[0;36m__getattr__\u001b[1;34m(self, name)\u001b[0m\n\u001b[0;32m   5987\u001b[0m         ):\n\u001b[0;32m   5988\u001b[0m             \u001b[1;32mreturn\u001b[0m \u001b[0mself\u001b[0m\u001b[1;33m[\u001b[0m\u001b[0mname\u001b[0m\u001b[1;33m]\u001b[0m\u001b[1;33m\u001b[0m\u001b[1;33m\u001b[0m\u001b[0m\n\u001b[1;32m-> 5989\u001b[1;33m         \u001b[1;32mreturn\u001b[0m \u001b[0mobject\u001b[0m\u001b[1;33m.\u001b[0m\u001b[0m__getattribute__\u001b[0m\u001b[1;33m(\u001b[0m\u001b[0mself\u001b[0m\u001b[1;33m,\u001b[0m \u001b[0mname\u001b[0m\u001b[1;33m)\u001b[0m\u001b[1;33m\u001b[0m\u001b[1;33m\u001b[0m\u001b[0m\n\u001b[0m\u001b[0;32m   5990\u001b[0m \u001b[1;33m\u001b[0m\u001b[0m\n\u001b[0;32m   5991\u001b[0m     \u001b[1;32mdef\u001b[0m \u001b[0m__setattr__\u001b[0m\u001b[1;33m(\u001b[0m\u001b[0mself\u001b[0m\u001b[1;33m,\u001b[0m \u001b[0mname\u001b[0m\u001b[1;33m:\u001b[0m \u001b[0mstr\u001b[0m\u001b[1;33m,\u001b[0m \u001b[0mvalue\u001b[0m\u001b[1;33m)\u001b[0m \u001b[1;33m->\u001b[0m \u001b[1;32mNone\u001b[0m\u001b[1;33m:\u001b[0m\u001b[1;33m\u001b[0m\u001b[1;33m\u001b[0m\u001b[0m\n",
      "\u001b[1;31mAttributeError\u001b[0m: 'Series' object has no attribute 'length'"
     ]
    }
   ],
   "source": [
    "from arcgis.features import FeatureLayer\n",
    "import pandas as pd\n",
    "\n",
    "# Define the service URL\n",
    "bikelaneService = \"https://maps.trpa.org/server/rest/services/Transportation/MapServer/3\"\n",
    "\n",
    "# Create a FeatureLayer object\n",
    "feature_layer = FeatureLayer(bikelaneService)\n",
    "\n",
    "# Query the feature layer and convert the result to a Spatially Enabled DataFrame\n",
    "sdf_bikelane = feature_layer.query().sdf\n",
    "\n",
    "# Convert the series object to a dataframe\n",
    "df_bikelane = pd.DataFrame.from_records(sdf_bikelane)\n",
    "\n",
    "df_bikelane.Miles = df_bikelane['SHAPE'].length / 1609.34\n",
    "\n",
    "df_bikelane\n",
    "\n"
   ]
  },
  {
   "cell_type": "code",
   "execution_count": 90,
   "metadata": {},
   "outputs": [
    {
     "data": {
      "text/html": [
       "<div>\n",
       "<style scoped>\n",
       "    .dataframe tbody tr th:only-of-type {\n",
       "        vertical-align: middle;\n",
       "    }\n",
       "\n",
       "    .dataframe tbody tr th {\n",
       "        vertical-align: top;\n",
       "    }\n",
       "\n",
       "    .dataframe thead th {\n",
       "        text-align: right;\n",
       "    }\n",
       "</style>\n",
       "<table border=\"1\" class=\"dataframe\">\n",
       "  <thead>\n",
       "    <tr style=\"text-align: right;\">\n",
       "      <th></th>\n",
       "      <th>Year</th>\n",
       "      <th>Total</th>\n",
       "    </tr>\n",
       "  </thead>\n",
       "  <tbody>\n",
       "    <tr>\n",
       "      <th>0</th>\n",
       "      <td>2002</td>\n",
       "      <td>3</td>\n",
       "    </tr>\n",
       "    <tr>\n",
       "      <th>1</th>\n",
       "      <td>2003</td>\n",
       "      <td>1</td>\n",
       "    </tr>\n",
       "    <tr>\n",
       "      <th>2</th>\n",
       "      <td>2004</td>\n",
       "      <td>2</td>\n",
       "    </tr>\n",
       "    <tr>\n",
       "      <th>3</th>\n",
       "      <td>2006</td>\n",
       "      <td>39</td>\n",
       "    </tr>\n",
       "    <tr>\n",
       "      <th>4</th>\n",
       "      <td>2008</td>\n",
       "      <td>2</td>\n",
       "    </tr>\n",
       "    <tr>\n",
       "      <th>5</th>\n",
       "      <td>2010</td>\n",
       "      <td>11</td>\n",
       "    </tr>\n",
       "    <tr>\n",
       "      <th>6</th>\n",
       "      <td>2011</td>\n",
       "      <td>1</td>\n",
       "    </tr>\n",
       "    <tr>\n",
       "      <th>7</th>\n",
       "      <td>2012</td>\n",
       "      <td>3</td>\n",
       "    </tr>\n",
       "    <tr>\n",
       "      <th>8</th>\n",
       "      <td>2013</td>\n",
       "      <td>2</td>\n",
       "    </tr>\n",
       "    <tr>\n",
       "      <th>9</th>\n",
       "      <td>2014</td>\n",
       "      <td>5</td>\n",
       "    </tr>\n",
       "    <tr>\n",
       "      <th>10</th>\n",
       "      <td>2015</td>\n",
       "      <td>2</td>\n",
       "    </tr>\n",
       "    <tr>\n",
       "      <th>11</th>\n",
       "      <td>2016</td>\n",
       "      <td>3</td>\n",
       "    </tr>\n",
       "    <tr>\n",
       "      <th>12</th>\n",
       "      <td>2017</td>\n",
       "      <td>1</td>\n",
       "    </tr>\n",
       "    <tr>\n",
       "      <th>13</th>\n",
       "      <td>2018</td>\n",
       "      <td>3</td>\n",
       "    </tr>\n",
       "    <tr>\n",
       "      <th>14</th>\n",
       "      <td>2019</td>\n",
       "      <td>1</td>\n",
       "    </tr>\n",
       "    <tr>\n",
       "      <th>15</th>\n",
       "      <td>2020</td>\n",
       "      <td>2</td>\n",
       "    </tr>\n",
       "    <tr>\n",
       "      <th>16</th>\n",
       "      <td>2021</td>\n",
       "      <td>1</td>\n",
       "    </tr>\n",
       "    <tr>\n",
       "      <th>17</th>\n",
       "      <td>2022</td>\n",
       "      <td>2</td>\n",
       "    </tr>\n",
       "    <tr>\n",
       "      <th>18</th>\n",
       "      <td>2023</td>\n",
       "      <td>1</td>\n",
       "    </tr>\n",
       "  </tbody>\n",
       "</table>\n",
       "</div>"
      ],
      "text/plain": [
       "    Year  Total\n",
       "0   2002      3\n",
       "1   2003      1\n",
       "2   2004      2\n",
       "3   2006     39\n",
       "4   2008      2\n",
       "5   2010     11\n",
       "6   2011      1\n",
       "7   2012      3\n",
       "8   2013      2\n",
       "9   2014      5\n",
       "10  2015      2\n",
       "11  2016      3\n",
       "12  2017      1\n",
       "13  2018      3\n",
       "14  2019      1\n",
       "15  2020      2\n",
       "16  2021      1\n",
       "17  2022      2\n",
       "18  2023      1"
      ]
     },
     "execution_count": 90,
     "metadata": {},
     "output_type": "execute_result"
    }
   ],
   "source": [
    "from arcgis.features import FeatureLayer\n",
    "\n",
    "# Define the service URL\n",
    "bikelaneService = \"https://maps.trpa.org/server/rest/services/Transportation/MapServer/3\"\n",
    "\n",
    "# Create a FeatureLayer object\n",
    "feature_layer = FeatureLayer(bikelaneService)\n",
    "\n",
    "# Query the feature layer and convert the result to a Spatially Enabled DataFrame\n",
    "sdf_bikelane = feature_layer.query().sdf\n",
    "\n",
    "# filter for CLAss = 1\n",
    "filtered_sdf_bikelane = sdf_bikelane[sdf_bikelane['CLASS'] == '1']\n",
    "\n",
    "# fix bad values\n",
    "filtered_sdf_bikelane.loc[:, 'YR_OF_CONS'] = filtered_sdf_bikelane.loc[:, 'YR_OF_CONS'].replace(['before 2010', ' before 2010'], '2010')\n",
    "filtered_sdf_bikelane.loc[:, 'YR_OF_CONS'] = filtered_sdf_bikelane.loc[:, 'YR_OF_CONS'].replace(['Before 2006','BEFORE 2006'], '2006')\n",
    "filtered_sdf_bikelane.loc[:, 'YR_OF_CONS'] = filtered_sdf_bikelane.loc[:, 'YR_OF_CONS'].replace([' 2014'], '2014')\n",
    "filtered_sdf_bikelane.loc[:, 'YR_OF_CONS'] = filtered_sdf_bikelane.loc[:, 'YR_OF_CONS'].replace(['2007 (1A) 2008 (1B)'], '2008')\n",
    "\n",
    "# drop UNKNOWN values\n",
    "filtered_sdf_bikelane = filtered_sdf_bikelane[filtered_sdf_bikelane['YR_OF_CONS'] != 'UNKNOWN']\n",
    "\n",
    "# convert to numeric\n",
    "filtered_sdf_bikelane['YR_OF_CONS'] = pd.to_numeric(filtered_sdf_bikelane['YR_OF_CONS'])\n",
    "\n",
    "# create year column\n",
    "filtered_sdf_bikelane['Year'] = filtered_sdf_bikelane['YR_OF_CONS']\n",
    "\n",
    "# group by year\n",
    "df = filtered_sdf_bikelane.groupby(['Year']).size().reset_index(name='MILES')\n",
    "\n",
    "df\n"
   ]
  },
  {
   "cell_type": "markdown",
   "metadata": {},
   "source": [
    "### Median Household Income (MHI) by community area (to be determined) and disaggregated by remote and non-remote workers"
   ]
  },
  {
   "cell_type": "code",
   "execution_count": null,
   "metadata": {},
   "outputs": [],
   "source": []
  },
  {
   "cell_type": "markdown",
   "metadata": {},
   "source": [
    "### Housing costs (median home sales price and rental rates, by jurisdiction); include cost per unit and cost per square foot"
   ]
  },
  {
   "cell_type": "code",
   "execution_count": null,
   "metadata": {},
   "outputs": [],
   "source": []
  },
  {
   "cell_type": "markdown",
   "metadata": {},
   "source": [
    "### Housing tenure (rented full-time, owner-occupied, second home), disaggregated by race, ethnicity, and age"
   ]
  },
  {
   "cell_type": "code",
   "execution_count": null,
   "metadata": {},
   "outputs": [],
   "source": []
  },
  {
   "cell_type": "markdown",
   "metadata": {},
   "source": [
    "### Percent of workers who commute into the basin, origin demographics, distance travelled, difference in travel time by mode"
   ]
  },
  {
   "cell_type": "code",
   "execution_count": null,
   "metadata": {},
   "outputs": [],
   "source": []
  },
  {
   "cell_type": "markdown",
   "metadata": {},
   "source": [
    "### Transient Occupancy Tax revenue and changes over time"
   ]
  },
  {
   "cell_type": "code",
   "execution_count": null,
   "metadata": {},
   "outputs": [],
   "source": [
    "# TBD still waiting on Josh to get this data created."
   ]
  },
  {
   "cell_type": "markdown",
   "metadata": {},
   "source": [
    "### Consistent employment and median wages by sector and overall "
   ]
  },
  {
   "cell_type": "code",
   "execution_count": null,
   "metadata": {},
   "outputs": [],
   "source": []
  },
  {
   "cell_type": "markdown",
   "metadata": {},
   "source": [
    "### Access to recreation sites, fresh food, and healthcare for zero-vehicle households"
   ]
  },
  {
   "cell_type": "code",
   "execution_count": null,
   "metadata": {},
   "outputs": [],
   "source": []
  },
  {
   "cell_type": "markdown",
   "metadata": {},
   "source": [
    "### Firewise communities in the Tahoe basin, coolling centers/heating centers, resources, and emergency infrastructure (medical centers with supplies, fire response)"
   ]
  },
  {
   "cell_type": "code",
   "execution_count": null,
   "metadata": {},
   "outputs": [],
   "source": []
  },
  {
   "cell_type": "markdown",
   "metadata": {},
   "source": [
    "### Population disaggregated by race and ethnicity, age groups"
   ]
  },
  {
   "cell_type": "code",
   "execution_count": null,
   "metadata": {},
   "outputs": [],
   "source": []
  },
  {
   "cell_type": "markdown",
   "metadata": {},
   "source": [
    "### Number/share of households with access and functional needs (These can be referred to as vulnerable populations including populations such as persons with disabilities, older adults, children, limited English proficiency, and transportation disadvantages)"
   ]
  },
  {
   "cell_type": "code",
   "execution_count": null,
   "metadata": {},
   "outputs": [],
   "source": []
  },
  {
   "cell_type": "code",
   "execution_count": null,
   "metadata": {},
   "outputs": [],
   "source": []
  },
  {
   "cell_type": "code",
   "execution_count": 1,
   "metadata": {},
   "outputs": [],
   "source": [
    "import dash\n",
    "from dash import dcc, html\n",
    "from dash.dependencies import Input, Output\n",
    "import plotly.express as px\n",
    "import pandas as pd\n",
    "import requests\n",
    "from datetime import datetime\n",
    "\n",
    "\n",
    "app = dash.Dash(__name__)\n",
    "\n",
    "app.layout = html.Div([\n",
    "    dcc.Graph(id='lake-level-chart'),\n",
    "    dcc.Interval(\n",
    "        id='interval-component',\n",
    "        interval=10 * 1000,  # in milliseconds\n",
    "        n_intervals=0\n",
    "    ),\n",
    "])\n",
    "\n",
    "def get_usgs_data():\n",
    "    # USGS site number for Lake Tahoe\n",
    "    site_number = 10337000\n",
    "    \n",
    "    # USGS API URL for Lake Tahoe site\n",
    "    url = f'https://waterservices.usgs.gov/nwis/iv/?format=json&sites={site_number}&parameterCd=00065'\n",
    "\n",
    "    # Make a request to the USGS API\n",
    "    response = requests.get(url)\n",
    "    data = response.json()\n",
    "\n",
    "    # Extract relevant data\n",
    "    time_series_data = data['value']['timeSeries'][0]['values'][0]['value']\n",
    "\n",
    "    # Create a DataFrame\n",
    "    df = pd.DataFrame(time_series_data)\n",
    "\n",
    "    # Convert data types\n",
    "    df['value'] = pd.to_numeric(df['value'])\n",
    "    df['dateTime'] = pd.to_datetime(df['dateTime'])\n",
    "    df['value'] = df['value'] + 6220\n",
    "    return df\n",
    "\n",
    "@app.callback(\n",
    "    Output('lake-level-chart', 'figure'),\n",
    "    [Input('interval-component', 'n_intervals')]\n",
    ")\n",
    "def update_chart(n):\n",
    "    df = get_usgs_data()\n",
    "\n",
    "    # Create a line chart using Plotly Express\n",
    "    fig = px.line(df, x='dateTime', y='value', title='Lake Tahoe Water Level')\n",
    "    fig.update_xaxes(title_text='Time')\n",
    "    fig.update_yaxes(title_text='Water Level (ft)')\n",
    "\n",
    "    return fig\n",
    "\n",
    "if __name__ == '__main__':\n",
    "    app.run_server(debug=True)\n"
   ]
  },
  {
   "cell_type": "code",
   "execution_count": 1,
   "metadata": {},
   "outputs": [],
   "source": [
    "# setup\n",
    "import pandas as pd\n",
    "from arcgis import GIS\n",
    "from arcgis.features import FeatureLayer"
   ]
  },
  {
   "cell_type": "code",
   "execution_count": 2,
   "metadata": {},
   "outputs": [],
   "source": [
    "# setup connection to GIS Portal, this can be and empty GIS() function with a public service\n",
    "gis = GIS()"
   ]
  },
  {
   "cell_type": "code",
   "execution_count": 3,
   "metadata": {},
   "outputs": [],
   "source": [
    "# get feature service as a Spatially Enabled Dataframe\n",
    "service_url = \"https://maps.trpa.org/server/rest/services/LTinfo_Climate_Resilience_Dashboard/MapServer/128\"\n",
    "feature_layer = FeatureLayer(service_url)\n",
    "query_result = feature_layer.query()\n",
    "# Convert the query result to a Spatially Enabled Dataframe, this brings the SHAPE with it and can be saved back as a spatial file\n",
    "sdfParcels = query_result.sdf"
   ]
  },
  {
   "cell_type": "code",
   "execution_count": 4,
   "metadata": {},
   "outputs": [
    {
     "data": {
      "text/html": [
       "<div>\n",
       "<style scoped>\n",
       "    .dataframe tbody tr th:only-of-type {\n",
       "        vertical-align: middle;\n",
       "    }\n",
       "\n",
       "    .dataframe tbody tr th {\n",
       "        vertical-align: top;\n",
       "    }\n",
       "\n",
       "    .dataframe thead th {\n",
       "        text-align: right;\n",
       "    }\n",
       "</style>\n",
       "<table border=\"1\" class=\"dataframe\">\n",
       "  <thead>\n",
       "    <tr style=\"text-align: right;\">\n",
       "      <th></th>\n",
       "      <th>OBJECTID</th>\n",
       "      <th>variable_code</th>\n",
       "      <th>variable_name</th>\n",
       "      <th>value</th>\n",
       "      <th>Geography</th>\n",
       "      <th>year_sample</th>\n",
       "      <th>dataset</th>\n",
       "      <th>sample_level</th>\n",
       "      <th>Category</th>\n",
       "    </tr>\n",
       "  </thead>\n",
       "  <tbody>\n",
       "    <tr>\n",
       "      <th>0</th>\n",
       "      <td>1</td>\n",
       "      <td>B03002_012E</td>\n",
       "      <td>Total population:  Hispanic or Latino</td>\n",
       "      <td>11423</td>\n",
       "      <td>Basin</td>\n",
       "      <td>2020</td>\n",
       "      <td>acs/acs5</td>\n",
       "      <td>block group</td>\n",
       "      <td>Race and Ethnicity</td>\n",
       "    </tr>\n",
       "    <tr>\n",
       "      <th>1</th>\n",
       "      <td>2</td>\n",
       "      <td>B03002_012E</td>\n",
       "      <td>Total population:  Hispanic or Latino</td>\n",
       "      <td>12151</td>\n",
       "      <td>Basin</td>\n",
       "      <td>2021</td>\n",
       "      <td>acs/acs5</td>\n",
       "      <td>block group</td>\n",
       "      <td>Race and Ethnicity</td>\n",
       "    </tr>\n",
       "    <tr>\n",
       "      <th>2</th>\n",
       "      <td>3</td>\n",
       "      <td>DP1_0093C</td>\n",
       "      <td>Total population:  Hispanic or Latino</td>\n",
       "      <td>12027</td>\n",
       "      <td>Basin</td>\n",
       "      <td>2020</td>\n",
       "      <td>dec/dp</td>\n",
       "      <td>tract</td>\n",
       "      <td>Race and Ethnicity</td>\n",
       "    </tr>\n",
       "    <tr>\n",
       "      <th>3</th>\n",
       "      <td>4</td>\n",
       "      <td>P004003</td>\n",
       "      <td>Total population:  Hispanic or Latino</td>\n",
       "      <td>12203</td>\n",
       "      <td>Basin</td>\n",
       "      <td>2010</td>\n",
       "      <td>dec/sf1</td>\n",
       "      <td>tract</td>\n",
       "      <td>Race and Ethnicity</td>\n",
       "    </tr>\n",
       "    <tr>\n",
       "      <th>4</th>\n",
       "      <td>5</td>\n",
       "      <td>P008010</td>\n",
       "      <td>Total population:  Hispanic or Latino</td>\n",
       "      <td>11035</td>\n",
       "      <td>Basin</td>\n",
       "      <td>2000</td>\n",
       "      <td>dec/sf1</td>\n",
       "      <td>tract</td>\n",
       "      <td>Race and Ethnicity</td>\n",
       "    </tr>\n",
       "    <tr>\n",
       "      <th>...</th>\n",
       "      <td>...</td>\n",
       "      <td>...</td>\n",
       "      <td>...</td>\n",
       "      <td>...</td>\n",
       "      <td>...</td>\n",
       "      <td>...</td>\n",
       "      <td>...</td>\n",
       "      <td>...</td>\n",
       "      <td>...</td>\n",
       "    </tr>\n",
       "    <tr>\n",
       "      <th>454</th>\n",
       "      <td>455</td>\n",
       "      <td>B25003B_001E</td>\n",
       "      <td>Total: Black Or African American Alone Househo...</td>\n",
       "      <td>92</td>\n",
       "      <td>South Lake</td>\n",
       "      <td>2021</td>\n",
       "      <td>acs/acs5</td>\n",
       "      <td>tract</td>\n",
       "      <td>Tenure by Race</td>\n",
       "    </tr>\n",
       "    <tr>\n",
       "      <th>455</th>\n",
       "      <td>456</td>\n",
       "      <td>B25003E_001E</td>\n",
       "      <td>Total: Native Hawaiian And Other Pacific Islan...</td>\n",
       "      <td>8</td>\n",
       "      <td>South Lake</td>\n",
       "      <td>2021</td>\n",
       "      <td>acs/acs5</td>\n",
       "      <td>tract</td>\n",
       "      <td>Tenure by Race</td>\n",
       "    </tr>\n",
       "    <tr>\n",
       "      <th>456</th>\n",
       "      <td>457</td>\n",
       "      <td>B25003F_001E</td>\n",
       "      <td>Total: Some Other Race Alone Householder</td>\n",
       "      <td>680</td>\n",
       "      <td>South Lake</td>\n",
       "      <td>2021</td>\n",
       "      <td>acs/acs5</td>\n",
       "      <td>tract</td>\n",
       "      <td>Tenure by Race</td>\n",
       "    </tr>\n",
       "    <tr>\n",
       "      <th>457</th>\n",
       "      <td>458</td>\n",
       "      <td>B25003G_001E</td>\n",
       "      <td>Total: Two Or More Races Householder</td>\n",
       "      <td>1006</td>\n",
       "      <td>South Lake</td>\n",
       "      <td>2021</td>\n",
       "      <td>acs/acs5</td>\n",
       "      <td>tract</td>\n",
       "      <td>Tenure by Race</td>\n",
       "    </tr>\n",
       "    <tr>\n",
       "      <th>458</th>\n",
       "      <td>459</td>\n",
       "      <td>B25003A_001E</td>\n",
       "      <td>Total: White Alone Householder</td>\n",
       "      <td>13102</td>\n",
       "      <td>South Lake</td>\n",
       "      <td>2021</td>\n",
       "      <td>acs/acs5</td>\n",
       "      <td>tract</td>\n",
       "      <td>Tenure by Race</td>\n",
       "    </tr>\n",
       "  </tbody>\n",
       "</table>\n",
       "<p>459 rows × 9 columns</p>\n",
       "</div>"
      ],
      "text/plain": [
       "     OBJECTID variable_code  \\\n",
       "0           1   B03002_012E   \n",
       "1           2   B03002_012E   \n",
       "2           3     DP1_0093C   \n",
       "3           4       P004003   \n",
       "4           5       P008010   \n",
       "..        ...           ...   \n",
       "454       455  B25003B_001E   \n",
       "455       456  B25003E_001E   \n",
       "456       457  B25003F_001E   \n",
       "457       458  B25003G_001E   \n",
       "458       459  B25003A_001E   \n",
       "\n",
       "                                         variable_name  value   Geography  \\\n",
       "0                Total population:  Hispanic or Latino  11423       Basin   \n",
       "1                Total population:  Hispanic or Latino  12151       Basin   \n",
       "2                Total population:  Hispanic or Latino  12027       Basin   \n",
       "3                Total population:  Hispanic or Latino  12203       Basin   \n",
       "4                Total population:  Hispanic or Latino  11035       Basin   \n",
       "..                                                 ...    ...         ...   \n",
       "454  Total: Black Or African American Alone Househo...     92  South Lake   \n",
       "455  Total: Native Hawaiian And Other Pacific Islan...      8  South Lake   \n",
       "456           Total: Some Other Race Alone Householder    680  South Lake   \n",
       "457               Total: Two Or More Races Householder   1006  South Lake   \n",
       "458                     Total: White Alone Householder  13102  South Lake   \n",
       "\n",
       "     year_sample   dataset sample_level            Category  \n",
       "0           2020  acs/acs5  block group  Race and Ethnicity  \n",
       "1           2021  acs/acs5  block group  Race and Ethnicity  \n",
       "2           2020    dec/dp        tract  Race and Ethnicity  \n",
       "3           2010   dec/sf1        tract  Race and Ethnicity  \n",
       "4           2000   dec/sf1        tract  Race and Ethnicity  \n",
       "..           ...       ...          ...                 ...  \n",
       "454         2021  acs/acs5        tract      Tenure by Race  \n",
       "455         2021  acs/acs5        tract      Tenure by Race  \n",
       "456         2021  acs/acs5        tract      Tenure by Race  \n",
       "457         2021  acs/acs5        tract      Tenure by Race  \n",
       "458         2021  acs/acs5        tract      Tenure by Race  \n",
       "\n",
       "[459 rows x 9 columns]"
      ]
     },
     "execution_count": 4,
     "metadata": {},
     "output_type": "execute_result"
    }
   ],
   "source": [
    "sdfParcels"
   ]
  },
  {
   "cell_type": "code",
   "execution_count": 46,
   "metadata": {},
   "outputs": [],
   "source": [
    "# here's an example of a function to get web service data as a regular Pandas dataframe\n",
    "def get_fs_data(service_url):\n",
    "    feature_layer = FeatureLayer(service_url)\n",
    "    query_result = feature_layer.query()\n",
    "    # Convert the query result to a list of dictionaries\n",
    "    feature_list = query_result.features\n",
    "    # Create a pandas DataFrame from the list of dictionaries\n",
    "    all_data = pd.DataFrame([feature.attributes for feature in feature_list])\n",
    "    # return data frame\n",
    "    return all_data"
   ]
  },
  {
   "cell_type": "code",
   "execution_count": 47,
   "metadata": {},
   "outputs": [
    {
     "data": {
      "text/html": [
       "<div>\n",
       "<style scoped>\n",
       "    .dataframe tbody tr th:only-of-type {\n",
       "        vertical-align: middle;\n",
       "    }\n",
       "\n",
       "    .dataframe tbody tr th {\n",
       "        vertical-align: top;\n",
       "    }\n",
       "\n",
       "    .dataframe thead th {\n",
       "        text-align: right;\n",
       "    }\n",
       "</style>\n",
       "<table border=\"1\" class=\"dataframe\">\n",
       "  <thead>\n",
       "    <tr style=\"text-align: right;\">\n",
       "      <th></th>\n",
       "      <th>OBJECTID</th>\n",
       "      <th>STOP_ID</th>\n",
       "      <th>STOP_NAME</th>\n",
       "      <th>LATITUDE</th>\n",
       "      <th>LONGITUDE</th>\n",
       "      <th>NETWORK</th>\n",
       "      <th>GlobalID</th>\n",
       "      <th>created_user</th>\n",
       "      <th>created_date</th>\n",
       "      <th>last_edited_user</th>\n",
       "      <th>last_edited_date</th>\n",
       "    </tr>\n",
       "  </thead>\n",
       "  <tbody>\n",
       "    <tr>\n",
       "      <th>0</th>\n",
       "      <td>1</td>\n",
       "      <td>12428</td>\n",
       "      <td>7-11/Regional Park</td>\n",
       "      <td>39.326248</td>\n",
       "      <td>-120.177104</td>\n",
       "      <td>TART</td>\n",
       "      <td>{B8A5B0A9-9283-4BEA-80F2-CB411AB9DF75}</td>\n",
       "      <td>None</td>\n",
       "      <td>None</td>\n",
       "      <td>None</td>\n",
       "      <td>None</td>\n",
       "    </tr>\n",
       "    <tr>\n",
       "      <th>1</th>\n",
       "      <td>2</td>\n",
       "      <td>12430</td>\n",
       "      <td>Donner Pass Rd at Donner Memorial State Park</td>\n",
       "      <td>39.32481989</td>\n",
       "      <td>-120.2327303</td>\n",
       "      <td>TART</td>\n",
       "      <td>{12CCE163-5541-4990-99E5-ABCBF6F26FBF}</td>\n",
       "      <td>None</td>\n",
       "      <td>None</td>\n",
       "      <td>None</td>\n",
       "      <td>None</td>\n",
       "    </tr>\n",
       "    <tr>\n",
       "      <th>2</th>\n",
       "      <td>3</td>\n",
       "      <td>13593</td>\n",
       "      <td>Ritz Carlton, Highlands Court</td>\n",
       "      <td>39.267333</td>\n",
       "      <td>-120.12784</td>\n",
       "      <td>TART</td>\n",
       "      <td>{EF7721AE-8953-4C77-9F50-2F2FF2CC3673}</td>\n",
       "      <td>None</td>\n",
       "      <td>None</td>\n",
       "      <td>None</td>\n",
       "      <td>None</td>\n",
       "    </tr>\n",
       "    <tr>\n",
       "      <th>3</th>\n",
       "      <td>4</td>\n",
       "      <td>2120</td>\n",
       "      <td>Country Club Dr at Incline Way</td>\n",
       "      <td>39.24092945</td>\n",
       "      <td>-119.94032</td>\n",
       "      <td>TART</td>\n",
       "      <td>{FAE6196B-FF73-415F-9DE6-EBBF343B5B65}</td>\n",
       "      <td>None</td>\n",
       "      <td>None</td>\n",
       "      <td>None</td>\n",
       "      <td>None</td>\n",
       "    </tr>\n",
       "    <tr>\n",
       "      <th>4</th>\n",
       "      <td>5</td>\n",
       "      <td>2121</td>\n",
       "      <td>Country Club Dr at Mill Creek</td>\n",
       "      <td>39.24247914</td>\n",
       "      <td>-119.938123</td>\n",
       "      <td>TART</td>\n",
       "      <td>{EDE4C128-052A-4FEB-A0DD-AB72A23CE51B}</td>\n",
       "      <td>None</td>\n",
       "      <td>None</td>\n",
       "      <td>None</td>\n",
       "      <td>None</td>\n",
       "    </tr>\n",
       "    <tr>\n",
       "      <th>...</th>\n",
       "      <td>...</td>\n",
       "      <td>...</td>\n",
       "      <td>...</td>\n",
       "      <td>...</td>\n",
       "      <td>...</td>\n",
       "      <td>...</td>\n",
       "      <td>...</td>\n",
       "      <td>...</td>\n",
       "      <td>...</td>\n",
       "      <td>...</td>\n",
       "      <td>...</td>\n",
       "    </tr>\n",
       "    <tr>\n",
       "      <th>351</th>\n",
       "      <td>355</td>\n",
       "      <td>9854</td>\n",
       "      <td>Donner Pass Rd at Highway Rd</td>\n",
       "      <td>39.32557709</td>\n",
       "      <td>-120.2222231</td>\n",
       "      <td>TART</td>\n",
       "      <td>{6CA00A77-BB16-4E55-BBD4-3B5CA713C564}</td>\n",
       "      <td>None</td>\n",
       "      <td>None</td>\n",
       "      <td>None</td>\n",
       "      <td>None</td>\n",
       "    </tr>\n",
       "    <tr>\n",
       "      <th>352</th>\n",
       "      <td>356</td>\n",
       "      <td>9855</td>\n",
       "      <td>Donner Pass Rd Cold Stream Rd</td>\n",
       "      <td>39.32291464</td>\n",
       "      <td>-120.2275942</td>\n",
       "      <td>TART</td>\n",
       "      <td>{FAE71BE9-B377-46FA-93E1-F356D3660855}</td>\n",
       "      <td>None</td>\n",
       "      <td>None</td>\n",
       "      <td>None</td>\n",
       "      <td>None</td>\n",
       "    </tr>\n",
       "    <tr>\n",
       "      <th>353</th>\n",
       "      <td>357</td>\n",
       "      <td>9856</td>\n",
       "      <td>Donner Pass Rd at Moraine Rd (Sticks Market)</td>\n",
       "      <td>39.32895356</td>\n",
       "      <td>-120.2512487</td>\n",
       "      <td>TART</td>\n",
       "      <td>{0207253D-9B1E-4483-A585-3BB9DCE72D83}</td>\n",
       "      <td>None</td>\n",
       "      <td>None</td>\n",
       "      <td>None</td>\n",
       "      <td>None</td>\n",
       "    </tr>\n",
       "    <tr>\n",
       "      <th>354</th>\n",
       "      <td>358</td>\n",
       "      <td>9858</td>\n",
       "      <td>Donner Pass Rd at Donner Lake Village Resort</td>\n",
       "      <td>39.32480287</td>\n",
       "      <td>-120.2866209</td>\n",
       "      <td>TART</td>\n",
       "      <td>{5751D5A2-8797-437E-AC1F-19075857FFEB}</td>\n",
       "      <td>None</td>\n",
       "      <td>None</td>\n",
       "      <td>None</td>\n",
       "      <td>None</td>\n",
       "    </tr>\n",
       "    <tr>\n",
       "      <th>355</th>\n",
       "      <td>359</td>\n",
       "      <td>9869</td>\n",
       "      <td>Hampton Inn</td>\n",
       "      <td>39.317133</td>\n",
       "      <td>-120.152433</td>\n",
       "      <td>TART</td>\n",
       "      <td>{77418408-37CE-44E6-85A0-CDA79E3618ED}</td>\n",
       "      <td>None</td>\n",
       "      <td>None</td>\n",
       "      <td>None</td>\n",
       "      <td>None</td>\n",
       "    </tr>\n",
       "  </tbody>\n",
       "</table>\n",
       "<p>356 rows × 11 columns</p>\n",
       "</div>"
      ],
      "text/plain": [
       "     OBJECTID STOP_ID                                     STOP_NAME  \\\n",
       "0           1   12428                            7-11/Regional Park   \n",
       "1           2   12430  Donner Pass Rd at Donner Memorial State Park   \n",
       "2           3   13593                 Ritz Carlton, Highlands Court   \n",
       "3           4    2120                Country Club Dr at Incline Way   \n",
       "4           5    2121                 Country Club Dr at Mill Creek   \n",
       "..        ...     ...                                           ...   \n",
       "351       355    9854                  Donner Pass Rd at Highway Rd   \n",
       "352       356    9855                 Donner Pass Rd Cold Stream Rd   \n",
       "353       357    9856  Donner Pass Rd at Moraine Rd (Sticks Market)   \n",
       "354       358    9858  Donner Pass Rd at Donner Lake Village Resort   \n",
       "355       359    9869                                   Hampton Inn   \n",
       "\n",
       "        LATITUDE     LONGITUDE NETWORK  \\\n",
       "0      39.326248   -120.177104    TART   \n",
       "1    39.32481989  -120.2327303    TART   \n",
       "2      39.267333    -120.12784    TART   \n",
       "3    39.24092945    -119.94032    TART   \n",
       "4    39.24247914   -119.938123    TART   \n",
       "..           ...           ...     ...   \n",
       "351  39.32557709  -120.2222231    TART   \n",
       "352  39.32291464  -120.2275942    TART   \n",
       "353  39.32895356  -120.2512487    TART   \n",
       "354  39.32480287  -120.2866209    TART   \n",
       "355    39.317133   -120.152433    TART   \n",
       "\n",
       "                                   GlobalID created_user created_date  \\\n",
       "0    {B8A5B0A9-9283-4BEA-80F2-CB411AB9DF75}         None         None   \n",
       "1    {12CCE163-5541-4990-99E5-ABCBF6F26FBF}         None         None   \n",
       "2    {EF7721AE-8953-4C77-9F50-2F2FF2CC3673}         None         None   \n",
       "3    {FAE6196B-FF73-415F-9DE6-EBBF343B5B65}         None         None   \n",
       "4    {EDE4C128-052A-4FEB-A0DD-AB72A23CE51B}         None         None   \n",
       "..                                      ...          ...          ...   \n",
       "351  {6CA00A77-BB16-4E55-BBD4-3B5CA713C564}         None         None   \n",
       "352  {FAE71BE9-B377-46FA-93E1-F356D3660855}         None         None   \n",
       "353  {0207253D-9B1E-4483-A585-3BB9DCE72D83}         None         None   \n",
       "354  {5751D5A2-8797-437E-AC1F-19075857FFEB}         None         None   \n",
       "355  {77418408-37CE-44E6-85A0-CDA79E3618ED}         None         None   \n",
       "\n",
       "    last_edited_user last_edited_date  \n",
       "0               None             None  \n",
       "1               None             None  \n",
       "2               None             None  \n",
       "3               None             None  \n",
       "4               None             None  \n",
       "..               ...              ...  \n",
       "351             None             None  \n",
       "352             None             None  \n",
       "353             None             None  \n",
       "354             None             None  \n",
       "355             None             None  \n",
       "\n",
       "[356 rows x 11 columns]"
      ]
     },
     "execution_count": 47,
     "metadata": {},
     "output_type": "execute_result"
    }
   ],
   "source": [
    "feature_layer = FeatureLayer(service_url)\n",
    "query_result = feature_layer.query()\n",
    "feature_list = query_result.features\n",
    "all_data = pd.DataFrame([feature.attributes for feature in feature_list])\n",
    "all_data"
   ]
  },
  {
   "cell_type": "code",
   "execution_count": 5,
   "metadata": {},
   "outputs": [
    {
     "name": "stdout",
     "output_type": "stream",
     "text": [
      "<class 'pandas.core.frame.DataFrame'>\n",
      "RangeIndex: 85 entries, 0 to 84\n",
      "Data columns (total 15 columns):\n",
      " #   Column                 Non-Null Count  Dtype  \n",
      "---  ------                 --------------  -----  \n",
      " 0   IndicatorID            85 non-null     int64  \n",
      " 1   IndicatorName          85 non-null     object \n",
      " 2   IndicatorUnits         85 non-null     object \n",
      " 3   ProjectID              85 non-null     int64  \n",
      " 4   EIPProjectNumber       85 non-null     object \n",
      " 5   IndicatorProjectYear   85 non-null     int64  \n",
      " 6   IndicatorProjectValue  85 non-null     float64\n",
      " 7   PMSubcategoryName1     85 non-null     object \n",
      " 8   PMSubcategoryOption1   85 non-null     object \n",
      " 9   PMSubcategoryName2     0 non-null      float64\n",
      " 10  PMSubcategoryOption2   0 non-null      float64\n",
      " 11  PMSubcategoryName3     0 non-null      float64\n",
      " 12  PMSubcategoryOption3   0 non-null      float64\n",
      " 13  PMSubcategoryName4     0 non-null      float64\n",
      " 14  PMSubcategoryOption4   0 non-null      float64\n",
      "dtypes: float64(7), int64(3), object(5)\n",
      "memory usage: 10.1+ KB\n"
     ]
    }
   ],
   "source": [
    "df.info()"
   ]
  },
  {
   "cell_type": "code",
   "execution_count": 17,
   "metadata": {},
   "outputs": [
    {
     "data": {
      "text/plain": [
       "array([nan])"
      ]
     },
     "execution_count": 17,
     "metadata": {},
     "output_type": "execute_result"
    },
    {
     "ename": "",
     "evalue": "",
     "output_type": "error",
     "traceback": [
      "\u001b[1;31mThe Kernel crashed while executing code in the the current cell or a previous cell. Please review the code in the cell(s) to identify a possible cause of the failure. Click <a href='https://aka.ms/vscodeJupyterKernelCrash'>here</a> for more info. View Jupyter <a href='command:jupyter.viewOutput'>log</a> for further details."
     ]
    }
   ],
   "source": [
    "df.PMSubcategoryName3.unique()"
   ]
  },
  {
   "cell_type": "code",
   "execution_count": null,
   "metadata": {},
   "outputs": [],
   "source": []
  },
  {
   "cell_type": "code",
   "execution_count": null,
   "metadata": {},
   "outputs": [],
   "source": []
  },
  {
   "cell_type": "code",
   "execution_count": 12,
   "metadata": {},
   "outputs": [
    {
     "ename": "ValueError",
     "evalue": "Value of 'x' is not the name of a column in 'data_frame'. Expected one of ['index', 'IndicatorProjectValue'] but received: IndicatorProjectYear",
     "output_type": "error",
     "traceback": [
      "\u001b[1;31m---------------------------------------------------------------------------\u001b[0m",
      "\u001b[1;31mValueError\u001b[0m                                Traceback (most recent call last)",
      "\u001b[1;32m~\\AppData\\Local\\Temp\\ipykernel_17576\\1145962001.py\u001b[0m in \u001b[0;36m<cell line: 12>\u001b[1;34m()\u001b[0m\n\u001b[0;32m     10\u001b[0m \u001b[1;33m\u001b[0m\u001b[0m\n\u001b[0;32m     11\u001b[0m \u001b[1;31m# Plot using Plotly Express\u001b[0m\u001b[1;33m\u001b[0m\u001b[1;33m\u001b[0m\u001b[0m\n\u001b[1;32m---> 12\u001b[1;33m \u001b[0mfig\u001b[0m \u001b[1;33m=\u001b[0m \u001b[0mpx\u001b[0m\u001b[1;33m.\u001b[0m\u001b[0mbar\u001b[0m\u001b[1;33m(\u001b[0m\u001b[0msum_df\u001b[0m\u001b[1;33m,\u001b[0m \u001b[0mx\u001b[0m\u001b[1;33m=\u001b[0m\u001b[1;34m'IndicatorProjectYear'\u001b[0m\u001b[1;33m,\u001b[0m \u001b[0my\u001b[0m\u001b[1;33m=\u001b[0m\u001b[1;34m'IndicatorProjectValue'\u001b[0m\u001b[1;33m,\u001b[0m \u001b[0mtitle\u001b[0m\u001b[1;33m=\u001b[0m\u001b[1;34m'Sum of Values by Category'\u001b[0m\u001b[1;33m)\u001b[0m\u001b[1;33m\u001b[0m\u001b[1;33m\u001b[0m\u001b[0m\n\u001b[0m\u001b[0;32m     13\u001b[0m \u001b[0mfig\u001b[0m\u001b[1;33m.\u001b[0m\u001b[0mshow\u001b[0m\u001b[1;33m(\u001b[0m\u001b[1;33m)\u001b[0m\u001b[1;33m\u001b[0m\u001b[1;33m\u001b[0m\u001b[0m\n\u001b[0;32m     14\u001b[0m \u001b[1;31m# fig = px.bar(df, x = \"IndicatorProjectValue\", y = \"IndicatorProjectYear\")\u001b[0m\u001b[1;33m\u001b[0m\u001b[1;33m\u001b[0m\u001b[0m\n",
      "\u001b[1;32m~\\AppData\\Roaming\\Python\\Python39\\site-packages\\plotly\\express\\_chart_types.py\u001b[0m in \u001b[0;36mbar\u001b[1;34m(data_frame, x, y, color, pattern_shape, facet_row, facet_col, facet_col_wrap, facet_row_spacing, facet_col_spacing, hover_name, hover_data, custom_data, text, base, error_x, error_x_minus, error_y, error_y_minus, animation_frame, animation_group, category_orders, labels, color_discrete_sequence, color_discrete_map, color_continuous_scale, pattern_shape_sequence, pattern_shape_map, range_color, color_continuous_midpoint, opacity, orientation, barmode, log_x, log_y, range_x, range_y, text_auto, title, template, width, height)\u001b[0m\n\u001b[0;32m    371\u001b[0m     \u001b[0mmark\u001b[0m\u001b[1;33m.\u001b[0m\u001b[1;33m\u001b[0m\u001b[1;33m\u001b[0m\u001b[0m\n\u001b[0;32m    372\u001b[0m     \"\"\"\n\u001b[1;32m--> 373\u001b[1;33m     return make_figure(\n\u001b[0m\u001b[0;32m    374\u001b[0m         \u001b[0margs\u001b[0m\u001b[1;33m=\u001b[0m\u001b[0mlocals\u001b[0m\u001b[1;33m(\u001b[0m\u001b[1;33m)\u001b[0m\u001b[1;33m,\u001b[0m\u001b[1;33m\u001b[0m\u001b[1;33m\u001b[0m\u001b[0m\n\u001b[0;32m    375\u001b[0m         \u001b[0mconstructor\u001b[0m\u001b[1;33m=\u001b[0m\u001b[0mgo\u001b[0m\u001b[1;33m.\u001b[0m\u001b[0mBar\u001b[0m\u001b[1;33m,\u001b[0m\u001b[1;33m\u001b[0m\u001b[1;33m\u001b[0m\u001b[0m\n",
      "\u001b[1;32m~\\AppData\\Roaming\\Python\\Python39\\site-packages\\plotly\\express\\_core.py\u001b[0m in \u001b[0;36mmake_figure\u001b[1;34m(args, constructor, trace_patch, layout_patch)\u001b[0m\n\u001b[0;32m   2074\u001b[0m     \u001b[0mapply_default_cascade\u001b[0m\u001b[1;33m(\u001b[0m\u001b[0margs\u001b[0m\u001b[1;33m)\u001b[0m\u001b[1;33m\u001b[0m\u001b[1;33m\u001b[0m\u001b[0m\n\u001b[0;32m   2075\u001b[0m \u001b[1;33m\u001b[0m\u001b[0m\n\u001b[1;32m-> 2076\u001b[1;33m     \u001b[0margs\u001b[0m \u001b[1;33m=\u001b[0m \u001b[0mbuild_dataframe\u001b[0m\u001b[1;33m(\u001b[0m\u001b[0margs\u001b[0m\u001b[1;33m,\u001b[0m \u001b[0mconstructor\u001b[0m\u001b[1;33m)\u001b[0m\u001b[1;33m\u001b[0m\u001b[1;33m\u001b[0m\u001b[0m\n\u001b[0m\u001b[0;32m   2077\u001b[0m     \u001b[1;32mif\u001b[0m \u001b[0mconstructor\u001b[0m \u001b[1;32min\u001b[0m \u001b[1;33m[\u001b[0m\u001b[0mgo\u001b[0m\u001b[1;33m.\u001b[0m\u001b[0mTreemap\u001b[0m\u001b[1;33m,\u001b[0m \u001b[0mgo\u001b[0m\u001b[1;33m.\u001b[0m\u001b[0mSunburst\u001b[0m\u001b[1;33m,\u001b[0m \u001b[0mgo\u001b[0m\u001b[1;33m.\u001b[0m\u001b[0mIcicle\u001b[0m\u001b[1;33m]\u001b[0m \u001b[1;32mand\u001b[0m \u001b[0margs\u001b[0m\u001b[1;33m[\u001b[0m\u001b[1;34m\"path\"\u001b[0m\u001b[1;33m]\u001b[0m \u001b[1;32mis\u001b[0m \u001b[1;32mnot\u001b[0m \u001b[1;32mNone\u001b[0m\u001b[1;33m:\u001b[0m\u001b[1;33m\u001b[0m\u001b[1;33m\u001b[0m\u001b[0m\n\u001b[0;32m   2078\u001b[0m         \u001b[0margs\u001b[0m \u001b[1;33m=\u001b[0m \u001b[0mprocess_dataframe_hierarchy\u001b[0m\u001b[1;33m(\u001b[0m\u001b[0margs\u001b[0m\u001b[1;33m)\u001b[0m\u001b[1;33m\u001b[0m\u001b[1;33m\u001b[0m\u001b[0m\n",
      "\u001b[1;32m~\\AppData\\Roaming\\Python\\Python39\\site-packages\\plotly\\express\\_core.py\u001b[0m in \u001b[0;36mbuild_dataframe\u001b[1;34m(args, constructor)\u001b[0m\n\u001b[0;32m   1483\u001b[0m     \u001b[1;31m# now that things have been prepped, we do the systematic rewriting of `args`\u001b[0m\u001b[1;33m\u001b[0m\u001b[1;33m\u001b[0m\u001b[0m\n\u001b[0;32m   1484\u001b[0m \u001b[1;33m\u001b[0m\u001b[0m\n\u001b[1;32m-> 1485\u001b[1;33m     df_output, wide_id_vars = process_args_into_dataframe(\n\u001b[0m\u001b[0;32m   1486\u001b[0m         \u001b[0margs\u001b[0m\u001b[1;33m,\u001b[0m \u001b[0mwide_mode\u001b[0m\u001b[1;33m,\u001b[0m \u001b[0mvar_name\u001b[0m\u001b[1;33m,\u001b[0m \u001b[0mvalue_name\u001b[0m\u001b[1;33m\u001b[0m\u001b[1;33m\u001b[0m\u001b[0m\n\u001b[0;32m   1487\u001b[0m     )\n",
      "\u001b[1;32m~\\AppData\\Roaming\\Python\\Python39\\site-packages\\plotly\\express\\_core.py\u001b[0m in \u001b[0;36mprocess_args_into_dataframe\u001b[1;34m(args, wide_mode, var_name, value_name)\u001b[0m\n\u001b[0;32m   1208\u001b[0m                         \u001b[1;32mif\u001b[0m \u001b[0margument\u001b[0m \u001b[1;33m==\u001b[0m \u001b[1;34m\"index\"\u001b[0m\u001b[1;33m:\u001b[0m\u001b[1;33m\u001b[0m\u001b[1;33m\u001b[0m\u001b[0m\n\u001b[0;32m   1209\u001b[0m                             \u001b[0merr_msg\u001b[0m \u001b[1;33m+=\u001b[0m \u001b[1;34m\"\\n To use the index, pass it in directly as `df.index`.\"\u001b[0m\u001b[1;33m\u001b[0m\u001b[1;33m\u001b[0m\u001b[0m\n\u001b[1;32m-> 1210\u001b[1;33m                         \u001b[1;32mraise\u001b[0m \u001b[0mValueError\u001b[0m\u001b[1;33m(\u001b[0m\u001b[0merr_msg\u001b[0m\u001b[1;33m)\u001b[0m\u001b[1;33m\u001b[0m\u001b[1;33m\u001b[0m\u001b[0m\n\u001b[0m\u001b[0;32m   1211\u001b[0m                 \u001b[1;32melif\u001b[0m \u001b[0mlength\u001b[0m \u001b[1;32mand\u001b[0m \u001b[0mlen\u001b[0m\u001b[1;33m(\u001b[0m\u001b[0mdf_input\u001b[0m\u001b[1;33m[\u001b[0m\u001b[0margument\u001b[0m\u001b[1;33m]\u001b[0m\u001b[1;33m)\u001b[0m \u001b[1;33m!=\u001b[0m \u001b[0mlength\u001b[0m\u001b[1;33m:\u001b[0m\u001b[1;33m\u001b[0m\u001b[1;33m\u001b[0m\u001b[0m\n\u001b[0;32m   1212\u001b[0m                     raise ValueError(\n",
      "\u001b[1;31mValueError\u001b[0m: Value of 'x' is not the name of a column in 'data_frame'. Expected one of ['index', 'IndicatorProjectValue'] but received: IndicatorProjectYear"
     ]
    }
   ],
   "source": [
    "# get EIP indicator as dataframe\n",
    "import pandas as pd\n",
    "import plotly.express as px\n",
    "\n",
    "eipSEZ = \"https://www.laketahoeinfo.org/WebServices/GetReportedEIPIndicatorProjectAccomplishments/JSON/e17aeb86-85e3-4260-83fd-a2b32501c476/9\"\n",
    "\n",
    "df = pd.read_json(eipSEZ)\n",
    "\n",
    "sum_df = df.groupby('IndicatorProjectYear')['IndicatorProjectValue'].cumsum().reset_index()\n",
    "\n",
    "# Plot using Plotly Express\n",
    "fig = px.bar(sum_df, x='IndicatorProjectYear', y='IndicatorProjectValue', title='Sum of Values by Category')\n",
    "fig.show()\n",
    "# fig = px.bar(df, x = \"IndicatorProjectValue\", y = \"IndicatorProjectYear\")\n",
    "# fig.show()\n"
   ]
  },
  {
   "cell_type": "code",
   "execution_count": 8,
   "metadata": {},
   "outputs": [
    {
     "data": {
      "text/html": [
       "<div>\n",
       "<style scoped>\n",
       "    .dataframe tbody tr th:only-of-type {\n",
       "        vertical-align: middle;\n",
       "    }\n",
       "\n",
       "    .dataframe tbody tr th {\n",
       "        vertical-align: top;\n",
       "    }\n",
       "\n",
       "    .dataframe thead th {\n",
       "        text-align: right;\n",
       "    }\n",
       "</style>\n",
       "<table border=\"1\" class=\"dataframe\">\n",
       "  <thead>\n",
       "    <tr style=\"text-align: right;\">\n",
       "      <th></th>\n",
       "      <th>IndicatorID</th>\n",
       "      <th>IndicatorName</th>\n",
       "      <th>IndicatorUnits</th>\n",
       "      <th>ProjectID</th>\n",
       "      <th>EIPProjectNumber</th>\n",
       "      <th>IndicatorProjectYear</th>\n",
       "      <th>IndicatorProjectValue</th>\n",
       "      <th>PMSubcategoryName1</th>\n",
       "      <th>PMSubcategoryOption1</th>\n",
       "      <th>PMSubcategoryName2</th>\n",
       "      <th>PMSubcategoryOption2</th>\n",
       "      <th>PMSubcategoryName3</th>\n",
       "      <th>PMSubcategoryOption3</th>\n",
       "      <th>PMSubcategoryName4</th>\n",
       "      <th>PMSubcategoryOption4</th>\n",
       "    </tr>\n",
       "  </thead>\n",
       "  <tbody>\n",
       "    <tr>\n",
       "      <th>0</th>\n",
       "      <td>9</td>\n",
       "      <td>Acres of SEZ Restored or Enhanced</td>\n",
       "      <td>acres</td>\n",
       "      <td>64</td>\n",
       "      <td>01.01.01.0030</td>\n",
       "      <td>2020</td>\n",
       "      <td>1.12</td>\n",
       "      <td>Action Performed</td>\n",
       "      <td>Restored</td>\n",
       "      <td>NaN</td>\n",
       "      <td>NaN</td>\n",
       "      <td>NaN</td>\n",
       "      <td>NaN</td>\n",
       "      <td>NaN</td>\n",
       "      <td>NaN</td>\n",
       "    </tr>\n",
       "    <tr>\n",
       "      <th>1</th>\n",
       "      <td>9</td>\n",
       "      <td>Acres of SEZ Restored or Enhanced</td>\n",
       "      <td>acres</td>\n",
       "      <td>154</td>\n",
       "      <td>01.01.01.0045</td>\n",
       "      <td>2015</td>\n",
       "      <td>0.50</td>\n",
       "      <td>Action Performed</td>\n",
       "      <td>Enhanced</td>\n",
       "      <td>NaN</td>\n",
       "      <td>NaN</td>\n",
       "      <td>NaN</td>\n",
       "      <td>NaN</td>\n",
       "      <td>NaN</td>\n",
       "      <td>NaN</td>\n",
       "    </tr>\n",
       "    <tr>\n",
       "      <th>2</th>\n",
       "      <td>9</td>\n",
       "      <td>Acres of SEZ Restored or Enhanced</td>\n",
       "      <td>acres</td>\n",
       "      <td>214</td>\n",
       "      <td>01.01.01.0056</td>\n",
       "      <td>2015</td>\n",
       "      <td>0.25</td>\n",
       "      <td>Action Performed</td>\n",
       "      <td>Enhanced</td>\n",
       "      <td>NaN</td>\n",
       "      <td>NaN</td>\n",
       "      <td>NaN</td>\n",
       "      <td>NaN</td>\n",
       "      <td>NaN</td>\n",
       "      <td>NaN</td>\n",
       "    </tr>\n",
       "    <tr>\n",
       "      <th>3</th>\n",
       "      <td>9</td>\n",
       "      <td>Acres of SEZ Restored or Enhanced</td>\n",
       "      <td>acres</td>\n",
       "      <td>214</td>\n",
       "      <td>01.01.01.0056</td>\n",
       "      <td>2016</td>\n",
       "      <td>2.00</td>\n",
       "      <td>Action Performed</td>\n",
       "      <td>Enhanced</td>\n",
       "      <td>NaN</td>\n",
       "      <td>NaN</td>\n",
       "      <td>NaN</td>\n",
       "      <td>NaN</td>\n",
       "      <td>NaN</td>\n",
       "      <td>NaN</td>\n",
       "    </tr>\n",
       "    <tr>\n",
       "      <th>4</th>\n",
       "      <td>9</td>\n",
       "      <td>Acres of SEZ Restored or Enhanced</td>\n",
       "      <td>acres</td>\n",
       "      <td>229</td>\n",
       "      <td>01.01.01.0067</td>\n",
       "      <td>2020</td>\n",
       "      <td>0.20</td>\n",
       "      <td>Action Performed</td>\n",
       "      <td>Restored</td>\n",
       "      <td>NaN</td>\n",
       "      <td>NaN</td>\n",
       "      <td>NaN</td>\n",
       "      <td>NaN</td>\n",
       "      <td>NaN</td>\n",
       "      <td>NaN</td>\n",
       "    </tr>\n",
       "    <tr>\n",
       "      <th>...</th>\n",
       "      <td>...</td>\n",
       "      <td>...</td>\n",
       "      <td>...</td>\n",
       "      <td>...</td>\n",
       "      <td>...</td>\n",
       "      <td>...</td>\n",
       "      <td>...</td>\n",
       "      <td>...</td>\n",
       "      <td>...</td>\n",
       "      <td>...</td>\n",
       "      <td>...</td>\n",
       "      <td>...</td>\n",
       "      <td>...</td>\n",
       "      <td>...</td>\n",
       "      <td>...</td>\n",
       "    </tr>\n",
       "    <tr>\n",
       "      <th>80</th>\n",
       "      <td>9</td>\n",
       "      <td>Acres of SEZ Restored or Enhanced</td>\n",
       "      <td>acres</td>\n",
       "      <td>1645</td>\n",
       "      <td>02.02.01.0015</td>\n",
       "      <td>2015</td>\n",
       "      <td>10.00</td>\n",
       "      <td>Action Performed</td>\n",
       "      <td>Enhanced</td>\n",
       "      <td>NaN</td>\n",
       "      <td>NaN</td>\n",
       "      <td>NaN</td>\n",
       "      <td>NaN</td>\n",
       "      <td>NaN</td>\n",
       "      <td>NaN</td>\n",
       "    </tr>\n",
       "    <tr>\n",
       "      <th>81</th>\n",
       "      <td>9</td>\n",
       "      <td>Acres of SEZ Restored or Enhanced</td>\n",
       "      <td>acres</td>\n",
       "      <td>1645</td>\n",
       "      <td>02.02.01.0015</td>\n",
       "      <td>2017</td>\n",
       "      <td>10.00</td>\n",
       "      <td>Action Performed</td>\n",
       "      <td>Enhanced</td>\n",
       "      <td>NaN</td>\n",
       "      <td>NaN</td>\n",
       "      <td>NaN</td>\n",
       "      <td>NaN</td>\n",
       "      <td>NaN</td>\n",
       "      <td>NaN</td>\n",
       "    </tr>\n",
       "    <tr>\n",
       "      <th>82</th>\n",
       "      <td>9</td>\n",
       "      <td>Acres of SEZ Restored or Enhanced</td>\n",
       "      <td>acres</td>\n",
       "      <td>1347</td>\n",
       "      <td>03.01.01.0005</td>\n",
       "      <td>2019</td>\n",
       "      <td>0.20</td>\n",
       "      <td>Action Performed</td>\n",
       "      <td>Enhanced</td>\n",
       "      <td>NaN</td>\n",
       "      <td>NaN</td>\n",
       "      <td>NaN</td>\n",
       "      <td>NaN</td>\n",
       "      <td>NaN</td>\n",
       "      <td>NaN</td>\n",
       "    </tr>\n",
       "    <tr>\n",
       "      <th>83</th>\n",
       "      <td>9</td>\n",
       "      <td>Acres of SEZ Restored or Enhanced</td>\n",
       "      <td>acres</td>\n",
       "      <td>1474</td>\n",
       "      <td>03.01.02.0048</td>\n",
       "      <td>2014</td>\n",
       "      <td>0.35</td>\n",
       "      <td>Action Performed</td>\n",
       "      <td>Restored</td>\n",
       "      <td>NaN</td>\n",
       "      <td>NaN</td>\n",
       "      <td>NaN</td>\n",
       "      <td>NaN</td>\n",
       "      <td>NaN</td>\n",
       "      <td>NaN</td>\n",
       "    </tr>\n",
       "    <tr>\n",
       "      <th>84</th>\n",
       "      <td>9</td>\n",
       "      <td>Acres of SEZ Restored or Enhanced</td>\n",
       "      <td>acres</td>\n",
       "      <td>4336</td>\n",
       "      <td>03.02.02.0102</td>\n",
       "      <td>2022</td>\n",
       "      <td>0.10</td>\n",
       "      <td>Action Performed</td>\n",
       "      <td>Restored</td>\n",
       "      <td>NaN</td>\n",
       "      <td>NaN</td>\n",
       "      <td>NaN</td>\n",
       "      <td>NaN</td>\n",
       "      <td>NaN</td>\n",
       "      <td>NaN</td>\n",
       "    </tr>\n",
       "  </tbody>\n",
       "</table>\n",
       "<p>85 rows × 15 columns</p>\n",
       "</div>"
      ],
      "text/plain": [
       "    IndicatorID                      IndicatorName IndicatorUnits  ProjectID  \\\n",
       "0             9  Acres of SEZ Restored or Enhanced          acres         64   \n",
       "1             9  Acres of SEZ Restored or Enhanced          acres        154   \n",
       "2             9  Acres of SEZ Restored or Enhanced          acres        214   \n",
       "3             9  Acres of SEZ Restored or Enhanced          acres        214   \n",
       "4             9  Acres of SEZ Restored or Enhanced          acres        229   \n",
       "..          ...                                ...            ...        ...   \n",
       "80            9  Acres of SEZ Restored or Enhanced          acres       1645   \n",
       "81            9  Acres of SEZ Restored or Enhanced          acres       1645   \n",
       "82            9  Acres of SEZ Restored or Enhanced          acres       1347   \n",
       "83            9  Acres of SEZ Restored or Enhanced          acres       1474   \n",
       "84            9  Acres of SEZ Restored or Enhanced          acres       4336   \n",
       "\n",
       "   EIPProjectNumber  IndicatorProjectYear  IndicatorProjectValue  \\\n",
       "0     01.01.01.0030                  2020                   1.12   \n",
       "1     01.01.01.0045                  2015                   0.50   \n",
       "2     01.01.01.0056                  2015                   0.25   \n",
       "3     01.01.01.0056                  2016                   2.00   \n",
       "4     01.01.01.0067                  2020                   0.20   \n",
       "..              ...                   ...                    ...   \n",
       "80    02.02.01.0015                  2015                  10.00   \n",
       "81    02.02.01.0015                  2017                  10.00   \n",
       "82    03.01.01.0005                  2019                   0.20   \n",
       "83    03.01.02.0048                  2014                   0.35   \n",
       "84    03.02.02.0102                  2022                   0.10   \n",
       "\n",
       "   PMSubcategoryName1 PMSubcategoryOption1  PMSubcategoryName2  \\\n",
       "0    Action Performed             Restored                 NaN   \n",
       "1    Action Performed             Enhanced                 NaN   \n",
       "2    Action Performed             Enhanced                 NaN   \n",
       "3    Action Performed             Enhanced                 NaN   \n",
       "4    Action Performed             Restored                 NaN   \n",
       "..                ...                  ...                 ...   \n",
       "80   Action Performed             Enhanced                 NaN   \n",
       "81   Action Performed             Enhanced                 NaN   \n",
       "82   Action Performed             Enhanced                 NaN   \n",
       "83   Action Performed             Restored                 NaN   \n",
       "84   Action Performed             Restored                 NaN   \n",
       "\n",
       "    PMSubcategoryOption2  PMSubcategoryName3  PMSubcategoryOption3  \\\n",
       "0                    NaN                 NaN                   NaN   \n",
       "1                    NaN                 NaN                   NaN   \n",
       "2                    NaN                 NaN                   NaN   \n",
       "3                    NaN                 NaN                   NaN   \n",
       "4                    NaN                 NaN                   NaN   \n",
       "..                   ...                 ...                   ...   \n",
       "80                   NaN                 NaN                   NaN   \n",
       "81                   NaN                 NaN                   NaN   \n",
       "82                   NaN                 NaN                   NaN   \n",
       "83                   NaN                 NaN                   NaN   \n",
       "84                   NaN                 NaN                   NaN   \n",
       "\n",
       "    PMSubcategoryName4  PMSubcategoryOption4  \n",
       "0                  NaN                   NaN  \n",
       "1                  NaN                   NaN  \n",
       "2                  NaN                   NaN  \n",
       "3                  NaN                   NaN  \n",
       "4                  NaN                   NaN  \n",
       "..                 ...                   ...  \n",
       "80                 NaN                   NaN  \n",
       "81                 NaN                   NaN  \n",
       "82                 NaN                   NaN  \n",
       "83                 NaN                   NaN  \n",
       "84                 NaN                   NaN  \n",
       "\n",
       "[85 rows x 15 columns]"
      ]
     },
     "execution_count": 8,
     "metadata": {},
     "output_type": "execute_result"
    }
   ],
   "source": [
    "df "
   ]
  },
  {
   "cell_type": "code",
   "execution_count": null,
   "metadata": {},
   "outputs": [],
   "source": []
  }
 ],
 "metadata": {
  "kernelspec": {
   "display_name": "trpa-311",
   "language": "python",
   "name": "python3"
  },
  "language_info": {
   "codemirror_mode": {
    "name": "ipython",
    "version": 3
   },
   "file_extension": ".py",
   "mimetype": "text/x-python",
   "name": "python",
   "nbconvert_exporter": "python",
   "pygments_lexer": "ipython3",
   "version": "3.9.18"
  }
 },
 "nbformat": 4,
 "nbformat_minor": 2
}
