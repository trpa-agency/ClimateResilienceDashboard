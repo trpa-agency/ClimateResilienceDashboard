{
 "cells": [
  {
   "cell_type": "markdown",
   "metadata": {},
   "source": [
    "## Setup"
   ]
  },
  {
   "cell_type": "code",
   "execution_count": 2,
   "metadata": {},
   "outputs": [],
   "source": [
    "%load_ext autoreload\n",
    "%autoreload 2"
   ]
  },
  {
   "cell_type": "code",
   "execution_count": 3,
   "metadata": {},
   "outputs": [],
   "source": [
    "from built_systems import *\n",
    "from climate_conditions import *\n",
    "from social_systems import *\n",
    "from natural_systems import *"
   ]
  },
  {
   "cell_type": "markdown",
   "metadata": {},
   "source": [
    "## Goal 1 Climate Condition Indicators\n",
    "#### climate_conditions.py"
   ]
  },
  {
   "cell_type": "code",
   "execution_count": null,
   "metadata": {},
   "outputs": [],
   "source": [
    "# html\\1.1.a_Greenhouse_Gas.html\n",
    "df = get_data_greenhouse_gas()\n",
    "plot_greenhouse_gas(df)"
   ]
  },
  {
   "cell_type": "code",
   "execution_count": null,
   "metadata": {},
   "outputs": [],
   "source": [
    "# html\\1.2.a_Purple_Air.html\n",
    "df = get_data_purple_air()\n",
    "plot_purple_air(df)"
   ]
  },
  {
   "cell_type": "code",
   "execution_count": null,
   "metadata": {},
   "outputs": [],
   "source": [
    "# html\\1.2.a_Purple_Air_v2.html\n",
    "dfAir = get_data_purple_air_TRPA()\n",
    "dfFire = get_fire_data()\n",
    "plot_purple_air_fire(dfAir, dfFire)"
   ]
  },
  {
   "cell_type": "code",
   "execution_count": null,
   "metadata": {},
   "outputs": [],
   "source": [
    "# html\\1.2.a_Air_Quality_CO.html\n",
    "# html\\1.2.a_Air_Quality_O3.html\n",
    "# html\\1.2.a_Air_Quality_PM10.html\n",
    "# html\\1.2.a_Air_Quality_PM2.5.html\n",
    "df = get_air_quality()\n",
    "plot_air_quality(df)"
   ]
  },
  {
   "cell_type": "code",
   "execution_count": null,
   "metadata": {},
   "outputs": [],
   "source": [
    "# html\\1.2.a_ExtremeHeatDays.html\n",
    "df = get_data_temp()\n",
    "plot_extremeheat(df)"
   ]
  },
  {
   "cell_type": "code",
   "execution_count": null,
   "metadata": {},
   "outputs": [],
   "source": [
    "# html\\1.2.a_TahoeTemp.html\n",
    "df = get_data_temp()\n",
    "plot_temp(df)"
   ]
  },
  {
   "cell_type": "code",
   "execution_count": null,
   "metadata": {},
   "outputs": [],
   "source": [
    "# html\\1.3.a_Lake_Level.html\n",
    "df = get_data_lake_level(days=6000)\n",
    "plot_lake_level_with_high_water_mark(df)"
   ]
  },
  {
   "cell_type": "code",
   "execution_count": null,
   "metadata": {},
   "outputs": [],
   "source": [
    "# html\\1.3.d_Precip.html\n",
    "df = get_data_precip()\n",
    "plot_precip(df)"
   ]
  },
  {
   "cell_type": "code",
   "execution_count": null,
   "metadata": {},
   "outputs": [],
   "source": [
    "# html\\1.3.b_Lake_Temp.html\n",
    "df = get_all_temp_midlake()\n",
    "plot_lake_temp_midlake(df)"
   ]
  },
  {
   "cell_type": "code",
   "execution_count": null,
   "metadata": {},
   "outputs": [],
   "source": [
    "# html\\1.3.c_Secchi_Depth.html\n",
    "df = get_data_secchi_depth()\n",
    "plot_secchi_depth(df)"
   ]
  },
  {
   "cell_type": "markdown",
   "metadata": {},
   "source": [
    "## Goal 2 Natural System Indicators\n",
    "#### natural_systems.py"
   ]
  },
  {
   "cell_type": "code",
   "execution_count": null,
   "metadata": {},
   "outputs": [],
   "source": [
    "# html\\2.1.a_ForestFuel.html\n",
    "df = get_data_forest_fuel()\n",
    "plot_forest_fuel(df)"
   ]
  },
  {
   "cell_type": "code",
   "execution_count": null,
   "metadata": {},
   "outputs": [],
   "source": [
    "# html\\2.1.b_OldGrowthForest_SeralStage.html\n",
    "# html\\2.1.b_OldGrowthForest_Species.html\n",
    "# html\\2.1.b_OldGrowthForest_Structure.html\n",
    "df = get_old_growth_forest()\n",
    "plot_old_growth_forest(df)"
   ]
  },
  {
   "cell_type": "code",
   "execution_count": null,
   "metadata": {},
   "outputs": [],
   "source": [
    "# html\\2.1.b_VegetationType.html\n",
    "# html\\2.1.b_SeralStage.html\n",
    "df = get_veg()\n",
    "plot_veg(df)"
   ]
  },
  {
   "cell_type": "code",
   "execution_count": null,
   "metadata": {},
   "outputs": [],
   "source": [
    "# html\\2.1.c_Probability_of_High_Severity_Fire.html\n",
    "# html\\2.1.c_Probability_of_Low_Severity_Fire.html\n",
    "df = get_probability_of_high_severity_fire()\n",
    "plot_probability_of_high_severity_fire(df)"
   ]
  },
  {
   "cell_type": "code",
   "execution_count": null,
   "metadata": {},
   "outputs": [],
   "source": [
    "# html\\2.2.a_Aquatic_Species.html\n",
    "df = get_data_aquatic_species()\n",
    "plot_aquatic_species_bar(df)"
   ]
  },
  {
   "cell_type": "code",
   "execution_count": null,
   "metadata": {},
   "outputs": [],
   "source": [
    "# html\\2.3.a_Restored_Wetlands_Meadows.html\n",
    "df = get_data_restored_wetlands_meadows()\n",
    "plot_restored_wetlands_meadows_bar(df)"
   ]
  },
  {
   "cell_type": "code",
   "execution_count": null,
   "metadata": {},
   "outputs": [],
   "source": [
    "# html\\2.3.b_BMP.html\n",
    "df = get_data_bmp()\n",
    "plot_bmp(df)"
   ]
  },
  {
   "cell_type": "code",
   "execution_count": null,
   "metadata": {},
   "outputs": [],
   "source": [
    "# html\\2.4.c_Areawide_Covering_Impervious.html\n",
    "df = get_areawide_data()\n",
    "plot_areawide(df)"
   ]
  },
  {
   "cell_type": "markdown",
   "metadata": {},
   "source": [
    "## Goal 3 Built Systems Indicators\n",
    "#### built_systems.py"
   ]
  },
  {
   "cell_type": "code",
   "execution_count": 11,
   "metadata": {},
   "outputs": [],
   "source": [
    "# html\\3.1.a_Affordable_Units.html\n",
    "df = get_data_affordable_units()\n",
    "plot_affordable_units(df)"
   ]
  },
  {
   "cell_type": "code",
   "execution_count": null,
   "metadata": {},
   "outputs": [],
   "source": [
    "# html\\3.1.b_HomeHeatingFuels.html\n",
    "df = get_data_home_heating()\n",
    "plot_home_heating(df)"
   ]
  },
  {
   "cell_type": "code",
   "execution_count": null,
   "metadata": {},
   "outputs": [],
   "source": [
    "# html\\3.1.c_Deed_Restricted_Units_v1.html\n",
    "# html\\3.1.c_Deed_Restricted_Units_v2.html\n",
    "df = get_data_deed_restricted()\n",
    "plot_data_deed_restricted(df)"
   ]
  },
  {
   "cell_type": "code",
   "execution_count": null,
   "metadata": {},
   "outputs": [],
   "source": [
    "# html\\3.2.a_EnergyMix.html\n",
    "df = get_data_energy_mix()\n",
    "plot_energy_mix(df)"
   ]
  },
  {
   "cell_type": "code",
   "execution_count": null,
   "metadata": {},
   "outputs": [],
   "source": [
    "# html\\3.3.a_Transit_Ridership.html\n",
    "df = get_data_transit()\n",
    "plot_transit(df)"
   ]
  },
  {
   "cell_type": "code",
   "execution_count": null,
   "metadata": {},
   "outputs": [],
   "source": [
    "# html\\3.3.b_Vehicle_Miles_Traveled.html\n",
    "df = get_data_vehicle_miles_traveled()\n",
    "plot_vehicle_miles_traveled(df)"
   ]
  },
  {
   "cell_type": "code",
   "execution_count": null,
   "metadata": {},
   "outputs": [],
   "source": [
    "# html\\3.3.d_Mode_Share_1.html\n",
    "# html\\3.3.d_Mode_Share_2.html\n",
    "df = get_data_mode_share()\n",
    "plot_mode_share(df)"
   ]
  },
  {
   "cell_type": "code",
   "execution_count": null,
   "metadata": {},
   "outputs": [],
   "source": [
    "# html\\3.3.f_Low_Stress_Bicycle.html\n",
    "df = get_data_low_stress_bicycle()\n",
    "plot_low_stress_bicycle(df)"
   ]
  },
  {
   "cell_type": "markdown",
   "metadata": {},
   "source": [
    "## Goal 4 Social System Indicators\n",
    "#### social_systems.py"
   ]
  },
  {
   "cell_type": "code",
   "execution_count": null,
   "metadata": {},
   "outputs": [],
   "source": [
    "# html\\4.1.a_Household_Income_v1.html\n",
    "# html\\4.1.a_Household_Income_v2.html\n",
    "df = get_data_household_income()\n",
    "plot_household_income(df)"
   ]
  },
  {
   "cell_type": "code",
   "execution_count": null,
   "metadata": {},
   "outputs": [],
   "source": [
    "# html\\4.1.b_Median_Sale_Prices.html\n",
    "\n",
    "# # ECOnorthwest has to run this\n",
    "# df = calculate_data_median_home_price(start_date=\"2008-01-01\", end_date=\"2024-01-31\")\n",
    "#\n",
    "# df[\"month_year\"] = pd.to_datetime(df[\"month_year\"])\n",
    "# df[\"year\"] = df[\"month_year\"].dt.year\n",
    "# df[\"month\"] = df[\"month_year\"].dt.month\n",
    "# # rename columns\n",
    "# df = df.rename(columns={\"Purchase Amt\": \"Purchase Amount\", \"month_year\": \"Month\", \"year\": \"Year\"})\n",
    "\n",
    "df = get_data_median_home_price()\n",
    "plot_median_home_price(df)"
   ]
  },
  {
   "cell_type": "code",
   "execution_count": null,
   "metadata": {},
   "outputs": [],
   "source": [
    "# html\\4.1.b_Rent_Prices.html\n",
    "df = get_data_rent_prices()\n",
    "plot_rent_prices(df)"
   ]
  },
  {
   "cell_type": "code",
   "execution_count": null,
   "metadata": {},
   "outputs": [],
   "source": [
    "# html\\4.1.c_TenureByAge.html\n",
    "df = get_data_tenure_by_age()\n",
    "plot_tenure_by_age(df)"
   ]
  },
  {
   "cell_type": "code",
   "execution_count": null,
   "metadata": {},
   "outputs": [],
   "source": [
    "df = get_data_housing_occupancy()\n",
    "plot_housing_occupancy(df)"
   ]
  },
  {
   "cell_type": "code",
   "execution_count": null,
   "metadata": {},
   "outputs": [],
   "source": [
    "# html\\4.1.c_TenureByRace.html\n",
    "df = get_data_tenure_by_race()\n",
    "plot_tenure_by_race(df)"
   ]
  },
  {
   "cell_type": "code",
   "execution_count": null,
   "metadata": {},
   "outputs": [],
   "source": [
    "# html\\4.1.d_commuter_patterns.html\n",
    "df = get_data_commute_patterns()\n",
    "plot_commute_patterns(df)"
   ]
  },
  {
   "cell_type": "code",
   "execution_count": null,
   "metadata": {},
   "outputs": [],
   "source": [
    "# html\\4.1.d_commuter_percentage.html\n",
    "df = get_data_commute_origin()\n",
    "plot_commute_origin(df)"
   ]
  },
  {
   "cell_type": "code",
   "execution_count": null,
   "metadata": {},
   "outputs": [],
   "source": [
    "# html\\4.2.a_TOT_Collected.html\n",
    "df = get_data_tot_collected()\n",
    "plot_tot_collected(df)"
   ]
  },
  {
   "cell_type": "code",
   "execution_count": null,
   "metadata": {},
   "outputs": [],
   "source": [
    "# html\\4.4.a_RaceEthnicity_v1.html\n",
    "# html\\4.4.a_RaceEthnicity_v2.html\n",
    "df = get_data_race_ethnicity()\n",
    "plot_race_ethnicity(df)"
   ]
  }
 ],
 "metadata": {
  "kernelspec": {
   "display_name": "trpa",
   "language": "python",
   "name": "python3"
  },
  "language_info": {
   "codemirror_mode": {
    "name": "ipython",
    "version": 3
   },
   "file_extension": ".py",
   "mimetype": "text/x-python",
   "name": "python",
   "nbconvert_exporter": "python",
   "pygments_lexer": "ipython3",
   "version": "3.9.18"
  }
 },
 "nbformat": 4,
 "nbformat_minor": 2
}
