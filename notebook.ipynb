{
 "cells": [
  {
   "cell_type": "code",
   "execution_count": 4,
   "metadata": {},
   "outputs": [],
   "source": [
    "from built_systems import stackbar_percent, groupedbar_percent\n",
    "from climate_conditions import trendline, scatterplot"
   ]
  },
  {
   "cell_type": "code",
   "execution_count": 5,
   "metadata": {},
   "outputs": [],
   "source": [
    "stackbar_percent(\"/Users/cahya/Dropbox (ECONW)/25594 TRPA Climate Dashboard/Data/3.2(a)/EnergyMixStack.html\", \n",
    "          \"~/Dropbox (ECONW)/25594 TRPA Climate Dashboard/Data/3.2(a)/EnergyMix_long.csv\",\n",
    "          \"Year\",\"Share\",\"Source\",\"Type\",\"% of Renewable Energy by Share of Total\",\"Year\")"
   ]
  },
  {
   "cell_type": "code",
   "execution_count": 6,
   "metadata": {},
   "outputs": [],
   "source": [
    "groupedbar_percent(\"/Users/cahya/Dropbox (ECONW)/25594 TRPA Climate Dashboard/Data/3.2(a)/EnergyMixGrouped.html\", \n",
    "          \"~/Dropbox (ECONW)/25594 TRPA Climate Dashboard/Data/3.2(a)/EnergyMix_long.csv\",\n",
    "          \"Year\",\"Share\",\"Source\",\"Type\",\"% of Renewable Energy by Share of Total\",\"Year\")"
   ]
  },
  {
   "cell_type": "code",
   "execution_count": 3,
   "metadata": {},
   "outputs": [],
   "source": [
    "trendline(\"/Users/cahya/Dropbox (ECONW)/25594 TRPA Climate Dashboard/Data/1.1(a)/trendline.html\",\n",
    "          \"https://maps.trpa.org/server/rest/services/LTinfo_Climate_Resilience_Dashboard/MapServer/124\",\n",
    "          \"Year\",\"MT_CO2\",\"Category\",\"Year\",\"Amount of CO2\")"
   ]
  },
  {
   "cell_type": "code",
   "execution_count": 6,
   "metadata": {},
   "outputs": [
    {
     "ename": "TypeError",
     "evalue": "scatterplot() takes 4 positional arguments but 7 were given",
     "output_type": "error",
     "traceback": [
      "\u001b[0;31m---------------------------------------------------------------------------\u001b[0m",
      "\u001b[0;31mTypeError\u001b[0m                                 Traceback (most recent call last)",
      "\u001b[1;32m/Users/cahya/Desktop/projects/25594-trpa-climate-dashboard-visualizations/notebook.ipynb Cell 5\u001b[0m line \u001b[0;36m1\n\u001b[0;32m----> <a href='vscode-notebook-cell:/Users/cahya/Desktop/projects/25594-trpa-climate-dashboard-visualizations/notebook.ipynb#W4sZmlsZQ%3D%3D?line=0'>1</a>\u001b[0m scatterplot(\u001b[39m\"\u001b[39;49m\u001b[39m/Users/cahya/Dropbox (ECONW)/25594 TRPA Climate Dashboard/Data/1.3(c)/scatterplot1.html\u001b[39;49m\u001b[39m\"\u001b[39;49m,\n\u001b[1;32m      <a href='vscode-notebook-cell:/Users/cahya/Desktop/projects/25594-trpa-climate-dashboard-visualizations/notebook.ipynb#W4sZmlsZQ%3D%3D?line=1'>2</a>\u001b[0m           \u001b[39m\"\u001b[39;49m\u001b[39mhttps://maps.trpa.org/server/rest/services/LTinfo_Climate_Resilience_Dashboard/MapServer/125\u001b[39;49m\u001b[39m\"\u001b[39;49m,\n\u001b[1;32m      <a href='vscode-notebook-cell:/Users/cahya/Desktop/projects/25594-trpa-climate-dashboard-visualizations/notebook.ipynb#W4sZmlsZQ%3D%3D?line=2'>3</a>\u001b[0m           \u001b[39m\"\u001b[39;49m\u001b[39myear\u001b[39;49m\u001b[39m\"\u001b[39;49m,\u001b[39m\"\u001b[39;49m\u001b[39mannual_average\u001b[39;49m\u001b[39m\"\u001b[39;49m,\u001b[39m\"\u001b[39;49m\u001b[39mF5_year_average\u001b[39;49m\u001b[39m\"\u001b[39;49m,\u001b[39m\"\u001b[39;49m\u001b[39mYear\u001b[39;49m\u001b[39m\"\u001b[39;49m,\u001b[39m\"\u001b[39;49m\u001b[39mSecchi Depth\u001b[39;49m\u001b[39m\"\u001b[39;49m)\n",
      "\u001b[0;31mTypeError\u001b[0m: scatterplot() takes 4 positional arguments but 7 were given"
     ]
    }
   ],
   "source": [
    "scatterplot(\"/Users/cahya/Dropbox (ECONW)/25594 TRPA Climate Dashboard/Data/1.3(c)/scatterplot.html\",\n",
    "          \"https://maps.trpa.org/server/rest/services/LTinfo_Climate_Resilience_Dashboard/MapServer/125\",\n",
    "          \"year\",\"annual_average\",\"F5_year_average\",\"Year\",\"Secchi Depth\")"
   ]
  }
 ],
 "metadata": {
  "kernelspec": {
   "display_name": "trpa",
   "language": "python",
   "name": "python3"
  },
  "language_info": {
   "codemirror_mode": {
    "name": "ipython",
    "version": 3
   },
   "file_extension": ".py",
   "mimetype": "text/x-python",
   "name": "python",
   "nbconvert_exporter": "python",
   "pygments_lexer": "ipython3",
   "version": "3.11.4"
  }
 },
 "nbformat": 4,
 "nbformat_minor": 2
}
