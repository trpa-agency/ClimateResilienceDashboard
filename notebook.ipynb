{
 "cells": [
  {
   "cell_type": "markdown",
   "metadata": {},
   "source": [
    "## Setup"
   ]
  },
  {
   "cell_type": "code",
   "execution_count": null,
   "metadata": {},
   "outputs": [],
   "source": [
    "%load_ext autoreload\n",
    "%autoreload 2"
   ]
  },
  {
   "cell_type": "code",
   "execution_count": null,
   "metadata": {},
   "outputs": [],
   "source": [
    "from built_systems import *\n",
    "from climate_conditions import *\n",
    "from social_systems import *\n",
    "from natural_systems import *"
   ]
  },
  {
   "cell_type": "markdown",
   "metadata": {},
   "source": [
    "## Goal 1 Climate Condition Indicators\n",
    "#### climate_conditions.py"
   ]
  },
  {
   "cell_type": "code",
   "execution_count": null,
   "metadata": {},
   "outputs": [],
   "source": [
    "# html\\1.1.a_Greenhouse_Gas.html\n",
    "df = get_data_greenhouse_gas()\n",
    "plot_greenhouse_gas(df)"
   ]
  },
  {
   "cell_type": "code",
   "execution_count": null,
   "metadata": {},
   "outputs": [],
   "source": [
    "# html\\1.2.a_Purple_Air.html\n",
    "df = get_data_purple_air()\n",
    "plot_purple_air(df)"
   ]
  },
  {
   "cell_type": "code",
   "execution_count": 4,
   "metadata": {},
   "outputs": [],
   "source": [
    "# html\\1.2.a_Purple_Air_v2.html\n",
    "dfAir = get_data_purple_air_TRPA()\n",
    "dfFire = get_fire_data()\n",
    "plot_purple_air_fire(dfAir, dfFire)"
   ]
  },
  {
   "cell_type": "code",
   "execution_count": null,
   "metadata": {},
   "outputs": [],
   "source": [
    "# html\\1.2.a_Air_Quality_CO.html\n",
    "# html\\1.2.a_Air_Quality_O3.html\n",
    "# html\\1.2.a_Air_Quality_PM10.html\n",
    "# html\\1.2.a_Air_Quality_PM2.5.html\n",
    "df = get_air_quality()\n",
    "plot_air_quality(df)"
   ]
  },
  {
   "cell_type": "code",
   "execution_count": 9,
   "metadata": {},
   "outputs": [],
   "source": [
    "# html\\1.2.a_ExtremeHeatDays.html\n",
    "df = get_data_temp()\n",
    "plot_extremeheat(df)"
   ]
  },
  {
   "cell_type": "code",
   "execution_count": null,
   "metadata": {},
   "outputs": [],
   "source": [
    "# html\\1.2.a_TahoeTemp.html\n",
    "df = get_data_temp()\n",
    "plot_temp(df)"
   ]
  },
  {
   "cell_type": "code",
   "execution_count": 10,
   "metadata": {},
   "outputs": [],
   "source": [
    "# html\\1.3.a_Lake_Level.html\n",
    "df = get_data_lake_level(days=6000)\n",
    "plot_lake_level_with_high_water_mark(df)"
   ]
  },
  {
   "cell_type": "code",
   "execution_count": 32,
   "metadata": {},
   "outputs": [],
   "source": [
    "# html\\1.3.d_Precip.html\n",
    "df = get_data_precip()\n",
    "plot_precip(df)"
   ]
  },
  {
   "cell_type": "code",
   "execution_count": 19,
   "metadata": {},
   "outputs": [],
   "source": [
    "# html\\1.3.b_Lake_Temp.html\n",
    "df = get_all_temp_midlake()\n",
    "plot_lake_temp_midlake(df)"
   ]
  },
  {
   "cell_type": "code",
   "execution_count": 26,
   "metadata": {},
   "outputs": [],
   "source": [
    "# html\\1.3.c_Secchi_Depth.html\n",
    "df = get_data_secchi_depth()\n",
    "plot_secchi_depth(df)"
   ]
  },
  {
   "cell_type": "markdown",
   "metadata": {},
   "source": [
    "## Goal 2 Natural System Indicators\n",
    "#### natural_systems.py"
   ]
  },
  {
   "cell_type": "code",
   "execution_count": 37,
   "metadata": {},
   "outputs": [],
   "source": [
    "# html\\2.1.a_ForestFuel.html\n",
    "df = get_data_forest_fuel()\n",
    "plot_forest_fuel(df)"
   ]
  },
  {
   "cell_type": "code",
   "execution_count": null,
   "metadata": {},
   "outputs": [],
   "source": [
    "# html\\2.1.b_OldGrowthForest_SeralStage.html\n",
    "# html\\2.1.b_OldGrowthForest_Species.html\n",
    "# html\\2.1.b_OldGrowthForest_Structure.html\n",
    "df = get_old_growth_forest()\n",
    "plot_old_growth_forest(df)"
   ]
  },
  {
   "cell_type": "code",
   "execution_count": null,
   "metadata": {},
   "outputs": [],
   "source": [
    "# html\\2.1.b_VegetationType.html\n",
    "# html\\2.1.b_SeralStage.html\n",
    "df = get_veg()\n",
    "plot_veg(df)"
   ]
  },
  {
   "cell_type": "code",
   "execution_count": null,
   "metadata": {},
   "outputs": [],
   "source": [
    "# html\\2.1.c_Probability_of_High_Severity_Fire.html\n",
    "# html\\2.1.c_Probability_of_Low_Severity_Fire.html\n",
    "df = get_probability_of_high_severity_fire()\n",
    "plot_probability_of_high_severity_fire(df)"
   ]
  },
  {
   "cell_type": "code",
   "execution_count": 7,
   "metadata": {},
   "outputs": [],
   "source": [
    "# html\\2.2.a_Aquatic_Species.html\n",
    "df = get_data_aquatic_species()\n",
    "plot_aquatic_species_bar(df)"
   ]
  },
  {
   "cell_type": "code",
   "execution_count": null,
   "metadata": {},
   "outputs": [],
   "source": [
    "# html\\2.3.a_Restored_Wetlands_Meadows.html\n",
    "df = get_data_restored_wetlands_meadows()\n",
    "plot_restored_wetlands_meadows_bar(df)"
   ]
  },
  {
   "cell_type": "code",
   "execution_count": null,
   "metadata": {},
   "outputs": [],
   "source": [
    "# html\\2.3.b_BMP.html\n",
    "df = get_data_bmp()\n",
    "plot_bmp(df)"
   ]
  },
  {
   "cell_type": "code",
   "execution_count": null,
   "metadata": {},
   "outputs": [],
   "source": [
    "# html\\2.4.c_Areawide_Covering_Impervious.html\n",
    "df = get_areawide_data()\n",
    "plot_areawide(df)"
   ]
  },
  {
   "cell_type": "markdown",
   "metadata": {},
   "source": [
    "## Goal 3 Built Systems Indicators\n",
    "#### built_systems.py"
   ]
  },
  {
   "cell_type": "code",
   "execution_count": null,
   "metadata": {},
   "outputs": [],
   "source": [
    "# html\\3.1.a_Affordable_Units.html\n",
    "df = get_data_affordable_units()\n",
    "plot_affordable_units(df)"
   ]
  },
  {
   "cell_type": "code",
   "execution_count": null,
   "metadata": {},
   "outputs": [],
   "source": [
    "# html\\3.1.b_HomeHeatingFuels.html\n",
    "df = get_data_home_heating()\n",
    "plot_home_heating(df)"
   ]
  },
  {
   "cell_type": "code",
   "execution_count": null,
   "metadata": {},
   "outputs": [],
   "source": [
    "# html\\3.1.c_Deed_Restricted_Units_v1.html\n",
    "# html\\3.1.c_Deed_Restricted_Units_v2.html\n",
    "df = get_data_deed_restricted()\n",
    "plot_data_deed_restricted(df)"
   ]
  },
  {
   "cell_type": "code",
   "execution_count": null,
   "metadata": {},
   "outputs": [],
   "source": [
    "# html\\3.2.a_EnergyMix.html\n",
    "df = get_data_energy_mix()\n",
    "plot_energy_mix(df)"
   ]
  },
  {
   "cell_type": "code",

   "execution_count": null,
   "metadata": {},
   "outputs": [],

   "source": [
    "# html\\3.3.a_Transit_Ridership.html\n",
    "df = get_data_transit()\n",
    "plot_transit(df)"
   ]
  },
  {
   "cell_type": "code",
   "execution_count": null,
   "metadata": {},
   "outputs": [],
   "source": [
    "# html\\3.3.b_Vehicle_Miles_Traveled.html\n",
    "df = get_data_vehicle_miles_traveled()\n",
    "plot_vehicle_miles_traveled(df)"
   ]
  },
  {
   "cell_type": "code",
   "execution_count": null,
   "metadata": {},
   "outputs": [],
   "source": [
    "# html\\3.3.d_Mode_Share_1.html\n",
    "# html\\3.3.d_Mode_Share_2.html\n",
    "df = get_data_mode_share()\n",
    "plot_mode_share(df)"
   ]
  },
  {
   "cell_type": "code",
   "execution_count": null,
   "metadata": {},
   "outputs": [],
   "source": [
    "# html\\3.3.f_Low_Stress_Bicycle.html\n",
    "df = get_data_low_stress_bicycle()\n",
    "plot_low_stress_bicycle(df)"
   ]
  },
  {
   "cell_type": "markdown",
   "metadata": {},
   "source": [
    "## Goal 4 Social System Indicators\n",
    "#### social_systems.py"
   ]
  },
  {
   "cell_type": "code",
   "execution_count": null,
   "metadata": {},
   "outputs": [],
   "source": [
    "# html\\4.1.a_Household_Income_v1.html\n",
    "# html\\4.1.a_Household_Income_v2.html\n",
    "df = get_data_household_income()\n",
    "plot_household_income(df)"
   ]
  },
  {
   "cell_type": "code",
   "execution_count": null,
   "metadata": {},
   "outputs": [],
   "source": [
    "# html\\4.1.b_Median_Sale_Prices.html\n",
    "\n",
    "# # ECOnorthwest has to run this\n",
    "# df = calculate_data_median_home_price(start_date=\"2008-01-01\", end_date=\"2024-01-31\")\n",
    "#\n",
    "# df[\"month_year\"] = pd.to_datetime(df[\"month_year\"])\n",
    "# df[\"year\"] = df[\"month_year\"].dt.year\n",
    "# df[\"month\"] = df[\"month_year\"].dt.month\n",
    "# # rename columns\n",
    "# df = df.rename(columns={\"Purchase Amt\": \"Purchase Amount\", \"month_year\": \"Month\", \"year\": \"Year\"})\n",
    "\n",
    "df = get_data_median_home_price()\n",
    "plot_median_home_price(df)"
   ]
  },
  {
   "cell_type": "code",
   "execution_count": null,
   "metadata": {},
   "outputs": [],
   "source": [
    "# html\\4.1.b_Rent_Prices.html\n",
    "df = get_data_rent_prices()\n",
    "plot_rent_prices(df)"
   ]
  },
  {
   "cell_type": "code",
   "execution_count": null,
   "metadata": {},
   "outputs": [],
   "source": [
    "# html\\4.1.c_TenureByAge.html\n",
    "df = get_data_tenure_by_age()\n",
    "plot_tenure_by_age(df)"
   ]
  },
  {
   "cell_type": "code",
   "execution_count": null,
   "metadata": {},
   "outputs": [],
   "source": [
    "# html\\4.1.c_TenureByRace.html\n",
    "df = get_data_tenure_by_race()\n",
    "plot_tenure_by_race(df)"
   ]
  },
  {
   "cell_type": "code",
   "execution_count": null,
   "metadata": {},
   "outputs": [],
   "source": [
    "# html\\4.1.d_commuter_patterns.html\n",
    "df = get_data_commute_patterns()\n",
    "plot_commute_patterns(df)"
   ]
  },
  {
   "cell_type": "code",
   "execution_count": null,
   "metadata": {},
   "outputs": [],
   "source": [
    "# html\\4.1.d_commuter_percentage.html\n",
    "df = get_data_commute_origin()\n",
    "plot_commute_origin(df)"
   ]
  },
  {
   "cell_type": "code",
   "execution_count": null,
   "metadata": {},
   "outputs": [],
   "source": [
    "# html\\4.2.a_TOT_Collected.html\n",
    "df = get_data_tot_collected()\n",
    "plot_tot_collected(df)"
   ]
  },
  {
   "cell_type": "code",
   "execution_count": 54,
   "metadata": {},
   "outputs": [
    {
     "name": "stdout",
     "output_type": "stream",
     "text": [
      "['White', 'Hispanic', 'Asian', 'Black', 'AIAN', 'NHPI', 'Other', 'Multi']\n",
      "{'Lake Tahoe Region': [[0.8575121922557142, 0.7623442547300415, 0.7197115471073786, 0.6911311698545741], [0.12705407681610748, 0.17559632735547318, 0.21945078856978437, 0.2153986675263271], [0.0, 0.03215950861671149, 0.03186649162875178, 0.0344401461422738], [0.00430890964999902, 0.0048374520630778284, 0.004927437193159134, 0.004602765241063113], [0.010987719607497504, 0.005394395557182184, 0.004316003380869315, 0.0038684719535783366], [0.0, 0.0012411883582897061, 0.001258834319420217, 0.0012536714664374239], [0.00013710167068178703, 0.001304839043330204, 0.0012228676245796392, 0.006035532631277312], [0.0, 0.017122034275893896, 0.01724603017605697, 0.0432695751844688]], 'North Lake': [[0.8924300406601292, 0.7998190863862505, 0.7445098541080113, 0.7312531454453951], [0.09746472135852667, 0.16458616010854818, 0.21940107499360123, 0.20010065425264217], [0.0, 0.012754409769335142, 0.015254671103148196, 0.019627579265223957], [0.0016742406122937097, 0.0032564450474898234, 0.0030202201177373946, 0.002214393558127831], [0.008430997369050466, 0.004884667571234735, 0.0032249808036856923, 0.0025163563160543532], [0.0, 0.0009045680687471732, 0.0005630918863578193, 0.0017614494212380473], [0.0, 0.0011759384893713252, 0.0012285641156897875, 0.005988928032209361], [0.0, 0.012618724559023067, 0.012797542871768621, 0.03653749370910921]], 'South Lake': [[0.8405033058573385, 0.7420027987135738, 0.7062818806830783, 0.6689651337374187], [0.14146739288730958, 0.18157268062750104, 0.2194777112441783, 0.22385030306400489], [0.0, 0.04269265705938674, 0.04086271900643158, 0.04262358894511483], [0.005592287303760231, 0.005695627623793976, 0.005960301618984254, 0.005922259912139243], [0.012233128476975505, 0.005671077504725898, 0.004906852960745177, 0.0046154701662681425], [0.0, 0.001423906905948494, 0.0016356176535817254, 0.000973141300116777], [0.0002038854746162584, 0.001374806667812339, 0.0012197826569084055, 0.006061280097870211], [0.0, 0.019566444897257753, 0.01965513417609226, 0.04698882277706723]]}\n"
     ]
    }
   ],
   "source": [
    "# html\\4.4.a_RaceEthnicity_v1.html\n",
    "# html\\4.4.a_RaceEthnicity_v2.html\n",
    "df = get_data_race_ethnicity()\n",
    "plot_race_ethnicity(df)"
   ]
  }
 ],
 "metadata": {
  "kernelspec": {
   "display_name": "trpa",
   "language": "python",
   "name": "python3"
  },
  "language_info": {
   "codemirror_mode": {
    "name": "ipython",
    "version": 3
   },
   "file_extension": ".py",
   "mimetype": "text/x-python",
   "name": "python",
   "nbconvert_exporter": "python",
   "pygments_lexer": "ipython3",
   "version": "3.9.18"
  }
 },
 "nbformat": 4,
 "nbformat_minor": 2
}
